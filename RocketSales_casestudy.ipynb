{
 "cells": [
  {
   "cell_type": "markdown",
   "metadata": {},
   "source": [
    "Rocket Sales Corp\n",
    "\n",
    "Problem Statement:\n",
    "\n",
    "The problem is to develop a predictive model that can take into account historical data \n",
    "consisting of the advertising budgets allocated to different media channels, namely TV, radio, \n",
    "and newspaper and accurately estimate sales for future advertising campaigns.\n",
    "\n",
    "The ultimate objective is to provide insights and recommendations to businesses on how to effectively\n",
    "distribute their advertising budgets across TV, radio, and newspaper in order to optimize sales and \n",
    "maximize their return on investment (ROI)."
   ]
  },
  {
   "cell_type": "markdown",
   "metadata": {},
   "source": [
    "# Importing libraries / Read data"
   ]
  },
  {
   "cell_type": "code",
   "execution_count": 208,
   "metadata": {},
   "outputs": [],
   "source": [
    "import pandas as pd\n",
    "import numpy as np\n",
    "import matplotlib.pyplot as plt\n",
    "import seaborn as sns"
   ]
  },
  {
   "cell_type": "code",
   "execution_count": 209,
   "metadata": {},
   "outputs": [],
   "source": [
    "from sklearn.linear_model import LinearRegression\n",
    "from sklearn.model_selection import train_test_split\n",
    "from sklearn.metrics import r2_score, mean_absolute_error, mean_squared_error"
   ]
  },
  {
   "cell_type": "code",
   "execution_count": 210,
   "metadata": {},
   "outputs": [],
   "source": [
    "import warnings\n",
    "warnings.filterwarnings('ignore')"
   ]
  },
  {
   "cell_type": "code",
   "execution_count": 211,
   "metadata": {},
   "outputs": [],
   "source": [
    "df = pd.read_csv('Advertising.csv')"
   ]
  },
  {
   "cell_type": "code",
   "execution_count": 212,
   "metadata": {},
   "outputs": [],
   "source": [
    "pd.set_option('display.max_rows', 500)\n",
    "pd.set_option('display.max_columns', 500)\n",
    "pd.set_option('display.width', 1000)"
   ]
  },
  {
   "cell_type": "markdown",
   "metadata": {},
   "source": [
    "## 1. Exploratory Data Analysis"
   ]
  },
  {
   "cell_type": "markdown",
   "metadata": {},
   "source": [
    "## Shape of the data"
   ]
  },
  {
   "cell_type": "code",
   "execution_count": 213,
   "metadata": {},
   "outputs": [
    {
     "data": {
      "text/plain": [
       "(200, 5)"
      ]
     },
     "execution_count": 213,
     "metadata": {},
     "output_type": "execute_result"
    }
   ],
   "source": [
    "df.shape"
   ]
  },
  {
   "cell_type": "markdown",
   "metadata": {},
   "source": [
    "## Number and data types of variables"
   ]
  },
  {
   "cell_type": "code",
   "execution_count": 214,
   "metadata": {},
   "outputs": [
    {
     "name": "stdout",
     "output_type": "stream",
     "text": [
      "<class 'pandas.core.frame.DataFrame'>\n",
      "RangeIndex: 200 entries, 0 to 199\n",
      "Data columns (total 5 columns):\n",
      " #   Column      Non-Null Count  Dtype  \n",
      "---  ------      --------------  -----  \n",
      " 0   Unnamed: 0  200 non-null    int64  \n",
      " 1   TV          200 non-null    float64\n",
      " 2   Radio       200 non-null    float64\n",
      " 3   Newspaper   200 non-null    float64\n",
      " 4   Sales       200 non-null    float64\n",
      "dtypes: float64(4), int64(1)\n",
      "memory usage: 7.9 KB\n"
     ]
    }
   ],
   "source": [
    "df.info()"
   ]
  },
  {
   "cell_type": "code",
   "execution_count": 215,
   "metadata": {},
   "outputs": [
    {
     "data": {
      "text/html": [
       "<div>\n",
       "<style scoped>\n",
       "    .dataframe tbody tr th:only-of-type {\n",
       "        vertical-align: middle;\n",
       "    }\n",
       "\n",
       "    .dataframe tbody tr th {\n",
       "        vertical-align: top;\n",
       "    }\n",
       "\n",
       "    .dataframe thead th {\n",
       "        text-align: right;\n",
       "    }\n",
       "</style>\n",
       "<table border=\"1\" class=\"dataframe\">\n",
       "  <thead>\n",
       "    <tr style=\"text-align: right;\">\n",
       "      <th></th>\n",
       "      <th>Unnamed: 0</th>\n",
       "      <th>TV</th>\n",
       "      <th>Radio</th>\n",
       "      <th>Newspaper</th>\n",
       "      <th>Sales</th>\n",
       "    </tr>\n",
       "  </thead>\n",
       "  <tbody>\n",
       "    <tr>\n",
       "      <th>0</th>\n",
       "      <td>1</td>\n",
       "      <td>230.1</td>\n",
       "      <td>37.8</td>\n",
       "      <td>69.2</td>\n",
       "      <td>22.1</td>\n",
       "    </tr>\n",
       "    <tr>\n",
       "      <th>1</th>\n",
       "      <td>2</td>\n",
       "      <td>44.5</td>\n",
       "      <td>39.3</td>\n",
       "      <td>45.1</td>\n",
       "      <td>10.4</td>\n",
       "    </tr>\n",
       "    <tr>\n",
       "      <th>2</th>\n",
       "      <td>3</td>\n",
       "      <td>17.2</td>\n",
       "      <td>45.9</td>\n",
       "      <td>69.3</td>\n",
       "      <td>9.3</td>\n",
       "    </tr>\n",
       "    <tr>\n",
       "      <th>3</th>\n",
       "      <td>4</td>\n",
       "      <td>151.5</td>\n",
       "      <td>41.3</td>\n",
       "      <td>58.5</td>\n",
       "      <td>18.5</td>\n",
       "    </tr>\n",
       "    <tr>\n",
       "      <th>4</th>\n",
       "      <td>5</td>\n",
       "      <td>180.8</td>\n",
       "      <td>10.8</td>\n",
       "      <td>58.4</td>\n",
       "      <td>12.9</td>\n",
       "    </tr>\n",
       "  </tbody>\n",
       "</table>\n",
       "</div>"
      ],
      "text/plain": [
       "   Unnamed: 0     TV  Radio  Newspaper  Sales\n",
       "0           1  230.1   37.8       69.2   22.1\n",
       "1           2   44.5   39.3       45.1   10.4\n",
       "2           3   17.2   45.9       69.3    9.3\n",
       "3           4  151.5   41.3       58.5   18.5\n",
       "4           5  180.8   10.8       58.4   12.9"
      ]
     },
     "execution_count": 215,
     "metadata": {},
     "output_type": "execute_result"
    }
   ],
   "source": [
    "df.head()"
   ]
  },
  {
   "cell_type": "code",
   "execution_count": 216,
   "metadata": {},
   "outputs": [],
   "source": [
    "df.drop(columns = ['Unnamed: 0'],inplace = True)"
   ]
  },
  {
   "cell_type": "markdown",
   "metadata": {},
   "source": [
    "## Five point summary (Statistical summary)"
   ]
  },
  {
   "cell_type": "code",
   "execution_count": 217,
   "metadata": {},
   "outputs": [
    {
     "data": {
      "text/html": [
       "<div>\n",
       "<style scoped>\n",
       "    .dataframe tbody tr th:only-of-type {\n",
       "        vertical-align: middle;\n",
       "    }\n",
       "\n",
       "    .dataframe tbody tr th {\n",
       "        vertical-align: top;\n",
       "    }\n",
       "\n",
       "    .dataframe thead th {\n",
       "        text-align: right;\n",
       "    }\n",
       "</style>\n",
       "<table border=\"1\" class=\"dataframe\">\n",
       "  <thead>\n",
       "    <tr style=\"text-align: right;\">\n",
       "      <th></th>\n",
       "      <th>TV</th>\n",
       "      <th>Radio</th>\n",
       "      <th>Newspaper</th>\n",
       "      <th>Sales</th>\n",
       "    </tr>\n",
       "  </thead>\n",
       "  <tbody>\n",
       "    <tr>\n",
       "      <th>count</th>\n",
       "      <td>200.000000</td>\n",
       "      <td>200.000000</td>\n",
       "      <td>200.000000</td>\n",
       "      <td>200.000000</td>\n",
       "    </tr>\n",
       "    <tr>\n",
       "      <th>mean</th>\n",
       "      <td>147.042500</td>\n",
       "      <td>23.264000</td>\n",
       "      <td>30.554000</td>\n",
       "      <td>14.022500</td>\n",
       "    </tr>\n",
       "    <tr>\n",
       "      <th>std</th>\n",
       "      <td>85.854236</td>\n",
       "      <td>14.846809</td>\n",
       "      <td>21.778621</td>\n",
       "      <td>5.217457</td>\n",
       "    </tr>\n",
       "    <tr>\n",
       "      <th>min</th>\n",
       "      <td>0.700000</td>\n",
       "      <td>0.000000</td>\n",
       "      <td>0.300000</td>\n",
       "      <td>1.600000</td>\n",
       "    </tr>\n",
       "    <tr>\n",
       "      <th>25%</th>\n",
       "      <td>74.375000</td>\n",
       "      <td>9.975000</td>\n",
       "      <td>12.750000</td>\n",
       "      <td>10.375000</td>\n",
       "    </tr>\n",
       "    <tr>\n",
       "      <th>50%</th>\n",
       "      <td>149.750000</td>\n",
       "      <td>22.900000</td>\n",
       "      <td>25.750000</td>\n",
       "      <td>12.900000</td>\n",
       "    </tr>\n",
       "    <tr>\n",
       "      <th>75%</th>\n",
       "      <td>218.825000</td>\n",
       "      <td>36.525000</td>\n",
       "      <td>45.100000</td>\n",
       "      <td>17.400000</td>\n",
       "    </tr>\n",
       "    <tr>\n",
       "      <th>max</th>\n",
       "      <td>296.400000</td>\n",
       "      <td>49.600000</td>\n",
       "      <td>114.000000</td>\n",
       "      <td>27.000000</td>\n",
       "    </tr>\n",
       "  </tbody>\n",
       "</table>\n",
       "</div>"
      ],
      "text/plain": [
       "               TV       Radio   Newspaper       Sales\n",
       "count  200.000000  200.000000  200.000000  200.000000\n",
       "mean   147.042500   23.264000   30.554000   14.022500\n",
       "std     85.854236   14.846809   21.778621    5.217457\n",
       "min      0.700000    0.000000    0.300000    1.600000\n",
       "25%     74.375000    9.975000   12.750000   10.375000\n",
       "50%    149.750000   22.900000   25.750000   12.900000\n",
       "75%    218.825000   36.525000   45.100000   17.400000\n",
       "max    296.400000   49.600000  114.000000   27.000000"
      ]
     },
     "execution_count": 217,
     "metadata": {},
     "output_type": "execute_result"
    }
   ],
   "source": [
    "df.describe()"
   ]
  },
  {
   "cell_type": "markdown",
   "metadata": {},
   "source": [
    "## Missing values"
   ]
  },
  {
   "cell_type": "code",
   "execution_count": 218,
   "metadata": {},
   "outputs": [
    {
     "data": {
      "text/plain": [
       "TV           0\n",
       "Radio        0\n",
       "Newspaper    0\n",
       "Sales        0\n",
       "dtype: int64"
      ]
     },
     "execution_count": 218,
     "metadata": {},
     "output_type": "execute_result"
    }
   ],
   "source": [
    "df.isnull().sum()"
   ]
  },
  {
   "cell_type": "markdown",
   "metadata": {},
   "source": [
    "## Observations\n",
    "- There are 200 records with 4 features.\n",
    "- All the features are of type float\n",
    "- There are no null values in the dataset."
   ]
  },
  {
   "cell_type": "markdown",
   "metadata": {},
   "source": [
    "##  Non-Graphical Analysis: Value counts and unique attributes"
   ]
  },
  {
   "cell_type": "code",
   "execution_count": 219,
   "metadata": {},
   "outputs": [
    {
     "name": "stdout",
     "output_type": "stream",
     "text": [
      "TV :  190\n",
      "199.8    2\n",
      "17.2     2\n",
      "177.0    2\n",
      "222.4    2\n",
      "240.1    2\n",
      "184.9    2\n",
      "197.6    2\n",
      "237.4    2\n",
      "76.4     2\n",
      "109.8    2\n",
      "8.7      1\n",
      "8.6      1\n",
      "120.2    1\n",
      "57.5     1\n",
      "62.3     1\n",
      "180.8    1\n",
      "151.5    1\n",
      "23.8     1\n",
      "214.7    1\n",
      "66.1     1\n",
      "67.8     1\n",
      "97.5     1\n",
      "228.3    1\n",
      "204.1    1\n",
      "195.4    1\n",
      "142.9    1\n",
      "281.4    1\n",
      "69.2     1\n",
      "147.3    1\n",
      "218.4    1\n",
      "262.9    1\n",
      "206.9    1\n",
      "239.9    1\n",
      "290.7    1\n",
      "66.9     1\n",
      "248.8    1\n",
      "70.6     1\n",
      "292.9    1\n",
      "112.9    1\n",
      "97.2     1\n",
      "265.6    1\n",
      "95.7     1\n",
      "266.9    1\n",
      "89.7     1\n",
      "74.7     1\n",
      "43.1     1\n",
      "228.0    1\n",
      "202.5    1\n",
      "293.6    1\n",
      "227.2    1\n",
      "25.1     1\n",
      "175.1    1\n",
      "13.2     1\n",
      "5.4      1\n",
      "100.4    1\n",
      "16.9     1\n",
      "261.3    1\n",
      "182.6    1\n",
      "262.7    1\n",
      "198.9    1\n",
      "7.3      1\n",
      "136.2    1\n",
      "210.8    1\n",
      "210.7    1\n",
      "53.5     1\n",
      "239.3    1\n",
      "129.4    1\n",
      "102.7    1\n",
      "131.1    1\n",
      "69.0     1\n",
      "31.5     1\n",
      "139.3    1\n",
      "216.8    1\n",
      "199.1    1\n",
      "26.8     1\n",
      "213.4    1\n",
      "27.5     1\n",
      "296.4    1\n",
      "135.2    1\n",
      "216.4    1\n",
      "120.5    1\n",
      "289.7    1\n",
      "116.0    1\n",
      "239.8    1\n",
      "75.3     1\n",
      "68.4     1\n",
      "213.5    1\n",
      "193.2    1\n",
      "76.3     1\n",
      "110.7    1\n",
      "88.3     1\n",
      "134.3    1\n",
      "28.6     1\n",
      "217.7    1\n",
      "250.9    1\n",
      "107.4    1\n",
      "163.3    1\n",
      "44.5     1\n",
      "280.2    1\n",
      "215.4    1\n",
      "238.2    1\n",
      "87.2     1\n",
      "137.9    1\n",
      "25.0     1\n",
      "90.4     1\n",
      "13.1     1\n",
      "255.4    1\n",
      "225.8    1\n",
      "241.7    1\n",
      "175.7    1\n",
      "78.2     1\n",
      "229.5    1\n",
      "75.1     1\n",
      "139.2    1\n",
      "125.7    1\n",
      "19.4     1\n",
      "141.3    1\n",
      "18.8     1\n",
      "224.0    1\n",
      "38.0     1\n",
      "243.2    1\n",
      "209.6    1\n",
      "123.1    1\n",
      "164.5    1\n",
      "80.2     1\n",
      "8.4      1\n",
      "265.2    1\n",
      "230.1    1\n",
      "0.7      1\n",
      "36.9     1\n",
      "59.6     1\n",
      "220.3    1\n",
      "219.8    1\n",
      "25.6     1\n",
      "48.3     1\n",
      "7.8      1\n",
      "273.7    1\n",
      "43.0     1\n",
      "73.4     1\n",
      "193.7    1\n",
      "220.5    1\n",
      "104.6    1\n",
      "96.2     1\n",
      "140.3    1\n",
      "121.0    1\n",
      "44.7     1\n",
      "139.5    1\n",
      "170.2    1\n",
      "85.7     1\n",
      "187.9    1\n",
      "171.3    1\n",
      "187.8    1\n",
      "4.1      1\n",
      "93.9     1\n",
      "149.8    1\n",
      "11.7     1\n",
      "131.7    1\n",
      "172.5    1\n",
      "188.4    1\n",
      "19.6     1\n",
      "163.5    1\n",
      "117.2    1\n",
      "234.5    1\n",
      "17.9     1\n",
      "206.8    1\n",
      "284.3    1\n",
      "50.0     1\n",
      "280.7    1\n",
      "168.4    1\n",
      "248.4    1\n",
      "191.1    1\n",
      "276.7    1\n",
      "165.6    1\n",
      "156.6    1\n",
      "218.5    1\n",
      "56.2     1\n",
      "287.6    1\n",
      "253.8    1\n",
      "205.0    1\n",
      "276.9    1\n",
      "283.6    1\n",
      "286.0    1\n",
      "18.7     1\n",
      "39.5     1\n",
      "75.5     1\n",
      "166.8    1\n",
      "149.7    1\n",
      "38.2     1\n",
      "94.2     1\n",
      "232.1    1\n",
      "Name: TV, dtype: int64\n",
      "\n",
      "\n",
      "RADIO :  167\n",
      "4.1     3\n",
      "5.7     3\n",
      "18.1    2\n",
      "4.9     2\n",
      "33.5    2\n",
      "24.6    2\n",
      "9.3     2\n",
      "2.6     2\n",
      "39.6    2\n",
      "2.1     2\n",
      "48.9    2\n",
      "10.8    2\n",
      "41.7    2\n",
      "27.5    2\n",
      "49.4    2\n",
      "27.7    2\n",
      "42.0    2\n",
      "1.5     2\n",
      "3.5     2\n",
      "11.6    2\n",
      "14.3    2\n",
      "36.9    2\n",
      "18.4    2\n",
      "43.9    2\n",
      "43.0    2\n",
      "49.0    2\n",
      "13.9    2\n",
      "8.4     2\n",
      "26.7    2\n",
      "16.0    2\n",
      "3.4     2\n",
      "15.9    1\n",
      "32.8    1\n",
      "19.6    1\n",
      "5.8     1\n",
      "24.0    1\n",
      "7.6     1\n",
      "15.8    1\n",
      "32.9    1\n",
      "47.7    1\n",
      "36.6    1\n",
      "20.5    1\n",
      "23.9    1\n",
      "5.1     1\n",
      "45.9    1\n",
      "41.3    1\n",
      "17.4    1\n",
      "35.1    1\n",
      "11.7    1\n",
      "16.9    1\n",
      "29.3    1\n",
      "41.5    1\n",
      "9.9     1\n",
      "22.5    1\n",
      "25.7    1\n",
      "33.4    1\n",
      "22.3    1\n",
      "12.6    1\n",
      "37.7    1\n",
      "1.4     1\n",
      "20.0    1\n",
      "17.2    1\n",
      "3.1     1\n",
      "10.1    1\n",
      "36.5    1\n",
      "42.7    1\n",
      "46.2    1\n",
      "28.8    1\n",
      "28.1    1\n",
      "19.2    1\n",
      "49.6    1\n",
      "29.5    1\n",
      "43.7    1\n",
      "7.7     1\n",
      "15.5    1\n",
      "29.6    1\n",
      "42.8    1\n",
      "14.5    1\n",
      "30.6    1\n",
      "33.0    1\n",
      "2.0     1\n",
      "9.6     1\n",
      "1.6     1\n",
      "29.9    1\n",
      "27.1    1\n",
      "36.3    1\n",
      "4.3     1\n",
      "42.3    1\n",
      "21.0    1\n",
      "31.6    1\n",
      "28.5    1\n",
      "14.0    1\n",
      "39.3    1\n",
      "25.5    1\n",
      "40.6    1\n",
      "44.5    1\n",
      "20.3    1\n",
      "28.3    1\n",
      "7.3     1\n",
      "16.7    1\n",
      "28.9    1\n",
      "46.8    1\n",
      "35.0    1\n",
      "0.8     1\n",
      "26.8    1\n",
      "21.7    1\n",
      "2.4     1\n",
      "32.3    1\n",
      "43.8    1\n",
      "39.0    1\n",
      "25.8    1\n",
      "25.9    1\n",
      "23.6    1\n",
      "20.9    1\n",
      "20.1    1\n",
      "20.6    1\n",
      "15.4    1\n",
      "38.0    1\n",
      "8.2     1\n",
      "26.9    1\n",
      "0.4     1\n",
      "0.3     1\n",
      "11.8    1\n",
      "38.9    1\n",
      "34.6    1\n",
      "37.8    1\n",
      "47.0    1\n",
      "38.6    1\n",
      "0.0     1\n",
      "12.0    1\n",
      "27.2    1\n",
      "2.9     1\n",
      "7.1     1\n",
      "30.2    1\n",
      "7.8     1\n",
      "14.8    1\n",
      "34.3    1\n",
      "47.8    1\n",
      "11.0    1\n",
      "14.7    1\n",
      "36.8    1\n",
      "35.8    1\n",
      "1.3     1\n",
      "43.5    1\n",
      "21.1    1\n",
      "39.7    1\n",
      "23.3    1\n",
      "46.4    1\n",
      "40.3    1\n",
      "1.9     1\n",
      "33.2    1\n",
      "2.3     1\n",
      "35.4    1\n",
      "37.6    1\n",
      "17.0    1\n",
      "5.2     1\n",
      "10.6    1\n",
      "3.7     1\n",
      "35.6    1\n",
      "41.1    1\n",
      "12.1    1\n",
      "28.7    1\n",
      "45.1    1\n",
      "21.3    1\n",
      "5.4     1\n",
      "10.0    1\n",
      "8.6     1\n",
      "Name: Radio, dtype: int64\n",
      "\n",
      "\n",
      "NEWSPAPER :  172\n",
      "9.3      3\n",
      "8.7      3\n",
      "25.6     3\n",
      "3.6      2\n",
      "45.1     2\n",
      "59.0     2\n",
      "52.9     2\n",
      "23.5     2\n",
      "23.2     2\n",
      "29.7     2\n",
      "37.7     2\n",
      "22.3     2\n",
      "21.4     2\n",
      "6.0      2\n",
      "38.7     2\n",
      "14.2     2\n",
      "34.6     2\n",
      "18.3     2\n",
      "8.5      2\n",
      "6.4      2\n",
      "22.9     2\n",
      "30.0     2\n",
      "7.4      2\n",
      "31.6     2\n",
      "13.1     2\n",
      "69.3     1\n",
      "21.2     1\n",
      "58.5     1\n",
      "58.4     1\n",
      "75.0     1\n",
      "11.6     1\n",
      "1.0      1\n",
      "46.0     1\n",
      "24.2     1\n",
      "4.0      1\n",
      "65.9     1\n",
      "7.2      1\n",
      "114.0    1\n",
      "55.8     1\n",
      "19.1     1\n",
      "49.6     1\n",
      "53.4     1\n",
      "32.0     1\n",
      "26.2     1\n",
      "49.8     1\n",
      "43.2     1\n",
      "38.6     1\n",
      "0.3      1\n",
      "5.0      1\n",
      "45.7     1\n",
      "39.6     1\n",
      "1.8      1\n",
      "19.5     1\n",
      "26.4     1\n",
      "43.3     1\n",
      "31.5     1\n",
      "35.7     1\n",
      "18.5     1\n",
      "49.9     1\n",
      "36.8     1\n",
      "72.3     1\n",
      "58.7     1\n",
      "15.9     1\n",
      "60.0     1\n",
      "41.4     1\n",
      "16.6     1\n",
      "54.7     1\n",
      "27.3     1\n",
      "8.4      1\n",
      "28.9     1\n",
      "0.9      1\n",
      "2.2      1\n",
      "10.2     1\n",
      "11.0     1\n",
      "27.2     1\n",
      "31.7     1\n",
      "19.3     1\n",
      "31.3     1\n",
      "89.4     1\n",
      "20.7     1\n",
      "9.4      1\n",
      "23.1     1\n",
      "36.9     1\n",
      "32.5     1\n",
      "35.6     1\n",
      "33.8     1\n",
      "65.7     1\n",
      "16.0     1\n",
      "63.2     1\n",
      "73.4     1\n",
      "51.4     1\n",
      "12.6     1\n",
      "10.9     1\n",
      "5.9      1\n",
      "22.0     1\n",
      "51.2     1\n",
      "45.9     1\n",
      "40.8     1\n",
      "24.3     1\n",
      "35.1     1\n",
      "35.2     1\n",
      "10.7     1\n",
      "34.5     1\n",
      "52.7     1\n",
      "34.4     1\n",
      "74.2     1\n",
      "14.8     1\n",
      "12.4     1\n",
      "15.6     1\n",
      "50.4     1\n",
      "25.9     1\n",
      "69.2     1\n",
      "38.9     1\n",
      "47.4     1\n",
      "12.8     1\n",
      "41.8     1\n",
      "50.6     1\n",
      "9.2      1\n",
      "2.4      1\n",
      "20.5     1\n",
      "79.2     1\n",
      "65.6     1\n",
      "43.0     1\n",
      "2.1      1\n",
      "1.7      1\n",
      "59.7     1\n",
      "56.5     1\n",
      "46.2     1\n",
      "12.9     1\n",
      "75.6     1\n",
      "37.9     1\n",
      "5.5      1\n",
      "3.2      1\n",
      "43.1     1\n",
      "20.3     1\n",
      "23.7     1\n",
      "100.9    1\n",
      "17.6     1\n",
      "17.9     1\n",
      "37.0     1\n",
      "48.7     1\n",
      "9.5      1\n",
      "5.7      1\n",
      "50.5     1\n",
      "45.2     1\n",
      "30.7     1\n",
      "49.3     1\n",
      "5.4      1\n",
      "84.8     1\n",
      "21.6     1\n",
      "19.4     1\n",
      "5.3      1\n",
      "33.0     1\n",
      "20.6     1\n",
      "11.9     1\n",
      "44.3     1\n",
      "3.7      1\n",
      "8.3      1\n",
      "27.4     1\n",
      "71.8     1\n",
      "19.6     1\n",
      "26.6     1\n",
      "18.2     1\n",
      "23.4     1\n",
      "57.6     1\n",
      "5.8      1\n",
      "13.8     1\n",
      "8.1      1\n",
      "17.0     1\n",
      "18.4     1\n",
      "9.0      1\n",
      "66.2     1\n",
      "Name: Newspaper, dtype: int64\n",
      "\n",
      "\n",
      "SALES :  121\n",
      "9.7     5\n",
      "15.9    4\n",
      "11.7    4\n",
      "12.9    4\n",
      "11.6    3\n",
      "20.7    3\n",
      "13.4    3\n",
      "10.1    3\n",
      "11.8    3\n",
      "12.2    3\n",
      "10.6    3\n",
      "13.2    3\n",
      "9.5     3\n",
      "8.7     3\n",
      "11.9    3\n",
      "18.0    3\n",
      "15.5    3\n",
      "25.4    3\n",
      "11.3    2\n",
      "16.6    2\n",
      "10.5    2\n",
      "9.3     2\n",
      "7.2     2\n",
      "17.4    2\n",
      "19.0    2\n",
      "12.5    2\n",
      "9.6     2\n",
      "12.0    2\n",
      "15.0    2\n",
      "18.9    2\n",
      "14.6    2\n",
      "7.6     2\n",
      "14.7    2\n",
      "12.8    2\n",
      "8.8     2\n",
      "19.2    2\n",
      "17.3    2\n",
      "12.6    2\n",
      "10.8    2\n",
      "11.5    2\n",
      "11.4    2\n",
      "22.6    2\n",
      "23.8    2\n",
      "10.3    2\n",
      "14.8    2\n",
      "10.9    2\n",
      "14.9    2\n",
      "20.2    2\n",
      "10.4    2\n",
      "11.0    2\n",
      "19.6    2\n",
      "5.3     2\n",
      "15.2    2\n",
      "17.1    2\n",
      "6.6     2\n",
      "7.3     2\n",
      "22.4    1\n",
      "24.2    1\n",
      "18.4    1\n",
      "18.5    1\n",
      "4.8     1\n",
      "8.6     1\n",
      "9.2     1\n",
      "5.6     1\n",
      "24.4    1\n",
      "21.4    1\n",
      "21.5    1\n",
      "8.5     1\n",
      "15.7    1\n",
      "23.2    1\n",
      "17.2    1\n",
      "14.2    1\n",
      "16.9    1\n",
      "22.2    1\n",
      "19.4    1\n",
      "11.2    1\n",
      "16.7    1\n",
      "16.0    1\n",
      "21.7    1\n",
      "13.6    1\n",
      "12.3    1\n",
      "6.9     1\n",
      "17.0    1\n",
      "18.3    1\n",
      "22.3    1\n",
      "14.0    1\n",
      "21.2    1\n",
      "10.7    1\n",
      "14.5    1\n",
      "23.7    1\n",
      "5.5     1\n",
      "15.6    1\n",
      "6.7     1\n",
      "13.3    1\n",
      "7.0     1\n",
      "9.9     1\n",
      "9.4     1\n",
      "24.7    1\n",
      "8.0     1\n",
      "5.9     1\n",
      "21.8    1\n",
      "14.1    1\n",
      "19.7    1\n",
      "17.6    1\n",
      "1.6     1\n",
      "16.1    1\n",
      "12.7    1\n",
      "5.7     1\n",
      "26.2    1\n",
      "14.4    1\n",
      "8.4     1\n",
      "27.0    1\n",
      "20.8    1\n",
      "15.3    1\n",
      "3.2     1\n",
      "20.1    1\n",
      "22.1    1\n",
      "12.4    1\n",
      "19.8    1\n",
      "8.1     1\n",
      "25.5    1\n",
      "Name: Sales, dtype: int64\n",
      "\n",
      "\n"
     ]
    }
   ],
   "source": [
    "for column in df:\n",
    "    print(column.upper(),': ',df[column].nunique())\n",
    "    print(df[column].value_counts().sort_values(ascending = False))\n",
    "    print('\\n')"
   ]
  },
  {
   "cell_type": "markdown",
   "metadata": {},
   "source": [
    "## Observation\n",
    "- About 95% of values are unique for \"TV\" feature\n",
    "- About 84% of values and about 86% of values are unique for \"Radio\" and \"Newspaper\" variables"
   ]
  },
  {
   "cell_type": "markdown",
   "metadata": {},
   "source": [
    "## Univariate Analysis \n",
    "## (distribution plots of all the continuous variable(s) barplots/countplots of all the categorical variables)"
   ]
  },
  {
   "cell_type": "code",
   "execution_count": 220,
   "metadata": {},
   "outputs": [
    {
     "data": {
      "text/plain": [
       "<matplotlib.axes._subplots.AxesSubplot at 0x22b1f4d8250>"
      ]
     },
     "execution_count": 220,
     "metadata": {},
     "output_type": "execute_result"
    },
    {
     "data": {
      "image/png": "[encoded data removed]",
      "text/plain": [
       "<Figure size 576x576 with 4 Axes>"
      ]
     },
     "metadata": {
      "needs_background": "light"
     },
     "output_type": "display_data"
    }
   ],
   "source": [
    "fig, axs = plt.subplots(2, 2, figsize=(8,8))\n",
    "\n",
    "sns.histplot(data=df, x=\"TV\", kde = True, color=\"skyblue\", ax=axs[0, 0])\n",
    "sns.histplot(data=df, x=\"Radio\", kde = True,color=\"olive\", ax=axs[0, 1])\n",
    "sns.histplot(data=df, x=\"Newspaper\", kde = True,color=\"gold\", ax=axs[1, 0])\n",
    "sns.histplot(data=df, x=\"Sales\", kde = True,color=\"teal\", ax=axs[1, 1])"
   ]
  },
  {
   "cell_type": "code",
   "execution_count": 221,
   "metadata": {},
   "outputs": [
    {
     "data": {
      "text/plain": [
       "<matplotlib.axes._subplots.AxesSubplot at 0x22b20337670>"
      ]
     },
     "execution_count": 221,
     "metadata": {},
     "output_type": "execute_result"
    },
    {
     "data": {
      "image/png": "[encoded data removed]",
      "text/plain": [
       "<Figure size 576x576 with 4 Axes>"
      ]
     },
     "metadata": {
      "needs_background": "light"
     },
     "output_type": "display_data"
    }
   ],
   "source": [
    "fig, axs = plt.subplots(2, 2, figsize=(8,8))\n",
    "\n",
    "sns.boxplot(data=df, x=\"TV\", color=\"skyblue\", ax=axs[0, 0])\n",
    "sns.boxplot(data=df, x=\"Radio\", color=\"olive\", ax=axs[0, 1])\n",
    "sns.boxplot(data=df, x=\"Newspaper\", color=\"gold\", ax=axs[1, 0])\n",
    "sns.boxplot(data=df, x=\"Sales\", color=\"teal\", ax=axs[1, 1])"
   ]
  },
  {
   "cell_type": "markdown",
   "metadata": {},
   "source": [
    "## Observation\n",
    "- All the variables are almost normally distributed\n",
    "- we can see few outliers in the 'Newspaper' feature"
   ]
  },
  {
   "cell_type": "markdown",
   "metadata": {},
   "source": [
    "## Bivariate Analysis (Relationships between important variables)"
   ]
  },
  {
   "cell_type": "markdown",
   "metadata": {},
   "source": [
    "## For correlation: Heatmaps, Pairplots"
   ]
  },
  {
   "cell_type": "code",
   "execution_count": 222,
   "metadata": {},
   "outputs": [
    {
     "data": {
      "text/html": [
       "<div>\n",
       "<style scoped>\n",
       "    .dataframe tbody tr th:only-of-type {\n",
       "        vertical-align: middle;\n",
       "    }\n",
       "\n",
       "    .dataframe tbody tr th {\n",
       "        vertical-align: top;\n",
       "    }\n",
       "\n",
       "    .dataframe thead th {\n",
       "        text-align: right;\n",
       "    }\n",
       "</style>\n",
       "<table border=\"1\" class=\"dataframe\">\n",
       "  <thead>\n",
       "    <tr style=\"text-align: right;\">\n",
       "      <th></th>\n",
       "      <th>TV</th>\n",
       "      <th>Radio</th>\n",
       "      <th>Newspaper</th>\n",
       "      <th>Sales</th>\n",
       "    </tr>\n",
       "  </thead>\n",
       "  <tbody>\n",
       "    <tr>\n",
       "      <th>TV</th>\n",
       "      <td>1.000000</td>\n",
       "      <td>0.054809</td>\n",
       "      <td>0.056648</td>\n",
       "      <td>0.782224</td>\n",
       "    </tr>\n",
       "    <tr>\n",
       "      <th>Radio</th>\n",
       "      <td>0.054809</td>\n",
       "      <td>1.000000</td>\n",
       "      <td>0.354104</td>\n",
       "      <td>0.576223</td>\n",
       "    </tr>\n",
       "    <tr>\n",
       "      <th>Newspaper</th>\n",
       "      <td>0.056648</td>\n",
       "      <td>0.354104</td>\n",
       "      <td>1.000000</td>\n",
       "      <td>0.228299</td>\n",
       "    </tr>\n",
       "    <tr>\n",
       "      <th>Sales</th>\n",
       "      <td>0.782224</td>\n",
       "      <td>0.576223</td>\n",
       "      <td>0.228299</td>\n",
       "      <td>1.000000</td>\n",
       "    </tr>\n",
       "  </tbody>\n",
       "</table>\n",
       "</div>"
      ],
      "text/plain": [
       "                 TV     Radio  Newspaper     Sales\n",
       "TV         1.000000  0.054809   0.056648  0.782224\n",
       "Radio      0.054809  1.000000   0.354104  0.576223\n",
       "Newspaper  0.056648  0.354104   1.000000  0.228299\n",
       "Sales      0.782224  0.576223   0.228299  1.000000"
      ]
     },
     "execution_count": 222,
     "metadata": {},
     "output_type": "execute_result"
    }
   ],
   "source": [
    "df.corr()"
   ]
  },
  {
   "cell_type": "markdown",
   "metadata": {},
   "source": [
    "## Heatmap"
   ]
  },
  {
   "cell_type": "code",
   "execution_count": 223,
   "metadata": {},
   "outputs": [
    {
     "data": {
      "text/plain": [
       "<matplotlib.axes._subplots.AxesSubplot at 0x22b203d1be0>"
      ]
     },
     "execution_count": 223,
     "metadata": {},
     "output_type": "execute_result"
    },
    {
     "data": {
      "image/png": "[encoded data removed]",
      "text/plain": [
       "<Figure size 432x288 with 2 Axes>"
      ]
     },
     "metadata": {
      "needs_background": "light"
     },
     "output_type": "display_data"
    }
   ],
   "source": [
    "corr = df.corr()\n",
    "sns.heatmap(corr,square=True,center=0,annot=True,cmap='coolwarm')"
   ]
  },
  {
   "cell_type": "markdown",
   "metadata": {},
   "source": [
    "## Pairplot"
   ]
  },
  {
   "cell_type": "code",
   "execution_count": 224,
   "metadata": {},
   "outputs": [
    {
     "data": {
      "text/plain": [
       "<seaborn.axisgrid.PairGrid at 0x22b20423370>"
      ]
     },
     "execution_count": 224,
     "metadata": {},
     "output_type": "execute_result"
    },
    {
     "data": {
      "image/png": "[encoded data removed]",
      "text/plain": [
       "<Figure size 720x720 with 14 Axes>"
      ]
     },
     "metadata": {
      "needs_background": "light"
     },
     "output_type": "display_data"
    }
   ],
   "source": [
    "sns.pairplot(df,corner=True)"
   ]
  },
  {
   "cell_type": "code",
   "execution_count": 225,
   "metadata": {},
   "outputs": [
    {
     "data": {
      "text/plain": [
       "Index(['TV', 'Radio', 'Newspaper', 'Sales'], dtype='object')"
      ]
     },
     "execution_count": 225,
     "metadata": {},
     "output_type": "execute_result"
    }
   ],
   "source": [
    "df.columns"
   ]
  },
  {
   "cell_type": "code",
   "execution_count": null,
   "metadata": {},
   "outputs": [],
   "source": []
  },
  {
   "cell_type": "markdown",
   "metadata": {},
   "source": [
    "## Observations\n",
    "- Based on the heatmap and pairplot,\n",
    "    - \"TV\" predictor variable is highly correlated with 'Sales' Target variable\n",
    "    - \"Radio\" predictor variable is moderately correlated with 'Sales' varibale\n",
    "    - \"Newspaper\" feature is weakly correlated with Target variable"
   ]
  },
  {
   "cell_type": "markdown",
   "metadata": {},
   "source": [
    "## Business Insights based on Non-Graphical and Visual Analysis"
   ]
  },
  {
   "cell_type": "markdown",
   "metadata": {},
   "source": [
    "#### Comments on the range of attributes\n",
    "- There are 200 records with 4 features\n",
    "- All the features are of numerical type\n",
    "- There are no missing values in the data"
   ]
  },
  {
   "cell_type": "markdown",
   "metadata": {},
   "source": [
    "#### Comments on the distribution of the variables and relationship between them\n",
    "- All the variables are almost normally distributed\n",
    "- We can see few outliers in the 'Newspaper' feature\n",
    "- 'TV' is strongly positively correlated with sales and 'Radio' feature is also positively correlated with 'Sales' but not as much as 'TV'. \n",
    "- 'Newspaper' is weakly correlated with 'Sales'.\n",
    "- Independent variables 'TV','Newspaper','Radio' are not correlated with each other"
   ]
  },
  {
   "cell_type": "markdown",
   "metadata": {},
   "source": [
    "### comments for each univariate and bivariate plot\n",
    "- Based on the histplot, all the variables follows normal distribution\n",
    "- Based on the boxplot, no outliers are present for variables 'TV','Radio', 'Sales' whereas few outliers are present for the variable 'Newspaper'\n",
    "- Based on the heatmap and pairplot, 'TV' and 'Radio' variables are correlated with 'Sales' target feature."
   ]
  },
  {
   "cell_type": "markdown",
   "metadata": {},
   "source": [
    "## 2. Data Preprocessing"
   ]
  },
  {
   "cell_type": "markdown",
   "metadata": {},
   "source": [
    "### Checking duplicates"
   ]
  },
  {
   "cell_type": "code",
   "execution_count": 226,
   "metadata": {},
   "outputs": [
    {
     "data": {
      "text/plain": [
       "False"
      ]
     },
     "execution_count": 226,
     "metadata": {},
     "output_type": "execute_result"
    }
   ],
   "source": [
    "df.duplicated().any()"
   ]
  },
  {
   "cell_type": "markdown",
   "metadata": {},
   "source": [
    "## Checking null values"
   ]
  },
  {
   "cell_type": "code",
   "execution_count": 227,
   "metadata": {},
   "outputs": [
    {
     "data": {
      "text/plain": [
       "TV           0\n",
       "Radio        0\n",
       "Newspaper    0\n",
       "Sales        0\n",
       "dtype: int64"
      ]
     },
     "execution_count": 227,
     "metadata": {},
     "output_type": "execute_result"
    }
   ],
   "source": [
    "df.isnull().sum()"
   ]
  },
  {
   "cell_type": "markdown",
   "metadata": {},
   "source": [
    "## Outlier detection"
   ]
  },
  {
   "cell_type": "code",
   "execution_count": 228,
   "metadata": {},
   "outputs": [
    {
     "data": {
      "text/plain": [
       "<matplotlib.axes._subplots.AxesSubplot at 0x22b1f53ee80>"
      ]
     },
     "execution_count": 228,
     "metadata": {},
     "output_type": "execute_result"
    },
    {
     "data": {
      "image/png": "[encoded data removed]",
      "text/plain": [
       "<Figure size 432x288 with 1 Axes>"
      ]
     },
     "metadata": {
      "needs_background": "light"
     },
     "output_type": "display_data"
    }
   ],
   "source": [
    "sns.boxplot(data=df)"
   ]
  },
  {
   "cell_type": "code",
   "execution_count": 229,
   "metadata": {},
   "outputs": [],
   "source": [
    "df1 = df.copy()"
   ]
  },
  {
   "cell_type": "markdown",
   "metadata": {},
   "source": [
    "## Outlier Removal"
   ]
  },
  {
   "cell_type": "code",
   "execution_count": 230,
   "metadata": {},
   "outputs": [],
   "source": [
    "def remove_outlier(col):\n",
    "    sorted(col)\n",
    "    Q1,Q3=np.percentile(col,[25,75])\n",
    "    IQR=Q3-Q1\n",
    "    lower_range= Q1-(1.5 * IQR)\n",
    "    upper_range= Q3+(1.5 * IQR)\n",
    "    return lower_range, upper_range"
   ]
  },
  {
   "cell_type": "code",
   "execution_count": 231,
   "metadata": {},
   "outputs": [],
   "source": [
    "for column in df1.columns:\n",
    "    lr,ur=remove_outlier(df1[column])\n",
    "    df1[column]=np.where(df1[column]>ur,ur,df1[column])\n",
    "    df1[column]=np.where(df1[column]<lr,lr,df1[column])"
   ]
  },
  {
   "cell_type": "code",
   "execution_count": 232,
   "metadata": {},
   "outputs": [
    {
     "data": {
      "image/png": "[encoded data removed]",
      "text/plain": [
       "<Figure size 720x720 with 1 Axes>"
      ]
     },
     "metadata": {
      "needs_background": "light"
     },
     "output_type": "display_data"
    }
   ],
   "source": [
    "plt.figure(figsize=(10,10))\n",
    "df.boxplot(vert=0)\n",
    "plt.title('Before Outlier Removal',fontsize=16)\n",
    "plt.show()"
   ]
  },
  {
   "cell_type": "code",
   "execution_count": 233,
   "metadata": {},
   "outputs": [
    {
     "data": {
      "image/png": "[encoded data removed]",
      "text/plain": [
       "<Figure size 720x720 with 1 Axes>"
      ]
     },
     "metadata": {
      "needs_background": "light"
     },
     "output_type": "display_data"
    }
   ],
   "source": [
    "plt.figure(figsize=(10,10))\n",
    "df1.boxplot(vert=0)\n",
    "plt.title('After Outlier Removal',fontsize=16)\n",
    "plt.show()"
   ]
  },
  {
   "cell_type": "code",
   "execution_count": 234,
   "metadata": {},
   "outputs": [
    {
     "data": {
      "text/html": [
       "<div>\n",
       "<style scoped>\n",
       "    .dataframe tbody tr th:only-of-type {\n",
       "        vertical-align: middle;\n",
       "    }\n",
       "\n",
       "    .dataframe tbody tr th {\n",
       "        vertical-align: top;\n",
       "    }\n",
       "\n",
       "    .dataframe thead th {\n",
       "        text-align: right;\n",
       "    }\n",
       "</style>\n",
       "<table border=\"1\" class=\"dataframe\">\n",
       "  <thead>\n",
       "    <tr style=\"text-align: right;\">\n",
       "      <th></th>\n",
       "      <th>TV</th>\n",
       "      <th>Radio</th>\n",
       "      <th>Newspaper</th>\n",
       "      <th>Sales</th>\n",
       "    </tr>\n",
       "  </thead>\n",
       "  <tbody>\n",
       "    <tr>\n",
       "      <th>0</th>\n",
       "      <td>230.1</td>\n",
       "      <td>37.8</td>\n",
       "      <td>69.2</td>\n",
       "      <td>22.1</td>\n",
       "    </tr>\n",
       "    <tr>\n",
       "      <th>1</th>\n",
       "      <td>44.5</td>\n",
       "      <td>39.3</td>\n",
       "      <td>45.1</td>\n",
       "      <td>10.4</td>\n",
       "    </tr>\n",
       "    <tr>\n",
       "      <th>2</th>\n",
       "      <td>17.2</td>\n",
       "      <td>45.9</td>\n",
       "      <td>69.3</td>\n",
       "      <td>9.3</td>\n",
       "    </tr>\n",
       "    <tr>\n",
       "      <th>3</th>\n",
       "      <td>151.5</td>\n",
       "      <td>41.3</td>\n",
       "      <td>58.5</td>\n",
       "      <td>18.5</td>\n",
       "    </tr>\n",
       "    <tr>\n",
       "      <th>4</th>\n",
       "      <td>180.8</td>\n",
       "      <td>10.8</td>\n",
       "      <td>58.4</td>\n",
       "      <td>12.9</td>\n",
       "    </tr>\n",
       "  </tbody>\n",
       "</table>\n",
       "</div>"
      ],
      "text/plain": [
       "      TV  Radio  Newspaper  Sales\n",
       "0  230.1   37.8       69.2   22.1\n",
       "1   44.5   39.3       45.1   10.4\n",
       "2   17.2   45.9       69.3    9.3\n",
       "3  151.5   41.3       58.5   18.5\n",
       "4  180.8   10.8       58.4   12.9"
      ]
     },
     "execution_count": 234,
     "metadata": {},
     "output_type": "execute_result"
    }
   ],
   "source": [
    "df1.head()"
   ]
  },
  {
   "cell_type": "code",
   "execution_count": 235,
   "metadata": {},
   "outputs": [
    {
     "data": {
      "text/plain": [
       "(200, 4)"
      ]
     },
     "execution_count": 235,
     "metadata": {},
     "output_type": "execute_result"
    }
   ],
   "source": [
    "df1.shape"
   ]
  },
  {
   "cell_type": "markdown",
   "metadata": {},
   "source": [
    "## Data preparation for modeling"
   ]
  },
  {
   "cell_type": "markdown",
   "metadata": {},
   "source": [
    "from sklearn.preprocessing import StandardScaler\n",
    "std_scale = StandardScaler()\n",
    "df1['TV'] = std_scale.fit_transform(df1[['TV']])\n",
    "df1['Radio'] = std_scale.fit_transform(df1[['Radio']])\n",
    "df1['Newspaper'] = std_scale.fit_transform(df1[['Newspaper']])"
   ]
  },
  {
   "cell_type": "code",
   "execution_count": 236,
   "metadata": {},
   "outputs": [],
   "source": [
    "X = df1[[\"TV\",\"Radio\",\"Newspaper\"]] \n",
    "y = df1.Sales"
   ]
  },
  {
   "cell_type": "markdown",
   "metadata": {},
   "source": [
    "## Model building "
   ]
  },
  {
   "cell_type": "markdown",
   "metadata": {},
   "source": [
    "### Build the Linear Regression model and comment on the model statistics"
   ]
  },
  {
   "cell_type": "code",
   "execution_count": 237,
   "metadata": {},
   "outputs": [],
   "source": [
    "# Hold out method - divide the whole dataset into two sets. Then use one for training and the other for model evaluation. \n",
    "# If the dataset is relatively small (n < 10,000), 70:30 would be a suitable choice."
   ]
  },
  {
   "cell_type": "code",
   "execution_count": 238,
   "metadata": {},
   "outputs": [],
   "source": [
    "# Split X and y into training and test set in 70:30 ratio\n",
    "xtrain,xtest,ytrain,ytest = train_test_split(X,y,test_size=0.3,random_state=42)"
   ]
  },
  {
   "cell_type": "code",
   "execution_count": 239,
   "metadata": {},
   "outputs": [
    {
     "data": {
      "text/plain": [
       "LinearRegression(copy_X=True, fit_intercept=True, n_jobs=None, normalize=False)"
      ]
     },
     "execution_count": 239,
     "metadata": {},
     "output_type": "execute_result"
    }
   ],
   "source": [
    "model = LinearRegression()\n",
    "model.fit(xtrain,ytrain)"
   ]
  },
  {
   "cell_type": "code",
   "execution_count": 240,
   "metadata": {},
   "outputs": [
    {
     "data": {
      "text/plain": [
       "(140, 3)"
      ]
     },
     "execution_count": 240,
     "metadata": {},
     "output_type": "execute_result"
    }
   ],
   "source": [
    "xtrain.shape"
   ]
  },
  {
   "cell_type": "code",
   "execution_count": 241,
   "metadata": {},
   "outputs": [
    {
     "data": {
      "text/plain": [
       "(140,)"
      ]
     },
     "execution_count": 241,
     "metadata": {},
     "output_type": "execute_result"
    }
   ],
   "source": [
    "ytrain.shape"
   ]
  },
  {
   "cell_type": "markdown",
   "metadata": {},
   "source": [
    "### Display model coefficients with column names"
   ]
  },
  {
   "cell_type": "code",
   "execution_count": 242,
   "metadata": {},
   "outputs": [
    {
     "data": {
      "text/html": [
       "<style type=\"text/css\">\n",
       "</style>\n",
       "<table id=\"T_e91e3_\">\n",
       "  <thead>\n",
       "    <tr>\n",
       "      <th class=\"col_heading level0 col0\" >Features</th>\n",
       "      <th class=\"col_heading level0 col1\" >Coefficients</th>\n",
       "    </tr>\n",
       "  </thead>\n",
       "  <tbody>\n",
       "    <tr>\n",
       "      <td id=\"T_e91e3_row0_col0\" class=\"data row0 col0\" >TV</td>\n",
       "      <td id=\"T_e91e3_row0_col1\" class=\"data row0 col1\" >0.044066</td>\n",
       "    </tr>\n",
       "    <tr>\n",
       "      <td id=\"T_e91e3_row1_col0\" class=\"data row1 col0\" >Radio</td>\n",
       "      <td id=\"T_e91e3_row1_col1\" class=\"data row1 col1\" >0.199287</td>\n",
       "    </tr>\n",
       "    <tr>\n",
       "      <td id=\"T_e91e3_row2_col0\" class=\"data row2 col0\" >Newspaper</td>\n",
       "      <td id=\"T_e91e3_row2_col1\" class=\"data row2 col1\" >0.006923</td>\n",
       "    </tr>\n",
       "  </tbody>\n",
       "</table>\n"
      ],
      "text/plain": [
       "<pandas.io.formats.style.Styler at 0x22b2025b220>"
      ]
     },
     "execution_count": 242,
     "metadata": {},
     "output_type": "execute_result"
    }
   ],
   "source": [
    "pd.DataFrame(zip(xtrain.columns, model.coef_),columns=['Features', 'Coefficients']).style.hide_index()"
   ]
  },
  {
   "cell_type": "code",
   "execution_count": 243,
   "metadata": {},
   "outputs": [
    {
     "name": "stdout",
     "output_type": "stream",
     "text": [
      "2.7070118464367727\n"
     ]
    }
   ],
   "source": [
    "print(model.intercept_)"
   ]
  },
  {
   "cell_type": "code",
   "execution_count": 244,
   "metadata": {},
   "outputs": [
    {
     "data": {
      "text/plain": [
       "0.9055124964622553"
      ]
     },
     "execution_count": 244,
     "metadata": {},
     "output_type": "execute_result"
    }
   ],
   "source": [
    "# R square on training data\n",
    "model.score(xtrain, ytrain)"
   ]
  },
  {
   "cell_type": "markdown",
   "metadata": {},
   "source": [
    "### Linear Regression using statsmodels"
   ]
  },
  {
   "cell_type": "code",
   "execution_count": 245,
   "metadata": {},
   "outputs": [
    {
     "data": {
      "text/html": [
       "<div>\n",
       "<style scoped>\n",
       "    .dataframe tbody tr th:only-of-type {\n",
       "        vertical-align: middle;\n",
       "    }\n",
       "\n",
       "    .dataframe tbody tr th {\n",
       "        vertical-align: top;\n",
       "    }\n",
       "\n",
       "    .dataframe thead th {\n",
       "        text-align: right;\n",
       "    }\n",
       "</style>\n",
       "<table border=\"1\" class=\"dataframe\">\n",
       "  <thead>\n",
       "    <tr style=\"text-align: right;\">\n",
       "      <th></th>\n",
       "      <th>TV</th>\n",
       "      <th>Radio</th>\n",
       "      <th>Newspaper</th>\n",
       "      <th>Sales</th>\n",
       "    </tr>\n",
       "  </thead>\n",
       "  <tbody>\n",
       "    <tr>\n",
       "      <th>169</th>\n",
       "      <td>284.3</td>\n",
       "      <td>10.6</td>\n",
       "      <td>6.4</td>\n",
       "      <td>15.0</td>\n",
       "    </tr>\n",
       "    <tr>\n",
       "      <th>97</th>\n",
       "      <td>184.9</td>\n",
       "      <td>21.0</td>\n",
       "      <td>22.0</td>\n",
       "      <td>15.5</td>\n",
       "    </tr>\n",
       "    <tr>\n",
       "      <th>31</th>\n",
       "      <td>112.9</td>\n",
       "      <td>17.4</td>\n",
       "      <td>38.6</td>\n",
       "      <td>11.9</td>\n",
       "    </tr>\n",
       "    <tr>\n",
       "      <th>12</th>\n",
       "      <td>23.8</td>\n",
       "      <td>35.1</td>\n",
       "      <td>65.9</td>\n",
       "      <td>9.2</td>\n",
       "    </tr>\n",
       "    <tr>\n",
       "      <th>35</th>\n",
       "      <td>290.7</td>\n",
       "      <td>4.1</td>\n",
       "      <td>8.5</td>\n",
       "      <td>12.8</td>\n",
       "    </tr>\n",
       "  </tbody>\n",
       "</table>\n",
       "</div>"
      ],
      "text/plain": [
       "        TV  Radio  Newspaper  Sales\n",
       "169  284.3   10.6        6.4   15.0\n",
       "97   184.9   21.0       22.0   15.5\n",
       "31   112.9   17.4       38.6   11.9\n",
       "12    23.8   35.1       65.9    9.2\n",
       "35   290.7    4.1        8.5   12.8"
      ]
     },
     "execution_count": 245,
     "metadata": {},
     "output_type": "execute_result"
    }
   ],
   "source": [
    "data_train = pd.concat([xtrain, ytrain], axis=1)\n",
    "data_test=pd.concat([xtest,ytest],axis=1)\n",
    "data_train.head()"
   ]
  },
  {
   "cell_type": "code",
   "execution_count": 246,
   "metadata": {},
   "outputs": [],
   "source": [
    "expr1= 'Sales ~ TV + Radio + Newspaper'"
   ]
  },
  {
   "cell_type": "code",
   "execution_count": 247,
   "metadata": {},
   "outputs": [
    {
     "data": {
      "text/plain": [
       "Intercept    2.707012\n",
       "TV           0.044066\n",
       "Radio        0.199287\n",
       "Newspaper    0.006923\n",
       "dtype: float64"
      ]
     },
     "execution_count": 247,
     "metadata": {},
     "output_type": "execute_result"
    }
   ],
   "source": [
    "import statsmodels.formula.api as smf\n",
    "stat_full = smf.ols(formula=expr1,data=data_train).fit()\n",
    "stat_full.params"
   ]
  },
  {
   "cell_type": "code",
   "execution_count": 248,
   "metadata": {},
   "outputs": [
    {
     "data": {
      "text/html": [
       "<table class=\"simpletable\">\n",
       "<caption>OLS Regression Results</caption>\n",
       "<tr>\n",
       "  <th>Dep. Variable:</th>          <td>Sales</td>      <th>  R-squared:         </th> <td>   0.906</td>\n",
       "</tr>\n",
       "<tr>\n",
       "  <th>Model:</th>                   <td>OLS</td>       <th>  Adj. R-squared:    </th> <td>   0.903</td>\n",
       "</tr>\n",
       "<tr>\n",
       "  <th>Method:</th>             <td>Least Squares</td>  <th>  F-statistic:       </th> <td>   434.4</td>\n",
       "</tr>\n",
       "<tr>\n",
       "  <th>Date:</th>             <td>Sat, 29 Jul 2023</td> <th>  Prob (F-statistic):</th> <td>1.89e-69</td>\n",
       "</tr>\n",
       "<tr>\n",
       "  <th>Time:</th>                 <td>11:13:10</td>     <th>  Log-Likelihood:    </th> <td> -262.21</td>\n",
       "</tr>\n",
       "<tr>\n",
       "  <th>No. Observations:</th>      <td>   140</td>      <th>  AIC:               </th> <td>   532.4</td>\n",
       "</tr>\n",
       "<tr>\n",
       "  <th>Df Residuals:</th>          <td>   136</td>      <th>  BIC:               </th> <td>   544.2</td>\n",
       "</tr>\n",
       "<tr>\n",
       "  <th>Df Model:</th>              <td>     3</td>      <th>                     </th>     <td> </td>   \n",
       "</tr>\n",
       "<tr>\n",
       "  <th>Covariance Type:</th>      <td>nonrobust</td>    <th>                     </th>     <td> </td>   \n",
       "</tr>\n",
       "</table>\n",
       "<table class=\"simpletable\">\n",
       "<tr>\n",
       "      <td></td>         <th>coef</th>     <th>std err</th>      <th>t</th>      <th>P>|t|</th>  <th>[0.025</th>    <th>0.975]</th>  \n",
       "</tr>\n",
       "<tr>\n",
       "  <th>Intercept</th> <td>    2.7070</td> <td>    0.374</td> <td>    7.229</td> <td> 0.000</td> <td>    1.966</td> <td>    3.448</td>\n",
       "</tr>\n",
       "<tr>\n",
       "  <th>TV</th>        <td>    0.0441</td> <td>    0.002</td> <td>   27.224</td> <td> 0.000</td> <td>    0.041</td> <td>    0.047</td>\n",
       "</tr>\n",
       "<tr>\n",
       "  <th>Radio</th>     <td>    0.1993</td> <td>    0.010</td> <td>   20.189</td> <td> 0.000</td> <td>    0.180</td> <td>    0.219</td>\n",
       "</tr>\n",
       "<tr>\n",
       "  <th>Newspaper</th> <td>    0.0069</td> <td>    0.007</td> <td>    0.985</td> <td> 0.326</td> <td>   -0.007</td> <td>    0.021</td>\n",
       "</tr>\n",
       "</table>\n",
       "<table class=\"simpletable\">\n",
       "<tr>\n",
       "  <th>Omnibus:</th>       <td>68.408</td> <th>  Durbin-Watson:     </th> <td>   2.286</td>\n",
       "</tr>\n",
       "<tr>\n",
       "  <th>Prob(Omnibus):</th> <td> 0.000</td> <th>  Jarque-Bera (JB):  </th> <td> 324.878</td>\n",
       "</tr>\n",
       "<tr>\n",
       "  <th>Skew:</th>          <td>-1.708</td> <th>  Prob(JB):          </th> <td>2.84e-71</td>\n",
       "</tr>\n",
       "<tr>\n",
       "  <th>Kurtosis:</th>      <td> 9.635</td> <th>  Cond. No.          </th> <td>    501.</td>\n",
       "</tr>\n",
       "</table><br/><br/>Warnings:<br/>[1] Standard Errors assume that the covariance matrix of the errors is correctly specified."
      ],
      "text/plain": [
       "<class 'statsmodels.iolib.summary.Summary'>\n",
       "\"\"\"\n",
       "                            OLS Regression Results                            \n",
       "==============================================================================\n",
       "Dep. Variable:                  Sales   R-squared:                       0.906\n",
       "Model:                            OLS   Adj. R-squared:                  0.903\n",
       "Method:                 Least Squares   F-statistic:                     434.4\n",
       "Date:                Sat, 29 Jul 2023   Prob (F-statistic):           1.89e-69\n",
       "Time:                        11:13:10   Log-Likelihood:                -262.21\n",
       "No. Observations:                 140   AIC:                             532.4\n",
       "Df Residuals:                     136   BIC:                             544.2\n",
       "Df Model:                           3                                         \n",
       "Covariance Type:            nonrobust                                         \n",
       "==============================================================================\n",
       "                 coef    std err          t      P>|t|      [0.025      0.975]\n",
       "------------------------------------------------------------------------------\n",
       "Intercept      2.7070      0.374      7.229      0.000       1.966       3.448\n",
       "TV             0.0441      0.002     27.224      0.000       0.041       0.047\n",
       "Radio          0.1993      0.010     20.189      0.000       0.180       0.219\n",
       "Newspaper      0.0069      0.007      0.985      0.326      -0.007       0.021\n",
       "==============================================================================\n",
       "Omnibus:                       68.408   Durbin-Watson:                   2.286\n",
       "Prob(Omnibus):                  0.000   Jarque-Bera (JB):              324.878\n",
       "Skew:                          -1.708   Prob(JB):                     2.84e-71\n",
       "Kurtosis:                       9.635   Cond. No.                         501.\n",
       "==============================================================================\n",
       "\n",
       "Warnings:\n",
       "[1] Standard Errors assume that the covariance matrix of the errors is correctly specified.\n",
       "\"\"\""
      ]
     },
     "execution_count": 248,
     "metadata": {},
     "output_type": "execute_result"
    }
   ],
   "source": [
    "stat_full.summary()"
   ]
  },
  {
   "cell_type": "code",
   "execution_count": 249,
   "metadata": {},
   "outputs": [],
   "source": [
    "expr2= 'Sales ~ TV + Radio '"
   ]
  },
  {
   "cell_type": "code",
   "execution_count": 250,
   "metadata": {},
   "outputs": [
    {
     "data": {
      "text/plain": [
       "Intercept    2.837617\n",
       "TV           0.044077\n",
       "Radio        0.202606\n",
       "dtype: float64"
      ]
     },
     "execution_count": 250,
     "metadata": {},
     "output_type": "execute_result"
    }
   ],
   "source": [
    "stat_TVR = smf.ols(formula=expr2,data=data_train).fit()\n",
    "stat_TVR.params"
   ]
  },
  {
   "cell_type": "code",
   "execution_count": 251,
   "metadata": {},
   "outputs": [
    {
     "data": {
      "text/html": [
       "<table class=\"simpletable\">\n",
       "<caption>OLS Regression Results</caption>\n",
       "<tr>\n",
       "  <th>Dep. Variable:</th>          <td>Sales</td>      <th>  R-squared:         </th> <td>   0.905</td>\n",
       "</tr>\n",
       "<tr>\n",
       "  <th>Model:</th>                   <td>OLS</td>       <th>  Adj. R-squared:    </th> <td>   0.903</td>\n",
       "</tr>\n",
       "<tr>\n",
       "  <th>Method:</th>             <td>Least Squares</td>  <th>  F-statistic:       </th> <td>   651.3</td>\n",
       "</tr>\n",
       "<tr>\n",
       "  <th>Date:</th>             <td>Sat, 29 Jul 2023</td> <th>  Prob (F-statistic):</th> <td>1.06e-70</td>\n",
       "</tr>\n",
       "<tr>\n",
       "  <th>Time:</th>                 <td>11:13:11</td>     <th>  Log-Likelihood:    </th> <td> -262.71</td>\n",
       "</tr>\n",
       "<tr>\n",
       "  <th>No. Observations:</th>      <td>   140</td>      <th>  AIC:               </th> <td>   531.4</td>\n",
       "</tr>\n",
       "<tr>\n",
       "  <th>Df Residuals:</th>          <td>   137</td>      <th>  BIC:               </th> <td>   540.2</td>\n",
       "</tr>\n",
       "<tr>\n",
       "  <th>Df Model:</th>              <td>     2</td>      <th>                     </th>     <td> </td>   \n",
       "</tr>\n",
       "<tr>\n",
       "  <th>Covariance Type:</th>      <td>nonrobust</td>    <th>                     </th>     <td> </td>   \n",
       "</tr>\n",
       "</table>\n",
       "<table class=\"simpletable\">\n",
       "<tr>\n",
       "      <td></td>         <th>coef</th>     <th>std err</th>      <th>t</th>      <th>P>|t|</th>  <th>[0.025</th>    <th>0.975]</th>  \n",
       "</tr>\n",
       "<tr>\n",
       "  <th>Intercept</th> <td>    2.8376</td> <td>    0.350</td> <td>    8.103</td> <td> 0.000</td> <td>    2.145</td> <td>    3.530</td>\n",
       "</tr>\n",
       "<tr>\n",
       "  <th>TV</th>        <td>    0.0441</td> <td>    0.002</td> <td>   27.234</td> <td> 0.000</td> <td>    0.041</td> <td>    0.047</td>\n",
       "</tr>\n",
       "<tr>\n",
       "  <th>Radio</th>     <td>    0.2026</td> <td>    0.009</td> <td>   21.837</td> <td> 0.000</td> <td>    0.184</td> <td>    0.221</td>\n",
       "</tr>\n",
       "</table>\n",
       "<table class=\"simpletable\">\n",
       "<tr>\n",
       "  <th>Omnibus:</th>       <td>72.173</td> <th>  Durbin-Watson:     </th> <td>   2.283</td>\n",
       "</tr>\n",
       "<tr>\n",
       "  <th>Prob(Omnibus):</th> <td> 0.000</td> <th>  Jarque-Bera (JB):  </th> <td> 377.670</td>\n",
       "</tr>\n",
       "<tr>\n",
       "  <th>Skew:</th>          <td>-1.780</td> <th>  Prob(JB):          </th> <td>9.77e-83</td>\n",
       "</tr>\n",
       "<tr>\n",
       "  <th>Kurtosis:</th>      <td>10.216</td> <th>  Cond. No.          </th> <td>    463.</td>\n",
       "</tr>\n",
       "</table><br/><br/>Warnings:<br/>[1] Standard Errors assume that the covariance matrix of the errors is correctly specified."
      ],
      "text/plain": [
       "<class 'statsmodels.iolib.summary.Summary'>\n",
       "\"\"\"\n",
       "                            OLS Regression Results                            \n",
       "==============================================================================\n",
       "Dep. Variable:                  Sales   R-squared:                       0.905\n",
       "Model:                            OLS   Adj. R-squared:                  0.903\n",
       "Method:                 Least Squares   F-statistic:                     651.3\n",
       "Date:                Sat, 29 Jul 2023   Prob (F-statistic):           1.06e-70\n",
       "Time:                        11:13:11   Log-Likelihood:                -262.71\n",
       "No. Observations:                 140   AIC:                             531.4\n",
       "Df Residuals:                     137   BIC:                             540.2\n",
       "Df Model:                           2                                         \n",
       "Covariance Type:            nonrobust                                         \n",
       "==============================================================================\n",
       "                 coef    std err          t      P>|t|      [0.025      0.975]\n",
       "------------------------------------------------------------------------------\n",
       "Intercept      2.8376      0.350      8.103      0.000       2.145       3.530\n",
       "TV             0.0441      0.002     27.234      0.000       0.041       0.047\n",
       "Radio          0.2026      0.009     21.837      0.000       0.184       0.221\n",
       "==============================================================================\n",
       "Omnibus:                       72.173   Durbin-Watson:                   2.283\n",
       "Prob(Omnibus):                  0.000   Jarque-Bera (JB):              377.670\n",
       "Skew:                          -1.780   Prob(JB):                     9.77e-83\n",
       "Kurtosis:                      10.216   Cond. No.                         463.\n",
       "==============================================================================\n",
       "\n",
       "Warnings:\n",
       "[1] Standard Errors assume that the covariance matrix of the errors is correctly specified.\n",
       "\"\"\""
      ]
     },
     "execution_count": 251,
     "metadata": {},
     "output_type": "execute_result"
    }
   ],
   "source": [
    "stat_TVR.summary()"
   ]
  },
  {
   "cell_type": "code",
   "execution_count": 252,
   "metadata": {},
   "outputs": [],
   "source": [
    "expr3= 'Sales ~ TV + Newspaper'"
   ]
  },
  {
   "cell_type": "code",
   "execution_count": 253,
   "metadata": {},
   "outputs": [
    {
     "data": {
      "text/plain": [
       "Intercept    5.619976\n",
       "TV           0.046013\n",
       "Newspaper    0.055309\n",
       "dtype: float64"
      ]
     },
     "execution_count": 253,
     "metadata": {},
     "output_type": "execute_result"
    }
   ],
   "source": [
    "stat_TVN = smf.ols(formula=expr3,data=data_train).fit()\n",
    "stat_TVN.params"
   ]
  },
  {
   "cell_type": "code",
   "execution_count": 254,
   "metadata": {},
   "outputs": [
    {
     "data": {
      "text/html": [
       "<table class=\"simpletable\">\n",
       "<caption>OLS Regression Results</caption>\n",
       "<tr>\n",
       "  <th>Dep. Variable:</th>          <td>Sales</td>      <th>  R-squared:         </th> <td>   0.622</td>\n",
       "</tr>\n",
       "<tr>\n",
       "  <th>Model:</th>                   <td>OLS</td>       <th>  Adj. R-squared:    </th> <td>   0.617</td>\n",
       "</tr>\n",
       "<tr>\n",
       "  <th>Method:</th>             <td>Least Squares</td>  <th>  F-statistic:       </th> <td>   112.9</td>\n",
       "</tr>\n",
       "<tr>\n",
       "  <th>Date:</th>             <td>Sat, 29 Jul 2023</td> <th>  Prob (F-statistic):</th> <td>1.08e-29</td>\n",
       "</tr>\n",
       "<tr>\n",
       "  <th>Time:</th>                 <td>11:13:11</td>     <th>  Log-Likelihood:    </th> <td> -359.20</td>\n",
       "</tr>\n",
       "<tr>\n",
       "  <th>No. Observations:</th>      <td>   140</td>      <th>  AIC:               </th> <td>   724.4</td>\n",
       "</tr>\n",
       "<tr>\n",
       "  <th>Df Residuals:</th>          <td>   137</td>      <th>  BIC:               </th> <td>   733.2</td>\n",
       "</tr>\n",
       "<tr>\n",
       "  <th>Df Model:</th>              <td>     2</td>      <th>                     </th>     <td> </td>   \n",
       "</tr>\n",
       "<tr>\n",
       "  <th>Covariance Type:</th>      <td>nonrobust</td>    <th>                     </th>     <td> </td>   \n",
       "</tr>\n",
       "</table>\n",
       "<table class=\"simpletable\">\n",
       "<tr>\n",
       "      <td></td>         <th>coef</th>     <th>std err</th>      <th>t</th>      <th>P>|t|</th>  <th>[0.025</th>    <th>0.975]</th>  \n",
       "</tr>\n",
       "<tr>\n",
       "  <th>Intercept</th> <td>    5.6200</td> <td>    0.688</td> <td>    8.164</td> <td> 0.000</td> <td>    4.259</td> <td>    6.981</td>\n",
       "</tr>\n",
       "<tr>\n",
       "  <th>TV</th>        <td>    0.0460</td> <td>    0.003</td> <td>   14.296</td> <td> 0.000</td> <td>    0.040</td> <td>    0.052</td>\n",
       "</tr>\n",
       "<tr>\n",
       "  <th>Newspaper</th> <td>    0.0553</td> <td>    0.013</td> <td>    4.205</td> <td> 0.000</td> <td>    0.029</td> <td>    0.081</td>\n",
       "</tr>\n",
       "</table>\n",
       "<table class=\"simpletable\">\n",
       "<tr>\n",
       "  <th>Omnibus:</th>       <td> 0.302</td> <th>  Durbin-Watson:     </th> <td>   2.204</td>\n",
       "</tr>\n",
       "<tr>\n",
       "  <th>Prob(Omnibus):</th> <td> 0.860</td> <th>  Jarque-Bera (JB):  </th> <td>   0.365</td>\n",
       "</tr>\n",
       "<tr>\n",
       "  <th>Skew:</th>          <td>-0.108</td> <th>  Prob(JB):          </th> <td>   0.833</td>\n",
       "</tr>\n",
       "<tr>\n",
       "  <th>Kurtosis:</th>      <td> 2.874</td> <th>  Cond. No.          </th> <td>    459.</td>\n",
       "</tr>\n",
       "</table><br/><br/>Warnings:<br/>[1] Standard Errors assume that the covariance matrix of the errors is correctly specified."
      ],
      "text/plain": [
       "<class 'statsmodels.iolib.summary.Summary'>\n",
       "\"\"\"\n",
       "                            OLS Regression Results                            \n",
       "==============================================================================\n",
       "Dep. Variable:                  Sales   R-squared:                       0.622\n",
       "Model:                            OLS   Adj. R-squared:                  0.617\n",
       "Method:                 Least Squares   F-statistic:                     112.9\n",
       "Date:                Sat, 29 Jul 2023   Prob (F-statistic):           1.08e-29\n",
       "Time:                        11:13:11   Log-Likelihood:                -359.20\n",
       "No. Observations:                 140   AIC:                             724.4\n",
       "Df Residuals:                     137   BIC:                             733.2\n",
       "Df Model:                           2                                         \n",
       "Covariance Type:            nonrobust                                         \n",
       "==============================================================================\n",
       "                 coef    std err          t      P>|t|      [0.025      0.975]\n",
       "------------------------------------------------------------------------------\n",
       "Intercept      5.6200      0.688      8.164      0.000       4.259       6.981\n",
       "TV             0.0460      0.003     14.296      0.000       0.040       0.052\n",
       "Newspaper      0.0553      0.013      4.205      0.000       0.029       0.081\n",
       "==============================================================================\n",
       "Omnibus:                        0.302   Durbin-Watson:                   2.204\n",
       "Prob(Omnibus):                  0.860   Jarque-Bera (JB):                0.365\n",
       "Skew:                          -0.108   Prob(JB):                        0.833\n",
       "Kurtosis:                       2.874   Cond. No.                         459.\n",
       "==============================================================================\n",
       "\n",
       "Warnings:\n",
       "[1] Standard Errors assume that the covariance matrix of the errors is correctly specified.\n",
       "\"\"\""
      ]
     },
     "execution_count": 254,
     "metadata": {},
     "output_type": "execute_result"
    }
   ],
   "source": [
    "stat_TVN.summary()"
   ]
  },
  {
   "cell_type": "markdown",
   "metadata": {},
   "source": [
    "### Observation\n",
    "- Based on the statistical model OLS summary,it is evident that R2 score remains unchanged when TV,Radio predictor variables are considered for predicting Sales. \n",
    "- Also, adding Newspaper variable shows no significant improvement in the Sales prediction. \n",
    "- Thus important variables contributing to Sales are TV and Radio based on the analysis."
   ]
  },
  {
   "cell_type": "code",
   "execution_count": 255,
   "metadata": {},
   "outputs": [
    {
     "name": "stdout",
     "output_type": "stream",
     "text": [
      "(2.71) * Intercept + (0.04) * TV + (0.2) * Radio + (0.01) * Newspaper + "
     ]
    }
   ],
   "source": [
    "for i,j in np.array(stat_full.params.reset_index()):\n",
    "    print('({}) * {} +'.format(round(j,2),i),end=' ')"
   ]
  },
  {
   "cell_type": "markdown",
   "metadata": {},
   "source": [
    "- When the advertising budget for Radio increases by 1 unit, Sales will be increased to 0.2 units, keeping all other\n",
    "  predictors constant. \n",
    "- Similarly, when the advertising budget for TV increases by 1 unit, Sales will be increased to 0.04 units,\n",
    "  keeping all other predictors constant.\n",
    "- The TV and Radio variables are substantial predictors of sales since coefficient estimates are high compared to\n",
    "  Newspaper predictor variable"
   ]
  },
  {
   "cell_type": "markdown",
   "metadata": {},
   "source": [
    "## Testing the assumptions of linear regression model "
   ]
  },
  {
   "cell_type": "markdown",
   "metadata": {},
   "source": [
    "### Multicollinearity check by VIF score"
   ]
  },
  {
   "cell_type": "code",
   "execution_count": 256,
   "metadata": {},
   "outputs": [],
   "source": [
    "from statsmodels.stats.outliers_influence import variance_inflation_factor"
   ]
  },
  {
   "cell_type": "code",
   "execution_count": 257,
   "metadata": {},
   "outputs": [
    {
     "data": {
      "text/html": [
       "<div>\n",
       "<style scoped>\n",
       "    .dataframe tbody tr th:only-of-type {\n",
       "        vertical-align: middle;\n",
       "    }\n",
       "\n",
       "    .dataframe tbody tr th {\n",
       "        vertical-align: top;\n",
       "    }\n",
       "\n",
       "    .dataframe thead th {\n",
       "        text-align: right;\n",
       "    }\n",
       "</style>\n",
       "<table border=\"1\" class=\"dataframe\">\n",
       "  <thead>\n",
       "    <tr style=\"text-align: right;\">\n",
       "      <th></th>\n",
       "      <th>Features</th>\n",
       "      <th>VIF</th>\n",
       "    </tr>\n",
       "  </thead>\n",
       "  <tbody>\n",
       "    <tr>\n",
       "      <th>1</th>\n",
       "      <td>Radio</td>\n",
       "      <td>3.30</td>\n",
       "    </tr>\n",
       "    <tr>\n",
       "      <th>2</th>\n",
       "      <td>Newspaper</td>\n",
       "      <td>3.12</td>\n",
       "    </tr>\n",
       "    <tr>\n",
       "      <th>0</th>\n",
       "      <td>TV</td>\n",
       "      <td>2.50</td>\n",
       "    </tr>\n",
       "  </tbody>\n",
       "</table>\n",
       "</div>"
      ],
      "text/plain": [
       "    Features   VIF\n",
       "1      Radio  3.30\n",
       "2  Newspaper  3.12\n",
       "0         TV  2.50"
      ]
     },
     "execution_count": 257,
     "metadata": {},
     "output_type": "execute_result"
    }
   ],
   "source": [
    "vif = pd.DataFrame()\n",
    "X_t = X\n",
    "vif['Features'] = X_t.columns\n",
    "vif['VIF'] = [variance_inflation_factor(X_t.values, i) for i in range(X_t.shape[1])]\n",
    "vif['VIF'] = round(vif['VIF'], 2)\n",
    "vif = vif.sort_values(by = \"VIF\", ascending = False)\n",
    "vif"
   ]
  },
  {
   "cell_type": "markdown",
   "metadata": {},
   "source": [
    "##### There are no significant multicollinearity issues as VIF < 5"
   ]
  },
  {
   "cell_type": "markdown",
   "metadata": {},
   "source": [
    "## Mean of residuals is nearly zero"
   ]
  },
  {
   "cell_type": "code",
   "execution_count": 258,
   "metadata": {},
   "outputs": [],
   "source": [
    "pred=model.fit(xtrain, ytrain).predict(xtest)"
   ]
  },
  {
   "cell_type": "code",
   "execution_count": 259,
   "metadata": {},
   "outputs": [
    {
     "name": "stdout",
     "output_type": "stream",
     "text": [
      "Mean of Residuals -0.03629818763624595\n"
     ]
    }
   ],
   "source": [
    "residuals = ytest-pred\n",
    "mean_residuals = np.mean(residuals)\n",
    "print(\"Mean of Residuals {}\".format(mean_residuals))"
   ]
  },
  {
   "cell_type": "markdown",
   "metadata": {},
   "source": [
    "Mean of the residuals are nearly 0"
   ]
  },
  {
   "cell_type": "markdown",
   "metadata": {},
   "source": [
    "## Linearity of variables"
   ]
  },
  {
   "cell_type": "code",
   "execution_count": 260,
   "metadata": {},
   "outputs": [
    {
     "data": {
      "text/plain": [
       "<seaborn.axisgrid.PairGrid at 0x22b1f38e610>"
      ]
     },
     "execution_count": 260,
     "metadata": {},
     "output_type": "execute_result"
    },
    {
     "data": {
      "image/png": "[encoded data removed]",
      "text/plain": [
       "<Figure size 1512x504 with 3 Axes>"
      ]
     },
     "metadata": {
      "needs_background": "light"
     },
     "output_type": "display_data"
    }
   ],
   "source": [
    "sns.pairplot(df1, x_vars = ['TV','Radio','Newspaper'], y_vars='Sales',size=7, kind='reg')"
   ]
  },
  {
   "cell_type": "markdown",
   "metadata": {},
   "source": [
    "All the Predictor variables TV, Radio and Newspaper are linearly dependent on Sales."
   ]
  },
  {
   "cell_type": "markdown",
   "metadata": {},
   "source": [
    "##  Test for Homoscedasticity"
   ]
  },
  {
   "cell_type": "raw",
   "metadata": {},
   "source": [
    "The null hypothesis (H0): Homoscedasticity is present.\n",
    "The alternative hypothesis: (Ha): Homoscedasticity is not present     "
   ]
  },
  {
   "cell_type": "code",
   "execution_count": 261,
   "metadata": {},
   "outputs": [
    {
     "data": {
      "text/plain": [
       "[('Lagrange multiplier statistic', 5.700012362754583),\n",
       " ('p-value', 0.12715322528295478),\n",
       " ('f-value', 1.924054983108667),\n",
       " ('f p-value', 0.12861190419451776)]"
      ]
     },
     "execution_count": 261,
     "metadata": {},
     "output_type": "execute_result"
    }
   ],
   "source": [
    "from statsmodels.compat import lzip\n",
    "import statsmodels.stats.api as sms\n",
    "\n",
    "#perform Bresuch-Pagan test\n",
    "names = ['Lagrange multiplier statistic', 'p-value',\n",
    "        'f-value', 'f p-value']\n",
    "test = sms.het_breuschpagan(stat_full.resid, stat_full.model.exog)\n",
    "lzip(names, test)"
   ]
  },
  {
   "cell_type": "raw",
   "metadata": {},
   "source": [
    "The Lagrange multiplier statistic for the test is 5.7000 and the corresponding p-value is 0.1271.\n",
    "Because this p-value is not less than 0.05, we fail to reject the null hypothesis.\n",
    "Thus Homoscedasticity is present"
   ]
  },
  {
   "cell_type": "markdown",
   "metadata": {},
   "source": [
    "## Normality of residuals (almost bell-shaped curve in residuals distribution, points in QQ plot are almost all on the line)"
   ]
  },
  {
   "cell_type": "raw",
   "metadata": {},
   "source": [
    "H0: Our data is normally distributed.\n",
    "H1: Our data is not normally distributed."
   ]
  },
  {
   "cell_type": "code",
   "execution_count": 262,
   "metadata": {},
   "outputs": [
    {
     "data": {
      "text/plain": [
       "ShapiroResult(statistic=0.89471036195755, pvalue=1.6332050378764507e-08)"
      ]
     },
     "execution_count": 262,
     "metadata": {},
     "output_type": "execute_result"
    }
   ],
   "source": [
    "from scipy.stats import shapiro\n",
    "\n",
    "#perform Shapiro-Wilk test\n",
    "shapiro(stat_full.resid)"
   ]
  },
  {
   "cell_type": "raw",
   "metadata": {},
   "source": [
    "Since p-value < 0.05, our data is not nomally distributed\n",
    "If the data appear to have non-normally distributed random errors, but do have a constant\n",
    "standard deviation, we can always fit models to several sets of transformed data and then \n",
    "check to see which transformation appears to produce the most normally distributed residuals.\n",
    "Transorfmations include log, sqrt and multiplicative inverse as these three transformations are \n",
    "good ones to start with since they work well in so many situations. Here, sqrt works better than\n",
    "log and reciprocal."
   ]
  },
  {
   "cell_type": "code",
   "execution_count": 263,
   "metadata": {},
   "outputs": [
    {
     "name": "stdout",
     "output_type": "stream",
     "text": [
      "-0.20764640144519822\n"
     ]
    }
   ],
   "source": [
    "print(np.sqrt(residuals).skew())"
   ]
  },
  {
   "cell_type": "code",
   "execution_count": 264,
   "metadata": {},
   "outputs": [
    {
     "data": {
      "text/plain": [
       "<matplotlib.axes._subplots.AxesSubplot at 0x22b224c1940>"
      ]
     },
     "execution_count": 264,
     "metadata": {},
     "output_type": "execute_result"
    },
    {
     "data": {
      "image/png": "[encoded data removed]",
      "text/plain": [
       "<Figure size 432x288 with 1 Axes>"
      ]
     },
     "metadata": {
      "needs_background": "light"
     },
     "output_type": "display_data"
    }
   ],
   "source": [
    "sns.distplot(np.sqrt(residuals),kde=True)"
   ]
  },
  {
   "cell_type": "code",
   "execution_count": 265,
   "metadata": {},
   "outputs": [],
   "source": [
    "from scipy import stats"
   ]
  },
  {
   "cell_type": "code",
   "execution_count": 266,
   "metadata": {},
   "outputs": [
    {
     "data": {
      "text/plain": [
       "<matplotlib.legend.Legend at 0x22b22810af0>"
      ]
     },
     "execution_count": 266,
     "metadata": {},
     "output_type": "execute_result"
    },
    {
     "data": {
      "image/png": "[encoded data removed]",
      "text/plain": [
       "<Figure size 432x288 with 1 Axes>"
      ]
     },
     "metadata": {
      "needs_background": "light"
     },
     "output_type": "display_data"
    }
   ],
   "source": [
    "stats.probplot(residuals,dist=\"norm\", plot= plt) # \n",
    "plt.title(\"MODEL Residuals Q-Q Plot\")\n",
    "plt.legend(['Actual','Theoretical'])"
   ]
  },
  {
   "cell_type": "code",
   "execution_count": 267,
   "metadata": {},
   "outputs": [
    {
     "data": {
      "text/plain": [
       "<matplotlib.legend.Legend at 0x22b2286a670>"
      ]
     },
     "execution_count": 267,
     "metadata": {},
     "output_type": "execute_result"
    },
    {
     "data": {
      "image/png": "[encoded data removed]",
      "text/plain": [
       "<Figure size 432x288 with 1 Axes>"
      ]
     },
     "metadata": {
      "needs_background": "light"
     },
     "output_type": "display_data"
    }
   ],
   "source": [
    "stats.probplot(np.sqrt(residuals),dist=\"norm\", plot= plt) # \n",
    "plt.title(\"MODEL Residuals Q-Q Plot\")\n",
    "plt.legend(['Actual','Theoretical'])"
   ]
  },
  {
   "cell_type": "markdown",
   "metadata": {},
   "source": [
    "## Model Performance Evaluation"
   ]
  },
  {
   "cell_type": "code",
   "execution_count": 268,
   "metadata": {},
   "outputs": [],
   "source": [
    "from sklearn import metrics\n",
    "lin_model = LinearRegression()\n",
    "predicted_train=lin_model.fit(xtrain, ytrain).predict(xtrain)\n",
    "predicted_test=lin_model.fit(xtrain, ytrain).predict(xtest)"
   ]
  },
  {
   "cell_type": "markdown",
   "metadata": {},
   "source": [
    "#### Metrics  - MAE, RMSE, R2, Adj R2"
   ]
  },
  {
   "cell_type": "code",
   "execution_count": 269,
   "metadata": {},
   "outputs": [
    {
     "data": {
      "text/plain": [
       "1.1585227557802849"
      ]
     },
     "execution_count": 269,
     "metadata": {},
     "output_type": "execute_result"
    }
   ],
   "source": [
    "# MAE on training data\n",
    "metrics.mean_absolute_error(ytrain,predicted_train)"
   ]
  },
  {
   "cell_type": "code",
   "execution_count": 270,
   "metadata": {},
   "outputs": [
    {
     "data": {
      "text/plain": [
       "1.5095671519141913"
      ]
     },
     "execution_count": 270,
     "metadata": {},
     "output_type": "execute_result"
    }
   ],
   "source": [
    "# MAE on test data\n",
    "metrics.mean_absolute_error(ytest,predicted_test)"
   ]
  },
  {
   "cell_type": "code",
   "execution_count": 271,
   "metadata": {},
   "outputs": [
    {
     "data": {
      "text/plain": [
       "1.5746256091552049"
      ]
     },
     "execution_count": 271,
     "metadata": {},
     "output_type": "execute_result"
    }
   ],
   "source": [
    "# RMSE on Training data\n",
    "np.sqrt(metrics.mean_squared_error(ytrain,predicted_train))"
   ]
  },
  {
   "cell_type": "code",
   "execution_count": 272,
   "metadata": {},
   "outputs": [
    {
     "data": {
      "text/plain": [
       "1.9472864778494812"
      ]
     },
     "execution_count": 272,
     "metadata": {},
     "output_type": "execute_result"
    }
   ],
   "source": [
    "# RMSE on Testing data\n",
    "np.sqrt(metrics.mean_squared_error(ytest,predicted_test))"
   ]
  },
  {
   "cell_type": "code",
   "execution_count": 273,
   "metadata": {},
   "outputs": [
    {
     "data": {
      "text/plain": [
       "0.9055124964622553"
      ]
     },
     "execution_count": 273,
     "metadata": {},
     "output_type": "execute_result"
    }
   ],
   "source": [
    "# R2 score on Training data\n",
    "lin_model.score(xtrain,ytrain)"
   ]
  },
  {
   "cell_type": "code",
   "execution_count": 274,
   "metadata": {},
   "outputs": [
    {
     "data": {
      "text/plain": [
       "0.8611251045785457"
      ]
     },
     "execution_count": 274,
     "metadata": {},
     "output_type": "execute_result"
    }
   ],
   "source": [
    "# R2 score on Testing data\n",
    "lin_model.score(xtest,ytest)"
   ]
  },
  {
   "cell_type": "code",
   "execution_count": 275,
   "metadata": {},
   "outputs": [
    {
     "data": {
      "text/plain": [
       "0.9034282132959816"
      ]
     },
     "execution_count": 275,
     "metadata": {},
     "output_type": "execute_result"
    }
   ],
   "source": [
    "# Adjusted R2 score in training data\n",
    "1 - (1-lin_model.score(xtrain, ytrain))*(len(ytrain)-1)/(len(ytrain)-xtrain.shape[1]-1)"
   ]
  },
  {
   "cell_type": "code",
   "execution_count": 276,
   "metadata": {},
   "outputs": [
    {
     "data": {
      "text/plain": [
       "0.8536853780381106"
      ]
     },
     "execution_count": 276,
     "metadata": {},
     "output_type": "execute_result"
    }
   ],
   "source": [
    "# Adjusted R2 score in test data\n",
    "1 - (1-lin_model.score(xtest, ytest))*(len(ytest)-1)/(len(ytest)-xtest.shape[1]-1)"
   ]
  },
  {
   "cell_type": "markdown",
   "metadata": {},
   "source": [
    "## Experiments for improvement"
   ]
  },
  {
   "cell_type": "code",
   "execution_count": 277,
   "metadata": {},
   "outputs": [
    {
     "name": "stdout",
     "output_type": "stream",
     "text": [
      "(160, 2)\n",
      "(40, 2)\n",
      "(160,)\n",
      "(40,)\n"
     ]
    }
   ],
   "source": [
    "features_2 = X.drop('Newspaper', axis = 1)\n",
    "train_x,test_x, train_y,test_y = train_test_split(features_2, y, test_size = 0.2, random_state = 42)\n",
    "print(train_x.shape)\n",
    "print(test_x.shape)\n",
    "print(train_y.shape)\n",
    "print(test_y.shape)"
   ]
  },
  {
   "cell_type": "code",
   "execution_count": 278,
   "metadata": {},
   "outputs": [
    {
     "data": {
      "text/plain": [
       "LinearRegression(copy_X=True, fit_intercept=True, n_jobs=None, normalize=False)"
      ]
     },
     "execution_count": 278,
     "metadata": {},
     "output_type": "execute_result"
    }
   ],
   "source": [
    "lin_reg_model = LinearRegression()\n",
    "lin_reg_model.fit(train_x,train_y)"
   ]
  },
  {
   "cell_type": "code",
   "execution_count": 279,
   "metadata": {},
   "outputs": [
    {
     "data": {
      "text/plain": [
       "0.8955982149747163"
      ]
     },
     "execution_count": 279,
     "metadata": {},
     "output_type": "execute_result"
    }
   ],
   "source": [
    "lin_reg_model.score(train_x,train_y)"
   ]
  },
  {
   "cell_type": "code",
   "execution_count": 280,
   "metadata": {},
   "outputs": [
    {
     "data": {
      "text/plain": [
       "0.9005833101920357"
      ]
     },
     "execution_count": 280,
     "metadata": {},
     "output_type": "execute_result"
    }
   ],
   "source": [
    "lin_reg_model.score(test_x,test_y)"
   ]
  },
  {
   "cell_type": "code",
   "execution_count": 281,
   "metadata": {},
   "outputs": [
    {
     "data": {
      "text/plain": [
       "0.8942682559298082"
      ]
     },
     "execution_count": 281,
     "metadata": {},
     "output_type": "execute_result"
    }
   ],
   "source": [
    "# Adjusted R2 score in training data\n",
    "1 - (1-lin_reg_model.score(train_x,train_y))*(len(train_y)-1)/(len(train_y)-train_x.shape[1]-1)"
   ]
  },
  {
   "cell_type": "code",
   "execution_count": 282,
   "metadata": {},
   "outputs": [
    {
     "data": {
      "text/plain": [
       "0.8952094350672809"
      ]
     },
     "execution_count": 282,
     "metadata": {},
     "output_type": "execute_result"
    }
   ],
   "source": [
    "# Adjusted R2 score in test data\n",
    "1 - (1-lin_reg_model.score(test_x, test_y))*(len(test_y)-1)/(len(test_y)-test_x.shape[1]-1)"
   ]
  },
  {
   "cell_type": "raw",
   "metadata": {},
   "source": [
    "Observation\n",
    "With TV and Radio predictor variables, r2 score,adj r2 score values of train and test data are similar which shows that they are the important variables for prediction. "
   ]
  },
  {
   "cell_type": "markdown",
   "metadata": {},
   "source": [
    "## Actionable Insights & Recommendations"
   ]
  },
  {
   "cell_type": "markdown",
   "metadata": {},
   "source": [
    "### Comments on significance of predictor variables"
   ]
  },
  {
   "cell_type": "markdown",
   "metadata": {},
   "source": [
    "- Because radio and television advertising are more effective predictors of sales than newspaper advertising,\n",
    "  with low p-values and highly significant t-statistic values, it is suggested that these media should be given priority \n",
    "  over newspapers. \n",
    "- More advertising on TV and radio is likely to boost sales, according to coefficient estimates for both channels.\n",
    "\n",
    "- The coefficient estimate for newspaper advertising, on the other hand, is extremely low and not statistically     significant, indicating that it is not a reliable predictor of sales. As a result, businesses might wish to consider  reducing their newspaper advertising spending or moving their resources to media like TV and radio that are better at \n",
    "  reaching their target consumers."
   ]
  },
  {
   "cell_type": "markdown",
   "metadata": {},
   "source": [
    "### Comments on additional data sources for model improvement "
   ]
  },
  {
   "cell_type": "markdown",
   "metadata": {},
   "source": [
    "- Other communication channels like internet media could be considered for improving the efficacy of advertising     expenditure.\n",
    "- Research also discovered that the efficacy of advertising expenditure was significantly influenced by creative advertising and audience targeting."
   ]
  },
  {
   "cell_type": "markdown",
   "metadata": {},
   "source": [
    "### Model implementation in real world and Potential business benefits from improving the model"
   ]
  },
  {
   "cell_type": "markdown",
   "metadata": {},
   "source": [
    "- The impact of various advertising budget sizes on sales can be calculated using the forecasting model that is provided.\n",
    "- It is important to remember that this model assumes that all other variables remain constant, which may not always be\n",
    "the case in real-world situations. \n",
    "- It is therefore recommended to use this model as a starting point for advertising \n",
    "planning and to constantly monitor the outcomes of actual sales in order to adjust advertising budget."
   ]
  }
 ],
 "metadata": {
  "kernelspec": {
   "display_name": "Python 3",
   "language": "python",
   "name": "python3"
  },
  "language_info": {
   "codemirror_mode": {
    "name": "ipython",
    "version": 3
   },
   "file_extension": ".py",
   "mimetype": "text/x-python",
   "name": "python",
   "nbconvert_exporter": "python",
   "pygments_lexer": "ipython3",
   "version": "3.8.3"
  }
 },
 "nbformat": 4,
 "nbformat_minor": 4
}
