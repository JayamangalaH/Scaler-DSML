{
  "nbformat": 4,
  "nbformat_minor": 0,
  "metadata": {
    "colab": {
      "provenance": []
    },
    "kernelspec": {
      "name": "python3",
      "display_name": "Python 3"
    },
    "language_info": {
      "name": "python"
    }
  },
  "cells": [
    {
      "cell_type": "markdown",
      "source": [
        "### Problem Statement:\n",
        "\n",
        "**Context**:\n",
        "The Gurugram-based FlipItNews aims to revolutionize the way Indians perceive finance, business, and capital market investment, by giving it a boost through artificial intelligence (AI) and machine learning (ML). They’re on a mission to reinvent financial literacy for Indians, where financial awareness is driven by smart information discovery and engagement with peers. Through their smart content discovery and contextual engagement, the company is simplifying business, finance, and investment for millennials and first-time investors\n",
        "\n",
        "**Objective**:\n",
        "The goal of this project is to use a bunch of news articles extracted from the companies’ internal database and categorize them into several categories like politics, technology, sports, business and entertainment based on their content. Use natural language processing and create & compare at least three different models."
      ],
      "metadata": {
        "id": "tPPACNSNERvI"
      }
    },
    {
      "cell_type": "markdown",
      "source": [
        "### Attribute Information:\n",
        "\n",
        "* Article\n",
        "* Category\n",
        "\n",
        "The feature names are themselves pretty self-explanatory."
      ],
      "metadata": {
        "id": "hAysaT5qEhnN"
      }
    },
    {
      "cell_type": "markdown",
      "source": [
        "### Our Approach:\n",
        "\n",
        "1. Importing the libraries\n",
        "2. Loading the dataset\n",
        "  * Mounting the drive\n",
        "  * Reading the data file\n",
        "3. Data Exploration\n",
        "  * Shape of the dataset\n",
        "  * News articles per category\n",
        "4. Text Processing\n",
        "  * Removing the non-letters\n",
        "  * Tokenizing the text\n",
        "  * Removing stopwords\n",
        "  * Lemmatization\n",
        "5. Data Transformation\n",
        "  * Encoding the target variable\n",
        "  * Bag of Words\n",
        "  * TF-IDF\n",
        "  * Train-Test Split\n",
        "6. Model Training & Evaluation\n",
        "  * Simple Approach\n",
        "    * Naive Bayes\n",
        "  * Functionalized Code\n",
        "    * Decision Tree\n",
        "    * Nearest Neighbors\n",
        "    * Random Forest"
      ],
      "metadata": {
        "id": "CIwbd9i2bpcu"
      }
    },
    {
      "cell_type": "markdown",
      "source": [
        "#### Importing the libraries -"
      ],
      "metadata": {
        "id": "M8oK_7cCn3Hj"
      }
    },
    {
      "cell_type": "code",
      "source": [
        "# To ignore all warnings\n",
        "import warnings\n",
        "\n",
        "# For reading & manipulating the data\n",
        "import pandas as pd\n",
        "import numpy as np\n",
        "\n",
        "# For visualizing the data\n",
        "!pip install matplotlib --upgrade\n",
        "import matplotlib.pyplot as plt\n",
        "import seaborn as sns\n",
        "\n",
        "# To use Regular Expressions\n",
        "import re\n",
        "\n",
        "# To use Natural Language Processing\n",
        "import nltk\n",
        "\n",
        "# For tokenization\n",
        "from nltk.tokenize import word_tokenize\n",
        "nltk.download('punkt')\n",
        "\n",
        "# To remove stopwords\n",
        "from nltk.corpus import stopwords\n",
        "nltk.download('stopwords')\n",
        "\n",
        "# For lemmetization\n",
        "from nltk import WordNetLemmatizer\n",
        "nltk.download('wordnet')\n",
        "\n",
        "# For BoW & TF-IDF\n",
        "from sklearn.feature_extraction.text import CountVectorizer, TfidfVectorizer\n",
        "\n",
        "# For encoding the categorical variable\n",
        "!pip install category_encoders\n",
        "import category_encoders as ce\n",
        "\n",
        "# To try out different ML models\n",
        "from sklearn.tree import DecisionTreeClassifier\n",
        "from sklearn.neighbors import KNeighborsClassifier\n",
        "from sklearn.naive_bayes import MultinomialNB\n",
        "from sklearn.ensemble import RandomForestClassifier\n",
        "\n",
        "# To perform train-test split\n",
        "from sklearn.model_selection import train_test_split\n",
        "\n",
        "# Performace Metrics for evaluating the model\n",
        "from sklearn.metrics import accuracy_score, roc_auc_score, f1_score, precision_score, recall_score\n",
        "from sklearn.metrics import confusion_matrix, classification_report\n",
        "\n",
        "warnings.simplefilter('ignore')"
      ],
      "metadata": {
        "colab": {
          "base_uri": "https://localhost:8080/"
        },
        "id": "VKKeNeJ2EP9D",
        "outputId": "be53242d-e135-4ce1-873e-438047e78fd9"
      },
      "execution_count": 77,
      "outputs": [
        {
          "output_type": "stream",
          "name": "stdout",
          "text": [
            "Requirement already satisfied: matplotlib in /usr/local/lib/python3.10/dist-packages (3.8.3)\n",
            "Requirement already satisfied: contourpy>=1.0.1 in /usr/local/lib/python3.10/dist-packages (from matplotlib) (1.2.0)\n",
            "Requirement already satisfied: cycler>=0.10 in /usr/local/lib/python3.10/dist-packages (from matplotlib) (0.12.1)\n",
            "Requirement already satisfied: fonttools>=4.22.0 in /usr/local/lib/python3.10/dist-packages (from matplotlib) (4.49.0)\n",
            "Requirement already satisfied: kiwisolver>=1.3.1 in /usr/local/lib/python3.10/dist-packages (from matplotlib) (1.4.5)\n",
            "Requirement already satisfied: numpy<2,>=1.21 in /usr/local/lib/python3.10/dist-packages (from matplotlib) (1.25.2)\n",
            "Requirement already satisfied: packaging>=20.0 in /usr/local/lib/python3.10/dist-packages (from matplotlib) (23.2)\n",
            "Requirement already satisfied: pillow>=8 in /usr/local/lib/python3.10/dist-packages (from matplotlib) (9.4.0)\n",
            "Requirement already satisfied: pyparsing>=2.3.1 in /usr/local/lib/python3.10/dist-packages (from matplotlib) (3.1.1)\n",
            "Requirement already satisfied: python-dateutil>=2.7 in /usr/local/lib/python3.10/dist-packages (from matplotlib) (2.8.2)\n",
            "Requirement already satisfied: six>=1.5 in /usr/local/lib/python3.10/dist-packages (from python-dateutil>=2.7->matplotlib) (1.16.0)\n"
          ]
        },
        {
          "output_type": "stream",
          "name": "stderr",
          "text": [
            "[nltk_data] Downloading package punkt to /root/nltk_data...\n",
            "[nltk_data]   Package punkt is already up-to-date!\n",
            "[nltk_data] Downloading package stopwords to /root/nltk_data...\n",
            "[nltk_data]   Package stopwords is already up-to-date!\n",
            "[nltk_data] Downloading package wordnet to /root/nltk_data...\n",
            "[nltk_data]   Package wordnet is already up-to-date!\n"
          ]
        },
        {
          "output_type": "stream",
          "name": "stdout",
          "text": [
            "Requirement already satisfied: category_encoders in /usr/local/lib/python3.10/dist-packages (2.6.3)\n",
            "Requirement already satisfied: numpy>=1.14.0 in /usr/local/lib/python3.10/dist-packages (from category_encoders) (1.25.2)\n",
            "Requirement already satisfied: scikit-learn>=0.20.0 in /usr/local/lib/python3.10/dist-packages (from category_encoders) (1.2.2)\n",
            "Requirement already satisfied: scipy>=1.0.0 in /usr/local/lib/python3.10/dist-packages (from category_encoders) (1.11.4)\n",
            "Requirement already satisfied: statsmodels>=0.9.0 in /usr/local/lib/python3.10/dist-packages (from category_encoders) (0.14.1)\n",
            "Requirement already satisfied: pandas>=1.0.5 in /usr/local/lib/python3.10/dist-packages (from category_encoders) (1.5.3)\n",
            "Requirement already satisfied: patsy>=0.5.1 in /usr/local/lib/python3.10/dist-packages (from category_encoders) (0.5.6)\n",
            "Requirement already satisfied: python-dateutil>=2.8.1 in /usr/local/lib/python3.10/dist-packages (from pandas>=1.0.5->category_encoders) (2.8.2)\n",
            "Requirement already satisfied: pytz>=2020.1 in /usr/local/lib/python3.10/dist-packages (from pandas>=1.0.5->category_encoders) (2023.4)\n",
            "Requirement already satisfied: six in /usr/local/lib/python3.10/dist-packages (from patsy>=0.5.1->category_encoders) (1.16.0)\n",
            "Requirement already satisfied: joblib>=1.1.1 in /usr/local/lib/python3.10/dist-packages (from scikit-learn>=0.20.0->category_encoders) (1.3.2)\n",
            "Requirement already satisfied: threadpoolctl>=2.0.0 in /usr/local/lib/python3.10/dist-packages (from scikit-learn>=0.20.0->category_encoders) (3.3.0)\n",
            "Requirement already satisfied: packaging>=21.3 in /usr/local/lib/python3.10/dist-packages (from statsmodels>=0.9.0->category_encoders) (23.2)\n"
          ]
        }
      ]
    },
    {
      "cell_type": "markdown",
      "source": [
        "#### Loading the dataset -"
      ],
      "metadata": {
        "id": "VhsX0zsKn7-J"
      }
    },
    {
      "cell_type": "markdown",
      "source": [
        "Mounting the drive -"
      ],
      "metadata": {
        "id": "ywUE2Uy1cnb1"
      }
    },
    {
      "cell_type": "code",
      "source": [
        "from pydrive.auth import GoogleAuth\n",
        "from pydrive.drive import GoogleDrive\n",
        "from google.colab import auth\n",
        "from oauth2client.client import GoogleCredentials\n",
        "\n",
        "auth.authenticate_user()\n",
        "gauth = GoogleAuth()\n",
        "gauth.credentials = GoogleCredentials.get_application_default()\n",
        "drive = GoogleDrive(gauth)"
      ],
      "metadata": {
        "id": "-v55M_l7ET41"
      },
      "execution_count": 78,
      "outputs": []
    },
    {
      "cell_type": "code",
      "source": [
        "link = \"https://drive.google.com/file/d/1I3-pQFzbSufhpMrUKAROBLGULXcWiB9u/view?usp=sharing\"\n",
        "\n",
        "id = link.split(\"/\")[-2]\n",
        "\n",
        "downloaded = drive.CreateFile({'id':id})\n",
        "downloaded.GetContentFile('news-articles.csv')"
      ],
      "metadata": {
        "id": "Llv5ljhv16bj"
      },
      "execution_count": 79,
      "outputs": []
    },
    {
      "cell_type": "markdown",
      "source": [
        "Reading the data file -"
      ],
      "metadata": {
        "id": "yL-ioWR3CnJb"
      }
    },
    {
      "cell_type": "code",
      "source": [
        "df = pd.read_csv('news-articles.csv')\n",
        "df.sample(10)"
      ],
      "metadata": {
        "colab": {
          "base_uri": "https://localhost:8080/",
          "height": 363
        },
        "id": "_PnRhLtmChMd",
        "outputId": "e8aed4f9-6930-4466-da8e-53d333d823c2"
      },
      "execution_count": 80,
      "outputs": [
        {
          "output_type": "execute_result",
          "data": {
            "text/plain": [
              "           Category                                            Article\n",
              "1098  Entertainment  bbc denies blackadder tv comeback the bbc has ...\n",
              "527        Business  bank payout to pinochet victims a us bank has ...\n",
              "1833       Business  us gives foreign firms extra time foreign firm...\n",
              "1647     Technology  game makers get xbox 2 sneak peek microsoft ha...\n",
              "960        Business  fed warns of more us rate rises the us looks s...\n",
              "200          Sports  holmes feted with further honour double olympi...\n",
              "339        Politics  russian ex-spy on hunger strike an ex-russian ...\n",
              "942          Sports  butler strikes gold in spain britain s kathy b...\n",
              "2098       Business  irish company hit by iraqi report shares in ir...\n",
              "818        Business  parmalat boasts doubled profits parmalat  the ..."
            ],
            "text/html": [
              "\n",
              "  <div id=\"df-a036a76e-d5b9-4a15-841a-c5f2a95dbbee\" class=\"colab-df-container\">\n",
              "    <div>\n",
              "<style scoped>\n",
              "    .dataframe tbody tr th:only-of-type {\n",
              "        vertical-align: middle;\n",
              "    }\n",
              "\n",
              "    .dataframe tbody tr th {\n",
              "        vertical-align: top;\n",
              "    }\n",
              "\n",
              "    .dataframe thead th {\n",
              "        text-align: right;\n",
              "    }\n",
              "</style>\n",
              "<table border=\"1\" class=\"dataframe\">\n",
              "  <thead>\n",
              "    <tr style=\"text-align: right;\">\n",
              "      <th></th>\n",
              "      <th>Category</th>\n",
              "      <th>Article</th>\n",
              "    </tr>\n",
              "  </thead>\n",
              "  <tbody>\n",
              "    <tr>\n",
              "      <th>1098</th>\n",
              "      <td>Entertainment</td>\n",
              "      <td>bbc denies blackadder tv comeback the bbc has ...</td>\n",
              "    </tr>\n",
              "    <tr>\n",
              "      <th>527</th>\n",
              "      <td>Business</td>\n",
              "      <td>bank payout to pinochet victims a us bank has ...</td>\n",
              "    </tr>\n",
              "    <tr>\n",
              "      <th>1833</th>\n",
              "      <td>Business</td>\n",
              "      <td>us gives foreign firms extra time foreign firm...</td>\n",
              "    </tr>\n",
              "    <tr>\n",
              "      <th>1647</th>\n",
              "      <td>Technology</td>\n",
              "      <td>game makers get xbox 2 sneak peek microsoft ha...</td>\n",
              "    </tr>\n",
              "    <tr>\n",
              "      <th>960</th>\n",
              "      <td>Business</td>\n",
              "      <td>fed warns of more us rate rises the us looks s...</td>\n",
              "    </tr>\n",
              "    <tr>\n",
              "      <th>200</th>\n",
              "      <td>Sports</td>\n",
              "      <td>holmes feted with further honour double olympi...</td>\n",
              "    </tr>\n",
              "    <tr>\n",
              "      <th>339</th>\n",
              "      <td>Politics</td>\n",
              "      <td>russian ex-spy on hunger strike an ex-russian ...</td>\n",
              "    </tr>\n",
              "    <tr>\n",
              "      <th>942</th>\n",
              "      <td>Sports</td>\n",
              "      <td>butler strikes gold in spain britain s kathy b...</td>\n",
              "    </tr>\n",
              "    <tr>\n",
              "      <th>2098</th>\n",
              "      <td>Business</td>\n",
              "      <td>irish company hit by iraqi report shares in ir...</td>\n",
              "    </tr>\n",
              "    <tr>\n",
              "      <th>818</th>\n",
              "      <td>Business</td>\n",
              "      <td>parmalat boasts doubled profits parmalat  the ...</td>\n",
              "    </tr>\n",
              "  </tbody>\n",
              "</table>\n",
              "</div>\n",
              "    <div class=\"colab-df-buttons\">\n",
              "\n",
              "  <div class=\"colab-df-container\">\n",
              "    <button class=\"colab-df-convert\" onclick=\"convertToInteractive('df-a036a76e-d5b9-4a15-841a-c5f2a95dbbee')\"\n",
              "            title=\"Convert this dataframe to an interactive table.\"\n",
              "            style=\"display:none;\">\n",
              "\n",
              "  <svg xmlns=\"http://www.w3.org/2000/svg\" height=\"24px\" viewBox=\"0 -960 960 960\">\n",
              "    <path d=\"M120-120v-720h720v720H120Zm60-500h600v-160H180v160Zm220 220h160v-160H400v160Zm0 220h160v-160H400v160ZM180-400h160v-160H180v160Zm440 0h160v-160H620v160ZM180-180h160v-160H180v160Zm440 0h160v-160H620v160Z\"/>\n",
              "  </svg>\n",
              "    </button>\n",
              "\n",
              "  <style>\n",
              "    .colab-df-container {\n",
              "      display:flex;\n",
              "      gap: 12px;\n",
              "    }\n",
              "\n",
              "    .colab-df-convert {\n",
              "      background-color: #E8F0FE;\n",
              "      border: none;\n",
              "      border-radius: 50%;\n",
              "      cursor: pointer;\n",
              "      display: none;\n",
              "      fill: #1967D2;\n",
              "      height: 32px;\n",
              "      padding: 0 0 0 0;\n",
              "      width: 32px;\n",
              "    }\n",
              "\n",
              "    .colab-df-convert:hover {\n",
              "      background-color: #E2EBFA;\n",
              "      box-shadow: 0px 1px 2px rgba(60, 64, 67, 0.3), 0px 1px 3px 1px rgba(60, 64, 67, 0.15);\n",
              "      fill: #174EA6;\n",
              "    }\n",
              "\n",
              "    .colab-df-buttons div {\n",
              "      margin-bottom: 4px;\n",
              "    }\n",
              "\n",
              "    [theme=dark] .colab-df-convert {\n",
              "      background-color: #3B4455;\n",
              "      fill: #D2E3FC;\n",
              "    }\n",
              "\n",
              "    [theme=dark] .colab-df-convert:hover {\n",
              "      background-color: #434B5C;\n",
              "      box-shadow: 0px 1px 3px 1px rgba(0, 0, 0, 0.15);\n",
              "      filter: drop-shadow(0px 1px 2px rgba(0, 0, 0, 0.3));\n",
              "      fill: #FFFFFF;\n",
              "    }\n",
              "  </style>\n",
              "\n",
              "    <script>\n",
              "      const buttonEl =\n",
              "        document.querySelector('#df-a036a76e-d5b9-4a15-841a-c5f2a95dbbee button.colab-df-convert');\n",
              "      buttonEl.style.display =\n",
              "        google.colab.kernel.accessAllowed ? 'block' : 'none';\n",
              "\n",
              "      async function convertToInteractive(key) {\n",
              "        const element = document.querySelector('#df-a036a76e-d5b9-4a15-841a-c5f2a95dbbee');\n",
              "        const dataTable =\n",
              "          await google.colab.kernel.invokeFunction('convertToInteractive',\n",
              "                                                    [key], {});\n",
              "        if (!dataTable) return;\n",
              "\n",
              "        const docLinkHtml = 'Like what you see? Visit the ' +\n",
              "          '<a target=\"_blank\" href=https://colab.research.google.com/notebooks/data_table.ipynb>data table notebook</a>'\n",
              "          + ' to learn more about interactive tables.';\n",
              "        element.innerHTML = '';\n",
              "        dataTable['output_type'] = 'display_data';\n",
              "        await google.colab.output.renderOutput(dataTable, element);\n",
              "        const docLink = document.createElement('div');\n",
              "        docLink.innerHTML = docLinkHtml;\n",
              "        element.appendChild(docLink);\n",
              "      }\n",
              "    </script>\n",
              "  </div>\n",
              "\n",
              "\n",
              "<div id=\"df-bacec4f1-87ed-4ea3-a3ee-7a93e1408a87\">\n",
              "  <button class=\"colab-df-quickchart\" onclick=\"quickchart('df-bacec4f1-87ed-4ea3-a3ee-7a93e1408a87')\"\n",
              "            title=\"Suggest charts\"\n",
              "            style=\"display:none;\">\n",
              "\n",
              "<svg xmlns=\"http://www.w3.org/2000/svg\" height=\"24px\"viewBox=\"0 0 24 24\"\n",
              "     width=\"24px\">\n",
              "    <g>\n",
              "        <path d=\"M19 3H5c-1.1 0-2 .9-2 2v14c0 1.1.9 2 2 2h14c1.1 0 2-.9 2-2V5c0-1.1-.9-2-2-2zM9 17H7v-7h2v7zm4 0h-2V7h2v10zm4 0h-2v-4h2v4z\"/>\n",
              "    </g>\n",
              "</svg>\n",
              "  </button>\n",
              "\n",
              "<style>\n",
              "  .colab-df-quickchart {\n",
              "      --bg-color: #E8F0FE;\n",
              "      --fill-color: #1967D2;\n",
              "      --hover-bg-color: #E2EBFA;\n",
              "      --hover-fill-color: #174EA6;\n",
              "      --disabled-fill-color: #AAA;\n",
              "      --disabled-bg-color: #DDD;\n",
              "  }\n",
              "\n",
              "  [theme=dark] .colab-df-quickchart {\n",
              "      --bg-color: #3B4455;\n",
              "      --fill-color: #D2E3FC;\n",
              "      --hover-bg-color: #434B5C;\n",
              "      --hover-fill-color: #FFFFFF;\n",
              "      --disabled-bg-color: #3B4455;\n",
              "      --disabled-fill-color: #666;\n",
              "  }\n",
              "\n",
              "  .colab-df-quickchart {\n",
              "    background-color: var(--bg-color);\n",
              "    border: none;\n",
              "    border-radius: 50%;\n",
              "    cursor: pointer;\n",
              "    display: none;\n",
              "    fill: var(--fill-color);\n",
              "    height: 32px;\n",
              "    padding: 0;\n",
              "    width: 32px;\n",
              "  }\n",
              "\n",
              "  .colab-df-quickchart:hover {\n",
              "    background-color: var(--hover-bg-color);\n",
              "    box-shadow: 0 1px 2px rgba(60, 64, 67, 0.3), 0 1px 3px 1px rgba(60, 64, 67, 0.15);\n",
              "    fill: var(--button-hover-fill-color);\n",
              "  }\n",
              "\n",
              "  .colab-df-quickchart-complete:disabled,\n",
              "  .colab-df-quickchart-complete:disabled:hover {\n",
              "    background-color: var(--disabled-bg-color);\n",
              "    fill: var(--disabled-fill-color);\n",
              "    box-shadow: none;\n",
              "  }\n",
              "\n",
              "  .colab-df-spinner {\n",
              "    border: 2px solid var(--fill-color);\n",
              "    border-color: transparent;\n",
              "    border-bottom-color: var(--fill-color);\n",
              "    animation:\n",
              "      spin 1s steps(1) infinite;\n",
              "  }\n",
              "\n",
              "  @keyframes spin {\n",
              "    0% {\n",
              "      border-color: transparent;\n",
              "      border-bottom-color: var(--fill-color);\n",
              "      border-left-color: var(--fill-color);\n",
              "    }\n",
              "    20% {\n",
              "      border-color: transparent;\n",
              "      border-left-color: var(--fill-color);\n",
              "      border-top-color: var(--fill-color);\n",
              "    }\n",
              "    30% {\n",
              "      border-color: transparent;\n",
              "      border-left-color: var(--fill-color);\n",
              "      border-top-color: var(--fill-color);\n",
              "      border-right-color: var(--fill-color);\n",
              "    }\n",
              "    40% {\n",
              "      border-color: transparent;\n",
              "      border-right-color: var(--fill-color);\n",
              "      border-top-color: var(--fill-color);\n",
              "    }\n",
              "    60% {\n",
              "      border-color: transparent;\n",
              "      border-right-color: var(--fill-color);\n",
              "    }\n",
              "    80% {\n",
              "      border-color: transparent;\n",
              "      border-right-color: var(--fill-color);\n",
              "      border-bottom-color: var(--fill-color);\n",
              "    }\n",
              "    90% {\n",
              "      border-color: transparent;\n",
              "      border-bottom-color: var(--fill-color);\n",
              "    }\n",
              "  }\n",
              "</style>\n",
              "\n",
              "  <script>\n",
              "    async function quickchart(key) {\n",
              "      const quickchartButtonEl =\n",
              "        document.querySelector('#' + key + ' button');\n",
              "      quickchartButtonEl.disabled = true;  // To prevent multiple clicks.\n",
              "      quickchartButtonEl.classList.add('colab-df-spinner');\n",
              "      try {\n",
              "        const charts = await google.colab.kernel.invokeFunction(\n",
              "            'suggestCharts', [key], {});\n",
              "      } catch (error) {\n",
              "        console.error('Error during call to suggestCharts:', error);\n",
              "      }\n",
              "      quickchartButtonEl.classList.remove('colab-df-spinner');\n",
              "      quickchartButtonEl.classList.add('colab-df-quickchart-complete');\n",
              "    }\n",
              "    (() => {\n",
              "      let quickchartButtonEl =\n",
              "        document.querySelector('#df-bacec4f1-87ed-4ea3-a3ee-7a93e1408a87 button');\n",
              "      quickchartButtonEl.style.display =\n",
              "        google.colab.kernel.accessAllowed ? 'block' : 'none';\n",
              "    })();\n",
              "  </script>\n",
              "</div>\n",
              "    </div>\n",
              "  </div>\n"
            ],
            "application/vnd.google.colaboratory.intrinsic+json": {
              "type": "dataframe",
              "summary": "{\n  \"name\": \"df\",\n  \"rows\": 10,\n  \"fields\": [\n    {\n      \"column\": \"Category\",\n      \"properties\": {\n        \"dtype\": \"string\",\n        \"num_unique_values\": 5,\n        \"samples\": [\n          \"Business\",\n          \"Politics\",\n          \"Technology\"\n        ],\n        \"semantic_type\": \"\",\n        \"description\": \"\"\n      }\n    },\n    {\n      \"column\": \"Article\",\n      \"properties\": {\n        \"dtype\": \"string\",\n        \"num_unique_values\": 10,\n        \"samples\": [\n          \"irish company hit by iraqi report shares in irish oil company petrel resources have lost more than 50% of their value on a report that the firm has failed to win a contract in iraq.  reuters news agency reported that iraq s oil ministry has awarded the first post-war oilfield contracts to a canadian and a turkish company. by 1700 gmt  petrel s shares fell from 97p ($1.87) to 44p ($0.85). petrel said that it has not received any information from iraqi authorities to confirm or deny the report.  iraq is seeking to award contracts for three projects  valued at $500m (\\u00a3258.5m). turkey s everasia is reported by reuters to have won a contract to develop the khurmala dome field in the north of the country. a canadian company  named iog  is reported to have won the contract to run the himrin field. ironhorse oil and gas has denied to reuters that it is the company in question. these two projects aim to develop khurmala field to produce 100 000 barrels per day and raise the output of himrin. the winners of the contract are to build new flow lines and build gas separation stations. the contract to develop the suba-luhais field has not yet been awarded as iraq s oil ministry is studying the offers. if iraq s cabinet approves the oil ministry s choice of companies  then this will be the first deal that iraq has signed with a foreign oil company. iraq is still trying to boost its production capacity to match levels last seen in the eighties  before the war with iran. oil officials hope to double iraq s output by the end of the decade.\",\n          \"bank payout to pinochet victims a us bank has said it will donate more than $8m to victims of former chilean military ruler augusto pinochet s regime under a madrid court settlement.  riggs bank will put money in a special fund to be managed by a madrid-based charity  the salvador allende foundation  which helps abused victims. the bank had been accused of illegally concealing gen pinochet s assets. more than 3 000 people were killed for political reasons under gen pinochet s regime  an official report says. last month in a us court  riggs bank pleaded guilty to failing to report suspicious activity relating to accounts held by gen pinochet and the government of equatorial guinea. on that occasion  it was ordered to pay a fine of $16m. gen pinochet himself has never been put on trial for human rights violations under his 1973-90 rule  despite several high-profile cases against him. he is now facing charges relating to the murder of one chilean and the disappearance of nine others. he is also being investigated for tax evasion  tax fraud and embezzlement of state funds.  the general s opponents rejoiced at the settlement  which was agreed in a court in the spanish capital  madrid. a lawyer for the victims  eduardo contreras  told reuters news agency:  this demonstrates that the horrors of the pinochet dictatorship are not a mystery to anyone and that the whole world knows his victims deserve reparations.  riggs spokesman mark hendrix said the settlement  details of which will be announced next week  was an opportunity to move on.  this enables the institution to put the matter behind us   he told reuters. the settlement follows a legal complaint filed against the bank by spanish judge baltasar garzon alleging that it had illegally concealed assets. the bank agreed to create a fund for the victims  but the charges were dropped.\",\n          \"holmes feted with further honour double olympic champion kelly holmes has been voted european athletics (eaa) woman athlete of 2004 in the governing body s annual poll.  the briton  made a dame in the new year honours list for taking 800m and 1 500m gold  won vital votes from the public  press and eaa member federations. she is only the second british woman to land the title after- sally gunnell won for her world 400m hurdles win in 1993. swedish triple jumper christian olsson was voted male athlete of the year. the accolade is the latest in a long list of awards that holmes has received since her success in athens. in addition to becoming a dame  she was also named the bbc sports personality of the year in december. her gutsy victory in the 800m also earned her the international association of athletics federations  award for the best women s performance in the world for 2004. and she scooped two awards at the british athletics writers  association annual dinner in october.\"\n        ],\n        \"semantic_type\": \"\",\n        \"description\": \"\"\n      }\n    }\n  ]\n}"
            }
          },
          "metadata": {},
          "execution_count": 80
        }
      ]
    },
    {
      "cell_type": "markdown",
      "source": [
        "#### Data Exploration"
      ],
      "metadata": {
        "id": "htiEIx9ooD14"
      }
    },
    {
      "cell_type": "markdown",
      "source": [
        "First, let's check the shape of the dataset that we have."
      ],
      "metadata": {
        "id": "92GM0NZsZZxh"
      }
    },
    {
      "cell_type": "code",
      "source": [
        "print(\"No. of rows: {}\".format(df.shape[0]))"
      ],
      "metadata": {
        "colab": {
          "base_uri": "https://localhost:8080/"
        },
        "id": "SJIyzdGw2KdS",
        "outputId": "03154f23-69c1-4255-a28e-eb472daa6768"
      },
      "execution_count": 81,
      "outputs": [
        {
          "output_type": "stream",
          "name": "stdout",
          "text": [
            "No. of rows: 2225\n"
          ]
        }
      ]
    },
    {
      "cell_type": "markdown",
      "source": [
        "*Observation: There are 2,225 different news articles present in the dataset.*"
      ],
      "metadata": {
        "id": "l1xJxOVm6U99"
      }
    },
    {
      "cell_type": "markdown",
      "source": [
        "**No. of news articles per category -**"
      ],
      "metadata": {
        "id": "0cbpp4Z4CuIQ"
      }
    },
    {
      "cell_type": "code",
      "source": [
        "plt.figure(figsize=(8, 5))\n",
        "ax = sns.countplot(x='Category', data=df, palette='Blues')\n",
        "\n",
        "ax.bar_label(ax.containers[0])\n",
        "\n",
        "ax.set_title('Distribution of Categories')\n",
        "ax.set_xlabel('Category')\n",
        "ax.set_ylabel('Number of Articles')\n",
        "\n",
        "plt.show()"
      ],
      "metadata": {
        "colab": {
          "base_uri": "https://localhost:8080/",
          "height": 487
        },
        "id": "99Udo4t56KmK",
        "outputId": "dd119678-9d16-4765-d9dc-b8619c6c90d8"
      },
      "execution_count": 82,
      "outputs": [
        {
          "output_type": "display_data",
          "data": {
            "text/plain": [
              "<Figure size 800x500 with 1 Axes>"
            ],
            "image/png": "[encoded data removed]"
          },
          "metadata": {}
        }
      ]
    },
    {
      "cell_type": "markdown",
      "source": [
        "*Observation: Most of the news articles in the dataset are from Business & Sports category.*"
      ],
      "metadata": {
        "id": "lUppekuVDkad"
      }
    },
    {
      "cell_type": "markdown",
      "source": [
        "#### Text Processing"
      ],
      "metadata": {
        "id": "Q7jaJ2XZR_er"
      }
    },
    {
      "cell_type": "markdown",
      "source": [
        "Before processing -"
      ],
      "metadata": {
        "id": "qsqlvy9BTg5A"
      }
    },
    {
      "cell_type": "code",
      "source": [
        "df['Article'][1]"
      ],
      "metadata": {
        "colab": {
          "base_uri": "https://localhost:8080/",
          "height": 157
        },
        "id": "MO5iIAMPJCKz",
        "outputId": "88194dc5-f5e8-4d2b-d52a-aa3a4706568f"
      },
      "execution_count": 83,
      "outputs": [
        {
          "output_type": "execute_result",
          "data": {
            "text/plain": [
              "'worldcom boss  left books alone  former worldcom boss bernie ebbers  who is accused of overseeing an $11bn (£5.8bn) fraud  never made accounting decisions  a witness has told jurors.  david myers made the comments under questioning by defence lawyers who have been arguing that mr ebbers was not responsible for worldcom s problems. the phone company collapsed in 2002 and prosecutors claim that losses were hidden to protect the firm s shares. mr myers has already pleaded guilty to fraud and is assisting prosecutors.  on monday  defence lawyer reid weingarten tried to distance his client from the allegations. during cross examination  he asked mr myers if he ever knew mr ebbers  make an accounting decision  .  not that i am aware of   mr myers replied.  did you ever know mr ebbers to make an accounting entry into worldcom books   mr weingarten pressed.  no   replied the witness. mr myers has admitted that he ordered false accounting entries at the request of former worldcom chief financial officer scott sullivan. defence lawyers have been trying to paint mr sullivan  who has admitted fraud and will testify later in the trial  as the mastermind behind worldcom s accounting house of cards.  mr ebbers  team  meanwhile  are looking to portray him as an affable boss  who by his own admission is more pe graduate than economist. whatever his abilities  mr ebbers transformed worldcom from a relative unknown into a $160bn telecoms giant and investor darling of the late 1990s. worldcom s problems mounted  however  as competition increased and the telecoms boom petered out. when the firm finally collapsed  shareholders lost about $180bn and 20 000 workers lost their jobs. mr ebbers  trial is expected to last two months and if found guilty the former ceo faces a substantial jail sentence. he has firmly declared his innocence.'"
            ],
            "application/vnd.google.colaboratory.intrinsic+json": {
              "type": "string"
            }
          },
          "metadata": {},
          "execution_count": 83
        }
      ]
    },
    {
      "cell_type": "markdown",
      "source": [
        "This is how a single news article in our dataset looks before processing. <br>\n",
        "We can see that everything is already in lower case so we don't need to do that explicitly."
      ],
      "metadata": {
        "id": "uOuFguh_SC1q"
      }
    },
    {
      "cell_type": "code",
      "source": [
        "stop_words = list(stopwords.words(\"english\"))\n",
        "\n",
        "def text_process(sent):\n",
        "  # Removing non-letters\n",
        "  sent = re.sub('[^a-zA-Z]', ' ', sent)\n",
        "\n",
        "  # Word tokenizing the text\n",
        "  words = nltk.word_tokenize(sent)\n",
        "\n",
        "  # Removing stopwords\n",
        "  filtered_sent = [w for w in words if not w in stop_words]\n",
        "\n",
        "  # Lemmatization\n",
        "  lemmatizer = WordNetLemmatizer()\n",
        "  new_txt = [lemmatizer.lemmatize(word) for word in filtered_sent]\n",
        "  new_txt = \" \".join(new_txt)\n",
        "\n",
        "  return new_txt\n",
        "\n",
        "df['Article'] = df['Article'].apply(text_process)\n"
      ],
      "metadata": {
        "id": "8AZE7pbYGhf3"
      },
      "execution_count": 84,
      "outputs": []
    },
    {
      "cell_type": "markdown",
      "source": [
        "After processing -"
      ],
      "metadata": {
        "id": "rBJQYwEPTj2X"
      }
    },
    {
      "cell_type": "code",
      "source": [
        "df['Article'][1]"
      ],
      "metadata": {
        "colab": {
          "base_uri": "https://localhost:8080/",
          "height": 157
        },
        "id": "K3zlQCgsSZc-",
        "outputId": "c304bd0c-f8c9-45bd-96a0-005ddbddff77"
      },
      "execution_count": 85,
      "outputs": [
        {
          "output_type": "execute_result",
          "data": {
            "text/plain": [
              "'worldcom bos left book alone former worldcom bos bernie ebbers accused overseeing bn bn fraud never made accounting decision witness told juror david myers made comment questioning defence lawyer arguing mr ebbers responsible worldcom problem phone company collapsed prosecutor claim loss hidden protect firm share mr myers already pleaded guilty fraud assisting prosecutor monday defence lawyer reid weingarten tried distance client allegation cross examination asked mr myers ever knew mr ebbers make accounting decision aware mr myers replied ever know mr ebbers make accounting entry worldcom book mr weingarten pressed replied witness mr myers admitted ordered false accounting entry request former worldcom chief financial officer scott sullivan defence lawyer trying paint mr sullivan admitted fraud testify later trial mastermind behind worldcom accounting house card mr ebbers team meanwhile looking portray affable bos admission pe graduate economist whatever ability mr ebbers transformed worldcom relative unknown bn telecom giant investor darling late worldcom problem mounted however competition increased telecom boom petered firm finally collapsed shareholder lost bn worker lost job mr ebbers trial expected last two month found guilty former ceo face substantial jail sentence firmly declared innocence'"
            ],
            "application/vnd.google.colaboratory.intrinsic+json": {
              "type": "string"
            }
          },
          "metadata": {},
          "execution_count": 85
        }
      ]
    },
    {
      "cell_type": "markdown",
      "source": [
        "This is what an article obtained after text processing looks like."
      ],
      "metadata": {
        "id": "U3DRliarZ9vf"
      }
    },
    {
      "cell_type": "markdown",
      "source": [
        "#### Data Transformation"
      ],
      "metadata": {
        "id": "E9m-Rm1JobhE"
      }
    },
    {
      "cell_type": "markdown",
      "source": [
        "**Encoding the target variable -**"
      ],
      "metadata": {
        "id": "c6AXvcndAKA2"
      }
    },
    {
      "cell_type": "markdown",
      "source": [
        "We will be using the OrdinalEncoder from category_encoders.\n",
        "\n",
        "It encodes categorical features as ordinal, in one ordered feature.\n",
        "Ordinal encoding uses a single column of integers to represent the classes.\n",
        "\n",
        "For more details you can refer to this link: https://contrib.scikit-learn.org/category_encoders/"
      ],
      "metadata": {
        "id": "BQQD_AhmaXJr"
      }
    },
    {
      "cell_type": "code",
      "source": [
        "encode = ce.OrdinalEncoder(cols=['Category'])\n",
        "df = encode.fit_transform(df)"
      ],
      "metadata": {
        "id": "AXBEAaJg_U5l"
      },
      "execution_count": 86,
      "outputs": []
    },
    {
      "cell_type": "markdown",
      "source": [
        "**Outcome labels after encoding -**\n",
        "\n",
        "Category:\n",
        "\n",
        "1 - Technology\n",
        "\n",
        "2 - Business\n",
        "\n",
        "3 - Sports\n",
        "\n",
        "4 - Entertainment\n",
        "\n",
        "5 - Politics"
      ],
      "metadata": {
        "id": "3xTGgZQbBStE"
      }
    },
    {
      "cell_type": "markdown",
      "source": [
        "**Bag of Words / TF-IDF**"
      ],
      "metadata": {
        "id": "sAuhD3e1-4Be"
      }
    },
    {
      "cell_type": "markdown",
      "source": [
        "We've given the user a choice to select one of the following techniques for vectorizing the data -\n",
        "* BoW\n",
        "* TF-IDF"
      ],
      "metadata": {
        "id": "t7no7LYSbPjI"
      }
    },
    {
      "cell_type": "code",
      "source": [
        "df"
      ],
      "metadata": {
        "colab": {
          "base_uri": "https://localhost:8080/",
          "height": 423
        },
        "id": "sEpAtYcuEFBD",
        "outputId": "d8173f69-0ceb-4136-e83f-b8ceac23f3e9"
      },
      "execution_count": 103,
      "outputs": [
        {
          "output_type": "execute_result",
          "data": {
            "text/plain": [
              "      Category                                            Article\n",
              "0            1  tv future hand viewer home theatre system plas...\n",
              "1            2  worldcom bos left book alone former worldcom b...\n",
              "2            3  tiger wary farrell gamble leicester say rushed...\n",
              "3            3  yeading face newcastle fa cup premiership side...\n",
              "4            4  ocean twelve raid box office ocean twelve crim...\n",
              "...        ...                                                ...\n",
              "2220         2  car pull u retail figure u retail sale fell ja...\n",
              "2221         5  kilroy unveils immigration policy ex chatshow ...\n",
              "2222         4  rem announce new glasgow concert u band rem an...\n",
              "2223         5  political squabble snowball become commonplace...\n",
              "2224         3  souness delight euro progress bos graeme soune...\n",
              "\n",
              "[2225 rows x 2 columns]"
            ],
            "text/html": [
              "\n",
              "  <div id=\"df-cd202e7a-4102-41ee-adad-e1fc3c35c8fd\" class=\"colab-df-container\">\n",
              "    <div>\n",
              "<style scoped>\n",
              "    .dataframe tbody tr th:only-of-type {\n",
              "        vertical-align: middle;\n",
              "    }\n",
              "\n",
              "    .dataframe tbody tr th {\n",
              "        vertical-align: top;\n",
              "    }\n",
              "\n",
              "    .dataframe thead th {\n",
              "        text-align: right;\n",
              "    }\n",
              "</style>\n",
              "<table border=\"1\" class=\"dataframe\">\n",
              "  <thead>\n",
              "    <tr style=\"text-align: right;\">\n",
              "      <th></th>\n",
              "      <th>Category</th>\n",
              "      <th>Article</th>\n",
              "    </tr>\n",
              "  </thead>\n",
              "  <tbody>\n",
              "    <tr>\n",
              "      <th>0</th>\n",
              "      <td>1</td>\n",
              "      <td>tv future hand viewer home theatre system plas...</td>\n",
              "    </tr>\n",
              "    <tr>\n",
              "      <th>1</th>\n",
              "      <td>2</td>\n",
              "      <td>worldcom bos left book alone former worldcom b...</td>\n",
              "    </tr>\n",
              "    <tr>\n",
              "      <th>2</th>\n",
              "      <td>3</td>\n",
              "      <td>tiger wary farrell gamble leicester say rushed...</td>\n",
              "    </tr>\n",
              "    <tr>\n",
              "      <th>3</th>\n",
              "      <td>3</td>\n",
              "      <td>yeading face newcastle fa cup premiership side...</td>\n",
              "    </tr>\n",
              "    <tr>\n",
              "      <th>4</th>\n",
              "      <td>4</td>\n",
              "      <td>ocean twelve raid box office ocean twelve crim...</td>\n",
              "    </tr>\n",
              "    <tr>\n",
              "      <th>...</th>\n",
              "      <td>...</td>\n",
              "      <td>...</td>\n",
              "    </tr>\n",
              "    <tr>\n",
              "      <th>2220</th>\n",
              "      <td>2</td>\n",
              "      <td>car pull u retail figure u retail sale fell ja...</td>\n",
              "    </tr>\n",
              "    <tr>\n",
              "      <th>2221</th>\n",
              "      <td>5</td>\n",
              "      <td>kilroy unveils immigration policy ex chatshow ...</td>\n",
              "    </tr>\n",
              "    <tr>\n",
              "      <th>2222</th>\n",
              "      <td>4</td>\n",
              "      <td>rem announce new glasgow concert u band rem an...</td>\n",
              "    </tr>\n",
              "    <tr>\n",
              "      <th>2223</th>\n",
              "      <td>5</td>\n",
              "      <td>political squabble snowball become commonplace...</td>\n",
              "    </tr>\n",
              "    <tr>\n",
              "      <th>2224</th>\n",
              "      <td>3</td>\n",
              "      <td>souness delight euro progress bos graeme soune...</td>\n",
              "    </tr>\n",
              "  </tbody>\n",
              "</table>\n",
              "<p>2225 rows × 2 columns</p>\n",
              "</div>\n",
              "    <div class=\"colab-df-buttons\">\n",
              "\n",
              "  <div class=\"colab-df-container\">\n",
              "    <button class=\"colab-df-convert\" onclick=\"convertToInteractive('df-cd202e7a-4102-41ee-adad-e1fc3c35c8fd')\"\n",
              "            title=\"Convert this dataframe to an interactive table.\"\n",
              "            style=\"display:none;\">\n",
              "\n",
              "  <svg xmlns=\"http://www.w3.org/2000/svg\" height=\"24px\" viewBox=\"0 -960 960 960\">\n",
              "    <path d=\"M120-120v-720h720v720H120Zm60-500h600v-160H180v160Zm220 220h160v-160H400v160Zm0 220h160v-160H400v160ZM180-400h160v-160H180v160Zm440 0h160v-160H620v160ZM180-180h160v-160H180v160Zm440 0h160v-160H620v160Z\"/>\n",
              "  </svg>\n",
              "    </button>\n",
              "\n",
              "  <style>\n",
              "    .colab-df-container {\n",
              "      display:flex;\n",
              "      gap: 12px;\n",
              "    }\n",
              "\n",
              "    .colab-df-convert {\n",
              "      background-color: #E8F0FE;\n",
              "      border: none;\n",
              "      border-radius: 50%;\n",
              "      cursor: pointer;\n",
              "      display: none;\n",
              "      fill: #1967D2;\n",
              "      height: 32px;\n",
              "      padding: 0 0 0 0;\n",
              "      width: 32px;\n",
              "    }\n",
              "\n",
              "    .colab-df-convert:hover {\n",
              "      background-color: #E2EBFA;\n",
              "      box-shadow: 0px 1px 2px rgba(60, 64, 67, 0.3), 0px 1px 3px 1px rgba(60, 64, 67, 0.15);\n",
              "      fill: #174EA6;\n",
              "    }\n",
              "\n",
              "    .colab-df-buttons div {\n",
              "      margin-bottom: 4px;\n",
              "    }\n",
              "\n",
              "    [theme=dark] .colab-df-convert {\n",
              "      background-color: #3B4455;\n",
              "      fill: #D2E3FC;\n",
              "    }\n",
              "\n",
              "    [theme=dark] .colab-df-convert:hover {\n",
              "      background-color: #434B5C;\n",
              "      box-shadow: 0px 1px 3px 1px rgba(0, 0, 0, 0.15);\n",
              "      filter: drop-shadow(0px 1px 2px rgba(0, 0, 0, 0.3));\n",
              "      fill: #FFFFFF;\n",
              "    }\n",
              "  </style>\n",
              "\n",
              "    <script>\n",
              "      const buttonEl =\n",
              "        document.querySelector('#df-cd202e7a-4102-41ee-adad-e1fc3c35c8fd button.colab-df-convert');\n",
              "      buttonEl.style.display =\n",
              "        google.colab.kernel.accessAllowed ? 'block' : 'none';\n",
              "\n",
              "      async function convertToInteractive(key) {\n",
              "        const element = document.querySelector('#df-cd202e7a-4102-41ee-adad-e1fc3c35c8fd');\n",
              "        const dataTable =\n",
              "          await google.colab.kernel.invokeFunction('convertToInteractive',\n",
              "                                                    [key], {});\n",
              "        if (!dataTable) return;\n",
              "\n",
              "        const docLinkHtml = 'Like what you see? Visit the ' +\n",
              "          '<a target=\"_blank\" href=https://colab.research.google.com/notebooks/data_table.ipynb>data table notebook</a>'\n",
              "          + ' to learn more about interactive tables.';\n",
              "        element.innerHTML = '';\n",
              "        dataTable['output_type'] = 'display_data';\n",
              "        await google.colab.output.renderOutput(dataTable, element);\n",
              "        const docLink = document.createElement('div');\n",
              "        docLink.innerHTML = docLinkHtml;\n",
              "        element.appendChild(docLink);\n",
              "      }\n",
              "    </script>\n",
              "  </div>\n",
              "\n",
              "\n",
              "<div id=\"df-022611bb-076d-44f5-8f10-0cdcd6cec9cb\">\n",
              "  <button class=\"colab-df-quickchart\" onclick=\"quickchart('df-022611bb-076d-44f5-8f10-0cdcd6cec9cb')\"\n",
              "            title=\"Suggest charts\"\n",
              "            style=\"display:none;\">\n",
              "\n",
              "<svg xmlns=\"http://www.w3.org/2000/svg\" height=\"24px\"viewBox=\"0 0 24 24\"\n",
              "     width=\"24px\">\n",
              "    <g>\n",
              "        <path d=\"M19 3H5c-1.1 0-2 .9-2 2v14c0 1.1.9 2 2 2h14c1.1 0 2-.9 2-2V5c0-1.1-.9-2-2-2zM9 17H7v-7h2v7zm4 0h-2V7h2v10zm4 0h-2v-4h2v4z\"/>\n",
              "    </g>\n",
              "</svg>\n",
              "  </button>\n",
              "\n",
              "<style>\n",
              "  .colab-df-quickchart {\n",
              "      --bg-color: #E8F0FE;\n",
              "      --fill-color: #1967D2;\n",
              "      --hover-bg-color: #E2EBFA;\n",
              "      --hover-fill-color: #174EA6;\n",
              "      --disabled-fill-color: #AAA;\n",
              "      --disabled-bg-color: #DDD;\n",
              "  }\n",
              "\n",
              "  [theme=dark] .colab-df-quickchart {\n",
              "      --bg-color: #3B4455;\n",
              "      --fill-color: #D2E3FC;\n",
              "      --hover-bg-color: #434B5C;\n",
              "      --hover-fill-color: #FFFFFF;\n",
              "      --disabled-bg-color: #3B4455;\n",
              "      --disabled-fill-color: #666;\n",
              "  }\n",
              "\n",
              "  .colab-df-quickchart {\n",
              "    background-color: var(--bg-color);\n",
              "    border: none;\n",
              "    border-radius: 50%;\n",
              "    cursor: pointer;\n",
              "    display: none;\n",
              "    fill: var(--fill-color);\n",
              "    height: 32px;\n",
              "    padding: 0;\n",
              "    width: 32px;\n",
              "  }\n",
              "\n",
              "  .colab-df-quickchart:hover {\n",
              "    background-color: var(--hover-bg-color);\n",
              "    box-shadow: 0 1px 2px rgba(60, 64, 67, 0.3), 0 1px 3px 1px rgba(60, 64, 67, 0.15);\n",
              "    fill: var(--button-hover-fill-color);\n",
              "  }\n",
              "\n",
              "  .colab-df-quickchart-complete:disabled,\n",
              "  .colab-df-quickchart-complete:disabled:hover {\n",
              "    background-color: var(--disabled-bg-color);\n",
              "    fill: var(--disabled-fill-color);\n",
              "    box-shadow: none;\n",
              "  }\n",
              "\n",
              "  .colab-df-spinner {\n",
              "    border: 2px solid var(--fill-color);\n",
              "    border-color: transparent;\n",
              "    border-bottom-color: var(--fill-color);\n",
              "    animation:\n",
              "      spin 1s steps(1) infinite;\n",
              "  }\n",
              "\n",
              "  @keyframes spin {\n",
              "    0% {\n",
              "      border-color: transparent;\n",
              "      border-bottom-color: var(--fill-color);\n",
              "      border-left-color: var(--fill-color);\n",
              "    }\n",
              "    20% {\n",
              "      border-color: transparent;\n",
              "      border-left-color: var(--fill-color);\n",
              "      border-top-color: var(--fill-color);\n",
              "    }\n",
              "    30% {\n",
              "      border-color: transparent;\n",
              "      border-left-color: var(--fill-color);\n",
              "      border-top-color: var(--fill-color);\n",
              "      border-right-color: var(--fill-color);\n",
              "    }\n",
              "    40% {\n",
              "      border-color: transparent;\n",
              "      border-right-color: var(--fill-color);\n",
              "      border-top-color: var(--fill-color);\n",
              "    }\n",
              "    60% {\n",
              "      border-color: transparent;\n",
              "      border-right-color: var(--fill-color);\n",
              "    }\n",
              "    80% {\n",
              "      border-color: transparent;\n",
              "      border-right-color: var(--fill-color);\n",
              "      border-bottom-color: var(--fill-color);\n",
              "    }\n",
              "    90% {\n",
              "      border-color: transparent;\n",
              "      border-bottom-color: var(--fill-color);\n",
              "    }\n",
              "  }\n",
              "</style>\n",
              "\n",
              "  <script>\n",
              "    async function quickchart(key) {\n",
              "      const quickchartButtonEl =\n",
              "        document.querySelector('#' + key + ' button');\n",
              "      quickchartButtonEl.disabled = true;  // To prevent multiple clicks.\n",
              "      quickchartButtonEl.classList.add('colab-df-spinner');\n",
              "      try {\n",
              "        const charts = await google.colab.kernel.invokeFunction(\n",
              "            'suggestCharts', [key], {});\n",
              "      } catch (error) {\n",
              "        console.error('Error during call to suggestCharts:', error);\n",
              "      }\n",
              "      quickchartButtonEl.classList.remove('colab-df-spinner');\n",
              "      quickchartButtonEl.classList.add('colab-df-quickchart-complete');\n",
              "    }\n",
              "    (() => {\n",
              "      let quickchartButtonEl =\n",
              "        document.querySelector('#df-022611bb-076d-44f5-8f10-0cdcd6cec9cb button');\n",
              "      quickchartButtonEl.style.display =\n",
              "        google.colab.kernel.accessAllowed ? 'block' : 'none';\n",
              "    })();\n",
              "  </script>\n",
              "</div>\n",
              "    </div>\n",
              "  </div>\n"
            ],
            "application/vnd.google.colaboratory.intrinsic+json": {
              "type": "dataframe",
              "variable_name": "df",
              "summary": "{\n  \"name\": \"df\",\n  \"rows\": 2225,\n  \"fields\": [\n    {\n      \"column\": \"Category\",\n      \"properties\": {\n        \"dtype\": \"number\",\n        \"std\": 1,\n        \"min\": 1,\n        \"max\": 5,\n        \"num_unique_values\": 5,\n        \"samples\": [\n          2,\n          5,\n          3\n        ],\n        \"semantic_type\": \"\",\n        \"description\": \"\"\n      }\n    },\n    {\n      \"column\": \"Article\",\n      \"properties\": {\n        \"dtype\": \"string\",\n        \"num_unique_values\": 2117,\n        \"samples\": [\n          \"dutch bank lay staff abn amro netherlands largest bank cut job result falling profit cut amounting bank workforce result one charge euro bn job go investment banking go human resource respectively abn amro third large european bank announce cutback past month following deutsche bank credit suisse group profitability hit fall mortgage lending united state bank largest single market following recent interest rate rise abn amro operation netherlands united kingdom hardest hit job also lost u accounted profit first half across operation america asia pacific region restructuring designed improve efficiency reducing administrative cost increasing focus client service bank said course rise net income year operating profit set fall fall u revenue abn amro currently staff get profit growth coming year lower cost shedding job make total sense ivo geijsen analyst bank oyens van eeghen told bloomberg europe leading bank seem set period retrenchment deutsche bank said earlier month would reduce german workforce many job lost credit suisse first boston\",\n          \"euro firm miss optimism large company around world highly optimistic economic prospect survey boss suggests biggest worry terror threat regulation low cost competition wild ups down oil price one exception firm western europe uk lacking confidence year slow growth business adviser pricewaterhousecoopers pwc conducted survey two year ago nearly boss gloomy prospect global business leader say facing two pronged regulatory assault string corporate scandal united state enron worldcom sarbanes oxley act force company much transparent paperwork cost lot time money across europe meanwhile stock exchange listed company currently process moving new complex accounting standard called ifrs hacking red tape hardly avoided many chief executive around world appear decided deal low cost competitor already boss polled survey say moved part business low wage country another plan future possibly result worry low cost competition slightly fallen last year company calling significant threat one biggest threat pwc global chief executive samuel dipiazza said growing number company also concerned move outsource work cheaper country could hurt reputation home market harm quality service provide customer according frank brown global advisory leader pwc trend large company global operation one clear upside one risk one region example middle east kill business anymore surprisingly survey suggests rapid decline u dollar seen huge threat anymore unlike even year ago cited third largest problem mr dipiazza said interview chief executive suggested company adjusted new reality euro buy others successfully hedged position locked favourable exchange rate survey pricewaterhousecoopers interviewed chief executive throughout world last three month\",\n          \"burren awarded egyptian contract british energy firm burren energy awarded two potentially lucrative oil exploration contract egypt company successfully bid two contract granted government owned oil firm covering onshore offshore area gulf suez burren energy already presence egypt awarded exploration contract last year firm floated recently announced deal buy indian firm hindustan oil exploration deal give burren energy access indian oil gas industry latest contract expands burren energy global exploration production portfolio also hold contract turkmenistan republic congo asset significantly increase exploration portfolio egypt continue investigate opportunity region said chief executive finian sullivan\"\n        ],\n        \"semantic_type\": \"\",\n        \"description\": \"\"\n      }\n    }\n  ]\n}"
            }
          },
          "metadata": {},
          "execution_count": 103
        }
      ]
    },
    {
      "cell_type": "code",
      "source": [
        "choice = int(input(\"Choose \\n (1) If you want to use Bag of Words \\n (2) If you want to use TF-IDF \\n Choice: \"))\n",
        "\n",
        "if choice == 1:\n",
        "  cv = CountVectorizer(max_features=5000) #BOW\n",
        "  X = cv.fit_transform(df. Article).toarray()\n",
        "  y = np.array(df['Category'].values)\n",
        "\n",
        "elif choice == 2:\n",
        "  tf_idf = TfidfVectorizer() #TF-IDF\n",
        "  X = tf_idf.fit_transform(df.Article).toarray()\n",
        "  y = np.array(df['Category'].values)\n",
        "\n",
        "else:\n",
        "  print(\"Wrong Input!\")"
      ],
      "metadata": {
        "id": "UuZ66mAx84w4",
        "colab": {
          "base_uri": "https://localhost:8080/"
        },
        "outputId": "577714af-c2da-484a-b089-bb14a3ab0e3d"
      },
      "execution_count": 87,
      "outputs": [
        {
          "name": "stdout",
          "output_type": "stream",
          "text": [
            "Choose \n",
            " (1) If you want to use Bag of Words \n",
            " (2) If you want to use TF-IDF \n",
            " Choice: 2\n"
          ]
        }
      ]
    },
    {
      "cell_type": "markdown",
      "source": [
        "Performing train-test split -"
      ],
      "metadata": {
        "id": "g6MNWh3M_tS5"
      }
    },
    {
      "cell_type": "code",
      "source": [
        "X_train, X_val, y_train, y_val = train_test_split(X, y, test_size=0.25,\n",
        "                                                  shuffle=True, stratify=y,\n",
        "                                                  random_state=42)"
      ],
      "metadata": {
        "id": "9LNUNT2P_VGA"
      },
      "execution_count": 88,
      "outputs": []
    },
    {
      "cell_type": "markdown",
      "source": [
        "Final shape of the train & test set."
      ],
      "metadata": {
        "id": "Z2UEoCtCbf1G"
      }
    },
    {
      "cell_type": "code",
      "source": [
        "print(\"No. of rows in train set is {}.\".format(X_train.shape[0]))\n",
        "print(\"No. of rows in test set is {}.\".format(X_val.shape[0]))"
      ],
      "metadata": {
        "id": "b81MhbWZAFtY",
        "colab": {
          "base_uri": "https://localhost:8080/"
        },
        "outputId": "2ea986c8-89e7-4d58-d21e-66026d80db02"
      },
      "execution_count": 89,
      "outputs": [
        {
          "output_type": "stream",
          "name": "stdout",
          "text": [
            "No. of rows in train set is 1668.\n",
            "No. of rows in test set is 557.\n"
          ]
        }
      ]
    },
    {
      "cell_type": "markdown",
      "source": [
        "### Simple Approach -"
      ],
      "metadata": {
        "id": "siNwm6GgLnzL"
      }
    },
    {
      "cell_type": "markdown",
      "source": [
        "First, we'll follow a basic approach to create a model for this multi-class classification problem."
      ],
      "metadata": {
        "id": "3Y2EbIUTcSzh"
      }
    },
    {
      "cell_type": "markdown",
      "source": [
        "####**Naive Bayes Classifier**"
      ],
      "metadata": {
        "id": "lRW7Jot2q3qx"
      }
    },
    {
      "cell_type": "markdown",
      "source": [
        "The very first ML algorithm that we'll be trying is Naive Bayes Classifier."
      ],
      "metadata": {
        "id": "setGwvA2cfSb"
      }
    },
    {
      "cell_type": "code",
      "source": [
        "# Training the model -\n",
        "nb = MultinomialNB()\n",
        "nb.fit(X_train, y_train)"
      ],
      "metadata": {
        "id": "46t1KEOIq29e",
        "colab": {
          "base_uri": "https://localhost:8080/",
          "height": 74
        },
        "outputId": "814ecf70-1b61-4508-aba8-a675f7d22716"
      },
      "execution_count": 90,
      "outputs": [
        {
          "output_type": "execute_result",
          "data": {
            "text/plain": [
              "MultinomialNB()"
            ],
            "text/html": [
              "<style>#sk-container-id-4 {color: black;background-color: white;}#sk-container-id-4 pre{padding: 0;}#sk-container-id-4 div.sk-toggleable {background-color: white;}#sk-container-id-4 label.sk-toggleable__label {cursor: pointer;display: block;width: 100%;margin-bottom: 0;padding: 0.3em;box-sizing: border-box;text-align: center;}#sk-container-id-4 label.sk-toggleable__label-arrow:before {content: \"▸\";float: left;margin-right: 0.25em;color: #696969;}#sk-container-id-4 label.sk-toggleable__label-arrow:hover:before {color: black;}#sk-container-id-4 div.sk-estimator:hover label.sk-toggleable__label-arrow:before {color: black;}#sk-container-id-4 div.sk-toggleable__content {max-height: 0;max-width: 0;overflow: hidden;text-align: left;background-color: #f0f8ff;}#sk-container-id-4 div.sk-toggleable__content pre {margin: 0.2em;color: black;border-radius: 0.25em;background-color: #f0f8ff;}#sk-container-id-4 input.sk-toggleable__control:checked~div.sk-toggleable__content {max-height: 200px;max-width: 100%;overflow: auto;}#sk-container-id-4 input.sk-toggleable__control:checked~label.sk-toggleable__label-arrow:before {content: \"▾\";}#sk-container-id-4 div.sk-estimator input.sk-toggleable__control:checked~label.sk-toggleable__label {background-color: #d4ebff;}#sk-container-id-4 div.sk-label input.sk-toggleable__control:checked~label.sk-toggleable__label {background-color: #d4ebff;}#sk-container-id-4 input.sk-hidden--visually {border: 0;clip: rect(1px 1px 1px 1px);clip: rect(1px, 1px, 1px, 1px);height: 1px;margin: -1px;overflow: hidden;padding: 0;position: absolute;width: 1px;}#sk-container-id-4 div.sk-estimator {font-family: monospace;background-color: #f0f8ff;border: 1px dotted black;border-radius: 0.25em;box-sizing: border-box;margin-bottom: 0.5em;}#sk-container-id-4 div.sk-estimator:hover {background-color: #d4ebff;}#sk-container-id-4 div.sk-parallel-item::after {content: \"\";width: 100%;border-bottom: 1px solid gray;flex-grow: 1;}#sk-container-id-4 div.sk-label:hover label.sk-toggleable__label {background-color: #d4ebff;}#sk-container-id-4 div.sk-serial::before {content: \"\";position: absolute;border-left: 1px solid gray;box-sizing: border-box;top: 0;bottom: 0;left: 50%;z-index: 0;}#sk-container-id-4 div.sk-serial {display: flex;flex-direction: column;align-items: center;background-color: white;padding-right: 0.2em;padding-left: 0.2em;position: relative;}#sk-container-id-4 div.sk-item {position: relative;z-index: 1;}#sk-container-id-4 div.sk-parallel {display: flex;align-items: stretch;justify-content: center;background-color: white;position: relative;}#sk-container-id-4 div.sk-item::before, #sk-container-id-4 div.sk-parallel-item::before {content: \"\";position: absolute;border-left: 1px solid gray;box-sizing: border-box;top: 0;bottom: 0;left: 50%;z-index: -1;}#sk-container-id-4 div.sk-parallel-item {display: flex;flex-direction: column;z-index: 1;position: relative;background-color: white;}#sk-container-id-4 div.sk-parallel-item:first-child::after {align-self: flex-end;width: 50%;}#sk-container-id-4 div.sk-parallel-item:last-child::after {align-self: flex-start;width: 50%;}#sk-container-id-4 div.sk-parallel-item:only-child::after {width: 0;}#sk-container-id-4 div.sk-dashed-wrapped {border: 1px dashed gray;margin: 0 0.4em 0.5em 0.4em;box-sizing: border-box;padding-bottom: 0.4em;background-color: white;}#sk-container-id-4 div.sk-label label {font-family: monospace;font-weight: bold;display: inline-block;line-height: 1.2em;}#sk-container-id-4 div.sk-label-container {text-align: center;}#sk-container-id-4 div.sk-container {/* jupyter's `normalize.less` sets `[hidden] { display: none; }` but bootstrap.min.css set `[hidden] { display: none !important; }` so we also need the `!important` here to be able to override the default hidden behavior on the sphinx rendered scikit-learn.org. See: https://github.com/scikit-learn/scikit-learn/issues/21755 */display: inline-block !important;position: relative;}#sk-container-id-4 div.sk-text-repr-fallback {display: none;}</style><div id=\"sk-container-id-4\" class=\"sk-top-container\"><div class=\"sk-text-repr-fallback\"><pre>MultinomialNB()</pre><b>In a Jupyter environment, please rerun this cell to show the HTML representation or trust the notebook. <br />On GitHub, the HTML representation is unable to render, please try loading this page with nbviewer.org.</b></div><div class=\"sk-container\" hidden><div class=\"sk-item\"><div class=\"sk-estimator sk-toggleable\"><input class=\"sk-toggleable__control sk-hidden--visually\" id=\"sk-estimator-id-4\" type=\"checkbox\" checked><label for=\"sk-estimator-id-4\" class=\"sk-toggleable__label sk-toggleable__label-arrow\">MultinomialNB</label><div class=\"sk-toggleable__content\"><pre>MultinomialNB()</pre></div></div></div></div></div>"
            ]
          },
          "metadata": {},
          "execution_count": 90
        }
      ]
    },
    {
      "cell_type": "code",
      "source": [
        "# Calculating the train & test accuracy -\n",
        "nb_train = accuracy_score(y_train, nb.predict(X_train))\n",
        "nb_test = accuracy_score(y_val, nb.predict(X_val))\n",
        "\n",
        "print(\"Train accuracy :{:.3f}\".format(nb_train))\n",
        "print(\"Test accuracy :{:.3f}\".format(nb_test))"
      ],
      "metadata": {
        "id": "hXDMJQZes2WJ",
        "colab": {
          "base_uri": "https://localhost:8080/"
        },
        "outputId": "1f3a7b5e-0ea4-45bb-f2e3-b68649163cb4"
      },
      "execution_count": 91,
      "outputs": [
        {
          "output_type": "stream",
          "name": "stdout",
          "text": [
            "Train accuracy :0.988\n",
            "Test accuracy :0.977\n"
          ]
        }
      ]
    },
    {
      "cell_type": "code",
      "source": [
        "# Making predictions on the test set -\n",
        "y_pred_nb = nb.predict(X_val)\n",
        "y_pred_proba_nb = nb.predict_proba(X_val)"
      ],
      "metadata": {
        "id": "MKytRCrdr4fA"
      },
      "execution_count": 92,
      "outputs": []
    },
    {
      "cell_type": "code",
      "source": [
        "# Computing the ROC AUC score -\n",
        "print(\"ROC AUC Score: {:.3f}\".format(roc_auc_score(y_val, y_pred_proba_nb, multi_class='ovr')))"
      ],
      "metadata": {
        "id": "UPIMdVpKsDey",
        "colab": {
          "base_uri": "https://localhost:8080/"
        },
        "outputId": "35fc7226-2767-4169-9acc-5806e8e4813f"
      },
      "execution_count": 93,
      "outputs": [
        {
          "output_type": "stream",
          "name": "stdout",
          "text": [
            "ROC AUC Score: 0.999\n"
          ]
        }
      ]
    },
    {
      "cell_type": "code",
      "source": [
        "# Computing the precision, recall & f1 score -\n",
        "precision = precision_score(y_val, y_pred_nb, average='weighted')\n",
        "recall = recall_score(y_val, y_pred_nb, average='weighted')\n",
        "f1 = f1_score(y_val, y_pred_nb, average='weighted')\n",
        "\n",
        "print(\"Precision: {:.3f}\".format(precision))\n",
        "print(\"Recall: {:.3f}\".format(recall))\n",
        "print(\"F1 Score: {:.3f}\".format(f1))"
      ],
      "metadata": {
        "colab": {
          "base_uri": "https://localhost:8080/"
        },
        "id": "TqKgBQyxY4bG",
        "outputId": "304d2a74-0029-46db-9906-5043147efb2d"
      },
      "execution_count": 94,
      "outputs": [
        {
          "output_type": "stream",
          "name": "stdout",
          "text": [
            "Precision: 0.977\n",
            "Recall: 0.977\n",
            "F1 Score: 0.977\n"
          ]
        }
      ]
    },
    {
      "cell_type": "markdown",
      "source": [
        "Plotting the Confusion Matrix -"
      ],
      "metadata": {
        "id": "m4N303Q3t4ro"
      }
    },
    {
      "cell_type": "code",
      "source": [
        "cm = confusion_matrix(y_val, y_pred_nb)\n",
        "\n",
        "plt.figure(figsize = (8, 5))\n",
        "sns.heatmap(cm, annot=True, fmt='d', cbar=False, cmap='Blues')\n",
        "plt.title('Confusion Matrix')\n",
        "plt.xlabel('Predicted label')\n",
        "plt.ylabel('Actual label')\n",
        "plt.show()"
      ],
      "metadata": {
        "id": "ZmllUyU_uLNR",
        "colab": {
          "base_uri": "https://localhost:8080/",
          "height": 487
        },
        "outputId": "acc05b74-b13b-483b-b1b1-bc1f51dd9268"
      },
      "execution_count": 95,
      "outputs": [
        {
          "output_type": "display_data",
          "data": {
            "text/plain": [
              "<Figure size 800x500 with 1 Axes>"
            ],
            "image/png": "[encoded data removed]"
          },
          "metadata": {}
        }
      ]
    },
    {
      "cell_type": "markdown",
      "source": [
        "Printing the Classification Report -"
      ],
      "metadata": {
        "id": "UtViSbvpveSh"
      }
    },
    {
      "cell_type": "code",
      "source": [
        "print(classification_report(y_val, y_pred_nb))"
      ],
      "metadata": {
        "id": "phKvLIblvOQa",
        "colab": {
          "base_uri": "https://localhost:8080/"
        },
        "outputId": "98aa50cb-9a4c-4ffe-9724-92da3ae06336"
      },
      "execution_count": 96,
      "outputs": [
        {
          "output_type": "stream",
          "name": "stdout",
          "text": [
            "              precision    recall  f1-score   support\n",
            "\n",
            "           1       0.98      0.98      0.98       100\n",
            "           2       0.97      0.97      0.97       128\n",
            "           3       1.00      1.00      1.00       128\n",
            "           4       1.00      0.95      0.97        97\n",
            "           5       0.94      0.98      0.96       104\n",
            "\n",
            "    accuracy                           0.98       557\n",
            "   macro avg       0.98      0.98      0.98       557\n",
            "weighted avg       0.98      0.98      0.98       557\n",
            "\n"
          ]
        }
      ]
    },
    {
      "cell_type": "markdown",
      "source": [
        "### Functionalized Code -"
      ],
      "metadata": {
        "id": "uXoo7WjtLt8_"
      }
    },
    {
      "cell_type": "markdown",
      "source": [
        "Now, we'll try to functionalize the above code so that we can use it for a few more different models."
      ],
      "metadata": {
        "id": "tn3UaU5VezLR"
      }
    },
    {
      "cell_type": "markdown",
      "source": [
        "#### Model Training"
      ],
      "metadata": {
        "id": "jce-58Uo2CFL"
      }
    },
    {
      "cell_type": "code",
      "source": [
        "def model_train(obj):\n",
        "  obj.fit(X_train, y_train) # Training the model\n",
        "  y_pred = obj.predict(X_val) # Making predictions\n",
        "  y_pred_proba = obj.predict_proba(X_val)\n",
        "  return y_pred, y_pred_proba"
      ],
      "metadata": {
        "id": "2SERsOIkuS54"
      },
      "execution_count": 97,
      "outputs": []
    },
    {
      "cell_type": "markdown",
      "source": [
        "#### Model Evaluation"
      ],
      "metadata": {
        "id": "T69zTSiE2E_D"
      }
    },
    {
      "cell_type": "code",
      "source": [
        "def model_eval(obj, y_pred, y_pred_proba):\n",
        "  print(\"-------------------------\")\n",
        "\n",
        "  # Calculating the train & test accuracy\n",
        "  train_acc = accuracy_score(y_train, obj.predict(X_train))\n",
        "  test_acc = accuracy_score(y_val, obj.predict(X_val))\n",
        "\n",
        "  print(\"Train Accuracy: {:.3f}\".format(train_acc))\n",
        "  print(\"Test Accuracy: {:.3f}\\n\".format(test_acc))\n",
        "\n",
        "  # Computing the ROC AUC score\n",
        "  print(\"ROC AUC Score: {:.3f}\\n\".format(roc_auc_score(y_val, y_pred_proba, multi_class='ovr')))\n",
        "\n",
        "  # Computing the precision, recall & f1 score\n",
        "  precision = precision_score(y_val, y_pred, average='weighted')\n",
        "  recall = recall_score(y_val, y_pred, average='weighted')\n",
        "  f1 = f1_score(y_val, y_pred, average='weighted')\n",
        "\n",
        "  print(\"Precision: {:.3f}\".format(precision))\n",
        "  print(\"Recall: {:.3f}\".format(recall))\n",
        "  print(\"F1 Score: {:.3f}\".format(f1))\n",
        "\n",
        "  print(\"-------------------------\")"
      ],
      "metadata": {
        "id": "mKSx47HKuZMk"
      },
      "execution_count": 98,
      "outputs": []
    },
    {
      "cell_type": "markdown",
      "source": [
        "Now, let us try out a few more different ML algorithm to see how they perform for this problem, on this dataset."
      ],
      "metadata": {
        "id": "h3qAXRLBddfj"
      }
    },
    {
      "cell_type": "markdown",
      "source": [
        "**Decision Tree Classifer**"
      ],
      "metadata": {
        "id": "ZCi9-7YtQeZq"
      }
    },
    {
      "cell_type": "code",
      "source": [
        "# Creating the model object -\n",
        "dt = DecisionTreeClassifier()\n",
        "\n",
        "# Training the model -\n",
        "y_pred_dt, y_pred_proba_dt = model_train(dt)\n",
        "\n",
        "# Evaluatong the model -\n",
        "model_eval(dt, y_pred_dt, y_pred_proba_dt)"
      ],
      "metadata": {
        "id": "ttZMQWACQptZ",
        "colab": {
          "base_uri": "https://localhost:8080/"
        },
        "outputId": "dd79ced8-8068-4f64-b888-25c010e9588f"
      },
      "execution_count": 99,
      "outputs": [
        {
          "output_type": "stream",
          "name": "stdout",
          "text": [
            "-------------------------\n",
            "Train Accuracy: 1.000\n",
            "Test Accuracy: 0.860\n",
            "\n",
            "ROC AUC Score: 0.912\n",
            "\n",
            "Precision: 0.861\n",
            "Recall: 0.860\n",
            "F1 Score: 0.860\n",
            "-------------------------\n"
          ]
        }
      ]
    },
    {
      "cell_type": "markdown",
      "source": [
        "**Nearest Neighbors Classifier**"
      ],
      "metadata": {
        "id": "Egzqu4PbQiu3"
      }
    },
    {
      "cell_type": "code",
      "source": [
        "# Creating the model object -\n",
        "knn = KNeighborsClassifier(n_neighbors=5)\n",
        "\n",
        "# Training the model -\n",
        "y_pred_knn, y_pred_proba_knn = model_train(knn)\n",
        "\n",
        "# Evaluatong the model -\n",
        "model_eval(knn, y_pred_knn, y_pred_proba_knn)"
      ],
      "metadata": {
        "id": "a5Fgr4nTQsCN",
        "colab": {
          "base_uri": "https://localhost:8080/"
        },
        "outputId": "fb561f8a-6002-49bc-be29-e968686ab98f"
      },
      "execution_count": 100,
      "outputs": [
        {
          "output_type": "stream",
          "name": "stdout",
          "text": [
            "-------------------------\n",
            "Train Accuracy: 0.965\n",
            "Test Accuracy: 0.934\n",
            "\n",
            "ROC AUC Score: 0.988\n",
            "\n",
            "Precision: 0.935\n",
            "Recall: 0.934\n",
            "F1 Score: 0.933\n",
            "-------------------------\n"
          ]
        }
      ]
    },
    {
      "cell_type": "markdown",
      "source": [
        "**Random Forest Classifier**"
      ],
      "metadata": {
        "id": "lws9c2wqL-7F"
      }
    },
    {
      "cell_type": "code",
      "source": [
        "# Creating the model object -\n",
        "rf = RandomForestClassifier()\n",
        "\n",
        "# Training the model -\n",
        "y_pred_rf, y_pred_proba_rf = model_train(rf)\n",
        "\n",
        "# Evaluatong the model -\n",
        "model_eval(rf, y_pred_rf, y_pred_proba_rf)"
      ],
      "metadata": {
        "id": "EiVD6z8cMIzt",
        "colab": {
          "base_uri": "https://localhost:8080/"
        },
        "outputId": "3e19b82a-479f-4f58-e5ab-686a933cec15"
      },
      "execution_count": 101,
      "outputs": [
        {
          "output_type": "stream",
          "name": "stdout",
          "text": [
            "-------------------------\n",
            "Train Accuracy: 1.000\n",
            "Test Accuracy: 0.968\n",
            "\n",
            "ROC AUC Score: 0.998\n",
            "\n",
            "Precision: 0.968\n",
            "Recall: 0.968\n",
            "F1 Score: 0.968\n",
            "-------------------------\n"
          ]
        }
      ]
    },
    {
      "cell_type": "markdown",
      "source": [
        "*Observation: Out of all the models tested till now, Naive Bayes Classifier seems to be the best performing one since it gives good train & test accuracy, more than satisfactory precision & recall and almost non-significant overfitting.*\n",
        "\n"
      ],
      "metadata": {
        "id": "vP16yXxZldgp"
      }
    },
    {
      "cell_type": "code",
      "source": [],
      "metadata": {
        "id": "uBOJm8RlDf-w"
      },
      "execution_count": null,
      "outputs": []
    }
  ]
}