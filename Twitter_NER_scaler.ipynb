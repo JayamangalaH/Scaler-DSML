{
  "cells": [
    {
      "cell_type": "markdown",
      "metadata": {
        "id": "at3FQVEi0F-w"
      },
      "source": [
        "# Problem statement\n",
        "\n",
        "*Context*: Twitter is a microblogging and social networking service on which users post and interact with messages known as \"tweets\". Every second, on average, around 6,000 tweets are tweeted on Twitter, corresponding to over 350,000 tweets sent per minute, 500 million tweets per day.\n",
        "Twitter wants to automatically tag and analyze tweets for better understanding of the trends and topics without being dependent on the hashtags that the users use. Many users do not use hashtags or sometimes use wrong or mis-spelled tags, so they want to completely remove this problem and create a system of recognizing important content of the tweets.\n",
        "\n",
        "*Objective*: You need to train a model that will be able to identify the various named entities.\n"
      ]
    },
    {
      "cell_type": "markdown",
      "metadata": {
        "id": "MSl9ZJz2z_tW"
      },
      "source": [
        "## Downloading data"
      ]
    },
    {
      "cell_type": "code",
      "execution_count": 1,
      "metadata": {
        "colab": {
          "base_uri": "https://localhost:8080/"
        },
        "id": "DabeGjENi-ER",
        "outputId": "2d0370b3-dfe6-4eec-9132-83338a9ff34c"
      },
      "outputs": [
        {
          "output_type": "stream",
          "name": "stdout",
          "text": [
            "Downloading...\n",
            "From: https://drive.google.com/uc?id=14_VHffl1qBUEnZ1IWFHnh6B9M5_A-Wf8\n",
            "To: /content/wnut 16.txt.conll\n",
            "100% 403k/403k [00:00<00:00, 4.71MB/s]\n",
            "Downloading...\n",
            "From: https://drive.google.com/uc?id=1cnrGjppPOU_NtHNpGu0RJGg1CUNNsse_\n",
            "To: /content/wnut 16test.txt.conll\n",
            "100% 635k/635k [00:00<00:00, 6.20MB/s]\n"
          ]
        }
      ],
      "source": [
        "!gdown 14_VHffl1qBUEnZ1IWFHnh6B9M5_A-Wf8\n",
        "!gdown 1cnrGjppPOU_NtHNpGu0RJGg1CUNNsse_"
      ]
    },
    {
      "cell_type": "markdown",
      "metadata": {
        "id": "CTg2TR-b0DFT"
      },
      "source": [
        "## Installing libraries"
      ]
    },
    {
      "cell_type": "code",
      "execution_count": 2,
      "metadata": {
        "colab": {
          "base_uri": "https://localhost:8080/"
        },
        "id": "AUAWW6bSiGpI",
        "outputId": "19c7ff25-2242-4335-e934-aa02565c3699"
      },
      "outputs": [
        {
          "output_type": "stream",
          "name": "stdout",
          "text": [
            "Collecting datasets\n",
            "  Downloading datasets-2.16.1-py3-none-any.whl (507 kB)\n",
            "\u001b[2K     \u001b[90m━━━━━━━━━━━━━━━━━━━━━━━━━━━━━━━━━━━━━━━━\u001b[0m \u001b[32m507.1/507.1 kB\u001b[0m \u001b[31m6.7 MB/s\u001b[0m eta \u001b[36m0:00:00\u001b[0m\n",
            "\u001b[?25hRequirement already satisfied: transformers in /usr/local/lib/python3.10/dist-packages (4.35.2)\n",
            "Requirement already satisfied: filelock in /usr/local/lib/python3.10/dist-packages (from datasets) (3.13.1)\n",
            "Requirement already satisfied: numpy>=1.17 in /usr/local/lib/python3.10/dist-packages (from datasets) (1.23.5)\n",
            "Requirement already satisfied: pyarrow>=8.0.0 in /usr/local/lib/python3.10/dist-packages (from datasets) (10.0.1)\n",
            "Requirement already satisfied: pyarrow-hotfix in /usr/local/lib/python3.10/dist-packages (from datasets) (0.6)\n",
            "Collecting dill<0.3.8,>=0.3.0 (from datasets)\n",
            "  Downloading dill-0.3.7-py3-none-any.whl (115 kB)\n",
            "\u001b[2K     \u001b[90m━━━━━━━━━━━━━━━━━━━━━━━━━━━━━━━━━━━━━━━━\u001b[0m \u001b[32m115.3/115.3 kB\u001b[0m \u001b[31m11.5 MB/s\u001b[0m eta \u001b[36m0:00:00\u001b[0m\n",
            "\u001b[?25hRequirement already satisfied: pandas in /usr/local/lib/python3.10/dist-packages (from datasets) (1.5.3)\n",
            "Requirement already satisfied: requests>=2.19.0 in /usr/local/lib/python3.10/dist-packages (from datasets) (2.31.0)\n",
            "Requirement already satisfied: tqdm>=4.62.1 in /usr/local/lib/python3.10/dist-packages (from datasets) (4.66.1)\n",
            "Requirement already satisfied: xxhash in /usr/local/lib/python3.10/dist-packages (from datasets) (3.4.1)\n",
            "Collecting multiprocess (from datasets)\n",
            "  Downloading multiprocess-0.70.16-py310-none-any.whl (134 kB)\n",
            "\u001b[2K     \u001b[90m━━━━━━━━━━━━━━━━━━━━━━━━━━━━━━━━━━━━━━━━\u001b[0m \u001b[32m134.8/134.8 kB\u001b[0m \u001b[31m9.1 MB/s\u001b[0m eta \u001b[36m0:00:00\u001b[0m\n",
            "\u001b[?25hRequirement already satisfied: fsspec[http]<=2023.10.0,>=2023.1.0 in /usr/local/lib/python3.10/dist-packages (from datasets) (2023.6.0)\n",
            "Requirement already satisfied: aiohttp in /usr/local/lib/python3.10/dist-packages (from datasets) (3.9.1)\n",
            "Requirement already satisfied: huggingface-hub>=0.19.4 in /usr/local/lib/python3.10/dist-packages (from datasets) (0.20.3)\n",
            "Requirement already satisfied: packaging in /usr/local/lib/python3.10/dist-packages (from datasets) (23.2)\n",
            "Requirement already satisfied: pyyaml>=5.1 in /usr/local/lib/python3.10/dist-packages (from datasets) (6.0.1)\n",
            "Requirement already satisfied: regex!=2019.12.17 in /usr/local/lib/python3.10/dist-packages (from transformers) (2023.6.3)\n",
            "Requirement already satisfied: tokenizers<0.19,>=0.14 in /usr/local/lib/python3.10/dist-packages (from transformers) (0.15.1)\n",
            "Requirement already satisfied: safetensors>=0.3.1 in /usr/local/lib/python3.10/dist-packages (from transformers) (0.4.1)\n",
            "Requirement already satisfied: attrs>=17.3.0 in /usr/local/lib/python3.10/dist-packages (from aiohttp->datasets) (23.2.0)\n",
            "Requirement already satisfied: multidict<7.0,>=4.5 in /usr/local/lib/python3.10/dist-packages (from aiohttp->datasets) (6.0.4)\n",
            "Requirement already satisfied: yarl<2.0,>=1.0 in /usr/local/lib/python3.10/dist-packages (from aiohttp->datasets) (1.9.4)\n",
            "Requirement already satisfied: frozenlist>=1.1.1 in /usr/local/lib/python3.10/dist-packages (from aiohttp->datasets) (1.4.1)\n",
            "Requirement already satisfied: aiosignal>=1.1.2 in /usr/local/lib/python3.10/dist-packages (from aiohttp->datasets) (1.3.1)\n",
            "Requirement already satisfied: async-timeout<5.0,>=4.0 in /usr/local/lib/python3.10/dist-packages (from aiohttp->datasets) (4.0.3)\n",
            "Requirement already satisfied: typing-extensions>=3.7.4.3 in /usr/local/lib/python3.10/dist-packages (from huggingface-hub>=0.19.4->datasets) (4.5.0)\n",
            "Requirement already satisfied: charset-normalizer<4,>=2 in /usr/local/lib/python3.10/dist-packages (from requests>=2.19.0->datasets) (3.3.2)\n",
            "Requirement already satisfied: idna<4,>=2.5 in /usr/local/lib/python3.10/dist-packages (from requests>=2.19.0->datasets) (3.6)\n",
            "Requirement already satisfied: urllib3<3,>=1.21.1 in /usr/local/lib/python3.10/dist-packages (from requests>=2.19.0->datasets) (2.0.7)\n",
            "Requirement already satisfied: certifi>=2017.4.17 in /usr/local/lib/python3.10/dist-packages (from requests>=2.19.0->datasets) (2023.11.17)\n",
            "INFO: pip is looking at multiple versions of multiprocess to determine which version is compatible with other requirements. This could take a while.\n",
            "  Downloading multiprocess-0.70.15-py310-none-any.whl (134 kB)\n",
            "\u001b[2K     \u001b[90m━━━━━━━━━━━━━━━━━━━━━━━━━━━━━━━━━━━━━━━━\u001b[0m \u001b[32m134.8/134.8 kB\u001b[0m \u001b[31m2.8 MB/s\u001b[0m eta \u001b[36m0:00:00\u001b[0m\n",
            "\u001b[?25hRequirement already satisfied: python-dateutil>=2.8.1 in /usr/local/lib/python3.10/dist-packages (from pandas->datasets) (2.8.2)\n",
            "Requirement already satisfied: pytz>=2020.1 in /usr/local/lib/python3.10/dist-packages (from pandas->datasets) (2023.3.post1)\n",
            "Requirement already satisfied: six>=1.5 in /usr/local/lib/python3.10/dist-packages (from python-dateutil>=2.8.1->pandas->datasets) (1.16.0)\n",
            "Installing collected packages: dill, multiprocess, datasets\n",
            "Successfully installed datasets-2.16.1 dill-0.3.7 multiprocess-0.70.15\n",
            "Collecting tensorflow-addons\n",
            "  Downloading tensorflow_addons-0.23.0-cp310-cp310-manylinux_2_17_x86_64.manylinux2014_x86_64.whl (611 kB)\n",
            "\u001b[2K     \u001b[90m━━━━━━━━━━━━━━━━━━━━━━━━━━━━━━━━━━━━━━━━\u001b[0m \u001b[32m611.8/611.8 kB\u001b[0m \u001b[31m5.0 MB/s\u001b[0m eta \u001b[36m0:00:00\u001b[0m\n",
            "\u001b[?25hRequirement already satisfied: packaging in /usr/local/lib/python3.10/dist-packages (from tensorflow-addons) (23.2)\n",
            "Collecting typeguard<3.0.0,>=2.7 (from tensorflow-addons)\n",
            "  Downloading typeguard-2.13.3-py3-none-any.whl (17 kB)\n",
            "Installing collected packages: typeguard, tensorflow-addons\n",
            "Successfully installed tensorflow-addons-0.23.0 typeguard-2.13.3\n"
          ]
        }
      ],
      "source": [
        "%pip install datasets transformers\n",
        "%pip install tensorflow-addons"
      ]
    },
    {
      "cell_type": "code",
      "execution_count": 3,
      "metadata": {
        "id": "wg5Yfb9P0L46"
      },
      "outputs": [],
      "source": [
        "import pandas as pd\n",
        "import tensorflow as tf"
      ]
    },
    {
      "cell_type": "markdown",
      "metadata": {
        "id": "hobF9tNHjZSc"
      },
      "source": [
        "## Loading data from the files"
      ]
    },
    {
      "cell_type": "code",
      "execution_count": 4,
      "metadata": {
        "id": "-MzsPIKwkB-t"
      },
      "outputs": [],
      "source": [
        "def load_data(filename: str):\n",
        "  # Conll file is stored as (token, tag) pairs, one per line\n",
        "  # Extracting data from conll files\n",
        "  with open(filename, 'r') as file:\n",
        "    lines = [line[:-1].split() for line in file] # Skipping last line as it will be a blank space\n",
        "  samples, start = [], 0\n",
        "  for end, parts in enumerate(lines):\n",
        "      if not parts:\n",
        "          sample = [(token, tag)\n",
        "                      for token, tag in lines[start:end]]\n",
        "          samples.append(sample)\n",
        "          start = end + 1\n",
        "  if start < end:\n",
        "    samples.append(lines[start:end])\n",
        "  return samples\n",
        "\n",
        "train_samples = load_data('wnut 16.txt.conll')\n",
        "test_samples = load_data('wnut 16test.txt.conll')\n",
        "samples = train_samples + test_samples\n",
        "schema = ['_'] + sorted({tag for sentence in samples\n",
        "                             for _, tag in sentence}) # '_' is used to indicate a null (blank) token."
      ]
    },
    {
      "cell_type": "markdown",
      "metadata": {
        "id": "I0rw_3r5jhuI"
      },
      "source": [
        "## Structure of data"
      ]
    },
    {
      "cell_type": "code",
      "execution_count": 5,
      "metadata": {
        "colab": {
          "base_uri": "https://localhost:8080/"
        },
        "id": "LYuLVDagmRL5",
        "outputId": "4f79f887-d862-4076-fc3a-f93ee5c6a240"
      },
      "outputs": [
        {
          "output_type": "execute_result",
          "data": {
            "text/plain": [
              "[('Made', 'O'),\n",
              " ('it', 'O'),\n",
              " ('back', 'O'),\n",
              " ('home', 'O'),\n",
              " ('to', 'O'),\n",
              " ('GA', 'B-geo-loc'),\n",
              " ('.', 'O'),\n",
              " ('It', 'O'),\n",
              " ('sucks', 'O'),\n",
              " ('not', 'O'),\n",
              " ('to', 'O'),\n",
              " ('be', 'O'),\n",
              " ('at', 'O'),\n",
              " ('Disney', 'B-facility'),\n",
              " ('world', 'I-facility'),\n",
              " (',', 'O'),\n",
              " ('but', 'O'),\n",
              " ('its', 'O'),\n",
              " ('good', 'O'),\n",
              " ('to', 'O'),\n",
              " ('be', 'O'),\n",
              " ('home', 'O'),\n",
              " ('.', 'O'),\n",
              " ('Time', 'O'),\n",
              " ('to', 'O'),\n",
              " ('start', 'O'),\n",
              " ('planning', 'O'),\n",
              " ('the', 'O'),\n",
              " ('next', 'O'),\n",
              " ('Disney', 'B-facility'),\n",
              " ('World', 'I-facility'),\n",
              " ('trip', 'O'),\n",
              " ('.', 'O')]"
            ]
          },
          "metadata": {},
          "execution_count": 5
        }
      ],
      "source": [
        "train_samples[1]"
      ]
    },
    {
      "cell_type": "markdown",
      "metadata": {
        "id": "JaS4WFxetHgp"
      },
      "source": [
        "## EDA: Let's have a look at the distribution of tags on data"
      ]
    },
    {
      "cell_type": "code",
      "execution_count": 6,
      "metadata": {
        "colab": {
          "base_uri": "https://localhost:8080/",
          "height": 546
        },
        "id": "x4eGILw5tMUb",
        "outputId": "bfffbe92-8c19-4829-bb60-afec26bf7e54"
      },
      "outputs": [
        {
          "output_type": "execute_result",
          "data": {
            "text/plain": [
              "<Axes: xlabel='keys'>"
            ]
          },
          "metadata": {},
          "execution_count": 6
        },
        {
          "output_type": "display_data",
          "data": {
            "text/plain": [
              "<Figure size 640x480 with 1 Axes>"
            ],
            "image/png": "[encoded data removed]"
          },
          "metadata": {}
        }
      ],
      "source": [
        "import seaborn as sns\n",
        "colors = ['violet', 'indigo', 'blue', 'green', 'yellow', 'orange', 'red']\n",
        "counts = {}\n",
        "\n",
        "# Calculateing the number of data points having a given label\n",
        "for tag in schema:\n",
        "  counts[tag] = 0\n",
        "  for sample in train_samples:\n",
        "    for label in sample:\n",
        "      if label[1] == tag:\n",
        "        counts[tag]+=1\n",
        "\n",
        "counts_df = pd.DataFrame({'keys': list(counts.keys()), 'values': list(counts.values())})\n",
        "counts_df.plot.bar(x='keys', y='values', legend=False, color=colors)"
      ]
    },
    {
      "cell_type": "markdown",
      "metadata": {
        "id": "4_lmaJBowNqr"
      },
      "source": [
        "- We have too many \"other\" fields, which is natural as only few annotations exist per sentence\n",
        "- let's remove `O` tag and see tag distribution"
      ]
    },
    {
      "cell_type": "code",
      "execution_count": 7,
      "metadata": {
        "colab": {
          "base_uri": "https://localhost:8080/",
          "height": 546
        },
        "id": "ipVTM0eLwkWJ",
        "outputId": "08f27b54-a882-4d94-a391-2492b99194ab"
      },
      "outputs": [
        {
          "output_type": "execute_result",
          "data": {
            "text/plain": [
              "<Axes: xlabel='keys'>"
            ]
          },
          "metadata": {},
          "execution_count": 7
        },
        {
          "output_type": "display_data",
          "data": {
            "text/plain": [
              "<Figure size 640x480 with 1 Axes>"
            ],
            "image/png": "[encoded data removed]"
          },
          "metadata": {}
        }
      ],
      "source": [
        "counts.pop('O')\n",
        "counts_df = pd.DataFrame({'keys': list(counts.keys()), 'values': list(counts.values())})\n",
        "counts_df.plot.bar(x='keys', y='values', legend=False, color=colors)"
      ]
    },
    {
      "cell_type": "markdown",
      "metadata": {
        "id": "h3rbf0bqTUTz"
      },
      "source": [
        "## Tag information\n",
        "- B-* Start token for a tag\n",
        "- I-* Continuation tokens for a tag\n",
        "\n",
        "## Available Entities\n",
        "- Company\n",
        "- Facility\n",
        "- Geo-loc: geolocation\n",
        "- Musicartist\n",
        "- Person\n",
        "- Product\n",
        "- Sportsteam\n",
        "- TV Show\n",
        "- Other"
      ]
    },
    {
      "cell_type": "markdown",
      "metadata": {
        "id": "TQIslo-BCly3"
      },
      "source": [
        "### More preprocessing"
      ]
    },
    {
      "cell_type": "markdown",
      "metadata": {
        "id": "G1Yyb4bmBIxl"
      },
      "source": [
        "- let's get vocab & sequence lengths"
      ]
    },
    {
      "cell_type": "code",
      "execution_count": 8,
      "metadata": {
        "colab": {
          "base_uri": "https://localhost:8080/"
        },
        "id": "NMMqyl5V-qey",
        "outputId": "c234d136-ec22-4e66-83a7-de6a076e79e2"
      },
      "outputs": [
        {
          "output_type": "stream",
          "name": "stdout",
          "text": [
            "******************************\n",
            "Max Length:  39\n",
            "Vocab Size:  25382\n"
          ]
        }
      ],
      "source": [
        "from collections import defaultdict\n",
        "all_samples = train_samples\n",
        "all_samples.extend(test_samples)\n",
        "\n",
        "word_counts = defaultdict(int) # Calculate vocab size\n",
        "max_len = 0 # Calculate max length of a sentence\n",
        "\n",
        "for sample in all_samples:\n",
        "  for word in sample:\n",
        "    word_counts[word[0]]+=1\n",
        "\n",
        "  max_len = max(max_len, len(sample))\n",
        "\n",
        "n_words = len(word_counts.items())\n",
        "\n",
        "\n",
        "print(\"*\"*30)\n",
        "print(\"Max Length: \", max_len)\n",
        "print(\"Vocab Size: \", n_words)"
      ]
    },
    {
      "cell_type": "markdown",
      "metadata": {
        "id": "ZmyDZ8CnUCeW"
      },
      "source": [
        "## Our approach\n",
        "- Train a simple LSTM + CRF model to get a baseline\n",
        "- Look at the results of transformer based architectures"
      ]
    },
    {
      "cell_type": "markdown",
      "metadata": {
        "id": "-w0sdEfKB0Gq"
      },
      "source": [
        "## Training LSTM + CRF model:\n",
        "- Let's using glove to initialize embeddings"
      ]
    },
    {
      "cell_type": "code",
      "execution_count": 9,
      "metadata": {
        "id": "UB6iUDzQDXbn",
        "outputId": "bbb67a3c-2663-4b1b-aa58-d99b77555538",
        "colab": {
          "base_uri": "https://localhost:8080/"
        }
      },
      "outputs": [
        {
          "output_type": "stream",
          "name": "stdout",
          "text": [
            "[==================================================] 100.0% 758.5/758.5MB downloaded\n"
          ]
        }
      ],
      "source": [
        "import gensim.downloader as api\n",
        "word2vec = api.load(\"glove-twitter-200\") # Loading glove-twitter model\n",
        "embedding_dim = 200"
      ]
    },
    {
      "cell_type": "markdown",
      "metadata": {
        "id": "BrAx_B4NL-Y5"
      },
      "source": [
        "### Training a tokenizer for LSTM input embeddings"
      ]
    },
    {
      "cell_type": "code",
      "execution_count": 10,
      "metadata": {
        "id": "5FD0YgSyLZPi"
      },
      "outputs": [],
      "source": [
        "all_sentences = [] # Concating test, train sentences. To train a tokenizer\n",
        "for sample in all_samples:\n",
        "  sentence = [tag[0] for tag in sample]\n",
        "  all_sentences.append(sentence)\n",
        "\n",
        "crf_tokenizer = tf.keras.preprocessing.text.Tokenizer(num_words=n_words, lower=True)\n",
        "crf_tokenizer.fit_on_texts(all_sentences)"
      ]
    },
    {
      "cell_type": "markdown",
      "metadata": {
        "id": "vVSuLDqCMJ4I"
      },
      "source": [
        "### Prepare embedding matrix"
      ]
    },
    {
      "cell_type": "code",
      "execution_count": 11,
      "metadata": {
        "colab": {
          "base_uri": "https://localhost:8080/"
        },
        "id": "7zDyMXYBMEPA",
        "outputId": "c00f8ff2-a112-4573-fb83-cc3f580a4fec"
      },
      "outputs": [
        {
          "output_type": "stream",
          "name": "stdout",
          "text": [
            "Converted 11495 words (10438 misses)\n"
          ]
        }
      ],
      "source": [
        "import numpy as np\n",
        "num_tokens = len(crf_tokenizer.word_index) + 1\n",
        "hits = 0\n",
        "misses = 0\n",
        "missed_words = []\n",
        "\n",
        "\n",
        "# Prepare embedding matrix\n",
        "embedding_matrix = np.zeros((num_tokens, embedding_dim))\n",
        "for word, i in crf_tokenizer.word_index.items():\n",
        "  embedding_vector = None\n",
        "  try:\n",
        "    embedding_vector = word2vec[word]\n",
        "  except Exception :\n",
        "    pass\n",
        "\n",
        "  if embedding_vector is not None:\n",
        "    # Words not found in embedding index will be all-zeros.\n",
        "    # This includes the representation for \"padding\" and \"OOV\"\n",
        "    embedding_matrix[i] = embedding_vector\n",
        "    hits += 1\n",
        "  else:\n",
        "    missed_words.append(word)\n",
        "    misses += 1\n",
        "print(\"Converted %d words (%d misses)\" % (hits, misses))"
      ]
    },
    {
      "cell_type": "markdown",
      "metadata": {
        "id": "Zn0GdTcF-bCN"
      },
      "source": [
        "# LSTM + CRF Model training"
      ]
    },
    {
      "cell_type": "markdown",
      "metadata": {
        "id": "NveHPtLoS_GZ"
      },
      "source": [
        "## Creating a training dataset"
      ]
    },
    {
      "cell_type": "code",
      "execution_count": 12,
      "metadata": {
        "id": "QKzqnTLkmu6f"
      },
      "outputs": [],
      "source": [
        "tag2id = {} # Label to indicies mapping\n",
        "id2tag = {} # Index to label mapping\n",
        "for i, tag in enumerate(schema):\n",
        "  tag2id[tag] = i\n",
        "  id2tag[i] = tag"
      ]
    },
    {
      "cell_type": "markdown",
      "source": [],
      "metadata": {
        "id": "AuzLjL3kLVuZ"
      }
    },
    {
      "cell_type": "markdown",
      "metadata": {
        "id": "hCJDhwqjUmdC"
      },
      "source": [
        "- We will encode our labels as OHE vectors. This is to keep it compatible with SigmoidFocalCrossEntropy loss"
      ]
    },
    {
      "cell_type": "code",
      "execution_count": 13,
      "metadata": {
        "id": "RBDhfMe3STdR"
      },
      "outputs": [],
      "source": [
        "def get_dataset(samples, max_len, tag2id, tokenizer):\n",
        "  '''Prepares the input dataset\n",
        "\n",
        "  Args:\n",
        "    `samples`: List[List[Tuple[word, tag]]], input data\n",
        "    `max_len`: Maximum input length\n",
        "    `tag2id`: Mapping[tag: integer]\n",
        "    `tokenizer`: Tensorflow tokenizer, for tokenizing input sequence\n",
        "\n",
        "  Returns:\n",
        "    Tuple[np.ndarray, np.ndarray]: sentences and it's labels\n",
        "  '''\n",
        "  dataset = {'samples':[], 'labels': []}\n",
        "\n",
        "  for sample in samples:\n",
        "    # Extracting inputs and labels\n",
        "    inputs = [x[0] for x in sample]\n",
        "    outputs = [x[1] for x in sample]\n",
        "\n",
        "    # Tokenizing inputs\n",
        "    inputs = tokenizer.texts_to_sequences([inputs])[0]\n",
        "\n",
        "    # padding labels\n",
        "    padded_inputs = [inputs[i] if i < len(inputs) else 0 for i in range(max_len)]\n",
        "\n",
        "    # Initializing labels as One Hot Encoded Vectors\n",
        "    padded_labels = [[0 for i in range(len(tag2id))] for j in range(max_len)]\n",
        "    for i in range(len(outputs)):\n",
        "      padded_labels[i][tag2id[outputs[i]]] = 1\n",
        "\n",
        "    # Adding padded inputs & labels to dataset\n",
        "    dataset['samples'].append(padded_inputs)\n",
        "    dataset['labels'].append(padded_labels)\n",
        "\n",
        "  return np.array(dataset['samples']), np.array(dataset['labels'])\n",
        "\n",
        "train_sentences, train_labels = get_dataset(train_samples, max_len, tag2id, crf_tokenizer)\n",
        "test_sentences, test_labels = get_dataset(test_samples, max_len, tag2id, crf_tokenizer)"
      ]
    },
    {
      "cell_type": "markdown",
      "metadata": {
        "id": "5DoaomPwzL83"
      },
      "source": [
        "## Training Model"
      ]
    },
    {
      "cell_type": "markdown",
      "metadata": {
        "id": "NceuLRZTSxmn"
      },
      "source": [
        "- using [sigmoid focal cross entropy loss](https://www.tensorflow.org/addons/api_docs/python/tfa/losses/SigmoidFocalCrossEntropy). It performs better than sparse categorical cross entropy for highly imbalanced data."
      ]
    },
    {
      "cell_type": "code",
      "execution_count": 14,
      "metadata": {
        "colab": {
          "base_uri": "https://localhost:8080/"
        },
        "id": "07KSPavQ-ecU",
        "outputId": "e502355e-682f-4391-9e3b-443064ef9c4f"
      },
      "outputs": [
        {
          "output_type": "stream",
          "name": "stderr",
          "text": [
            "/usr/local/lib/python3.10/dist-packages/tensorflow_addons/utils/tfa_eol_msg.py:23: UserWarning: \n",
            "\n",
            "TensorFlow Addons (TFA) has ended development and introduction of new features.\n",
            "TFA has entered a minimal maintenance and release mode until a planned end of life in May 2024.\n",
            "Please modify downstream libraries to take dependencies from other repositories in our TensorFlow community (e.g. Keras, Keras-CV, and Keras-NLP). \n",
            "\n",
            "For more information see: https://github.com/tensorflow/addons/issues/2807 \n",
            "\n",
            "  warnings.warn(\n"
          ]
        },
        {
          "output_type": "stream",
          "name": "stdout",
          "text": [
            "Model: \"model\"\n",
            "_________________________________________________________________\n",
            " Layer (type)                Output Shape              Param #   \n",
            "=================================================================\n",
            " input_1 (InputLayer)        [(None, 39)]              0         \n",
            "                                                                 \n",
            " embedding (Embedding)       (None, 39, 200)           4386800   \n",
            "                                                                 \n",
            " bidirectional (Bidirection  (None, 39, 100)           100400    \n",
            " al)                                                             \n",
            "                                                                 \n",
            " bidirectional_1 (Bidirecti  (None, 39, 100)           60400     \n",
            " onal)                                                           \n",
            "                                                                 \n",
            " time_distributed (TimeDist  (None, 39, 25)            2525      \n",
            " ributed)                                                        \n",
            "                                                                 \n",
            " crf (CRF)                   [(None, 39),              1100      \n",
            "                              (None, 39, 22),                    \n",
            "                              (None,),                           \n",
            "                              (22, 22)]                          \n",
            "                                                                 \n",
            "=================================================================\n",
            "Total params: 4551225 (17.36 MB)\n",
            "Trainable params: 4551225 (17.36 MB)\n",
            "Non-trainable params: 0 (0.00 Byte)\n",
            "_________________________________________________________________\n"
          ]
        }
      ],
      "source": [
        "from keras.models import Model\n",
        "from tensorflow.keras.layers import Input\n",
        "from tensorflow_addons.utils.types import FloatTensorLike, TensorLike\n",
        "\n",
        "# LSTM components\n",
        "from keras.layers import LSTM, Embedding, Dense, TimeDistributed, Dropout, Bidirectional\n",
        "\n",
        "# CRF layer\n",
        "from tensorflow_addons.layers import CRF\n",
        "\n",
        "# Sigmoid focal cross entropy loss. works well with highly unbalanced input data\n",
        "from tensorflow_addons.losses import SigmoidFocalCrossEntropy\n",
        "from tensorflow_addons.optimizers import AdamW\n",
        "\n",
        "\n",
        "def build_model():\n",
        "  # Model definition\n",
        "  input = Input(shape=(max_len,))\n",
        "\n",
        "  # Get embeddings\n",
        "  embeddings = Embedding(input_dim=embedding_matrix.shape[0],\n",
        "                      output_dim=embedding_dim,\n",
        "                      input_length=max_len, mask_zero=True,\n",
        "                      embeddings_initializer=tf.keras.initializers.Constant(embedding_matrix)\n",
        "                    )(input)\n",
        "\n",
        "  # variational biLSTM\n",
        "  output_sequences = Bidirectional(LSTM(units=50, return_sequences=True))(embeddings)\n",
        "\n",
        "  # Stacking\n",
        "  output_sequences = Bidirectional(LSTM(units=50, return_sequences=True))(output_sequences)\n",
        "\n",
        "  # Adding more non-linearity\n",
        "  dense_out = TimeDistributed(Dense(25, activation=\"relu\"))(output_sequences)\n",
        "\n",
        "  # CRF layer\n",
        "  crf = CRF(len(schema), name='crf')\n",
        "  predicted_sequence, potentials, sequence_length, crf_kernel = crf(dense_out)\n",
        "\n",
        "  model = Model(input, potentials)\n",
        "  model.compile(\n",
        "      optimizer=AdamW(weight_decay=0.001),\n",
        "      loss= SigmoidFocalCrossEntropy()) # Sigmoid focal cross entropy loss\n",
        "\n",
        "  return model\n",
        "\n",
        "model = build_model()\n",
        "\n",
        "# Checkpointing\n",
        "save_model = tf.keras.callbacks.ModelCheckpoint(filepath='twitter_ner_crf.h5',\n",
        "  monitor='val_loss',\n",
        "  save_weights_only=True,\n",
        "  save_best_only=True,\n",
        "  verbose=1\n",
        ")\n",
        "\n",
        "# Early stoppings\n",
        "es = tf.keras.callbacks.EarlyStopping(monitor='val_loss', verbose=1, patience=1)\n",
        "\n",
        "callbacks = [save_model, es]\n",
        "\n",
        "model.summary()"
      ]
    },
    {
      "cell_type": "markdown",
      "metadata": {
        "id": "pZhPGAyhrJRz"
      },
      "source": [
        "# Training our model"
      ]
    },
    {
      "cell_type": "code",
      "execution_count": 15,
      "metadata": {
        "colab": {
          "base_uri": "https://localhost:8080/"
        },
        "id": "tl579tbVqY_O",
        "outputId": "c148c804-13f2-4921-af9d-4ed01429f4ee"
      },
      "outputs": [
        {
          "output_type": "stream",
          "name": "stdout",
          "text": [
            "Epoch 1/300\n"
          ]
        },
        {
          "output_type": "stream",
          "name": "stderr",
          "text": [
            "WARNING:tensorflow:Gradients do not exist for variables ['chain_kernel:0'] when minimizing the loss. If you're using `model.compile()`, did you forget to provide a `loss` argument?\n",
            "WARNING:tensorflow:Gradients do not exist for variables ['chain_kernel:0'] when minimizing the loss. If you're using `model.compile()`, did you forget to provide a `loss` argument?\n"
          ]
        },
        {
          "output_type": "stream",
          "name": "stdout",
          "text": [
            "194/196 [============================>.] - ETA: 0s - loss: 0.0850\n",
            "Epoch 1: val_loss improved from inf to 0.04047, saving model to twitter_ner_crf.h5\n",
            "196/196 [==============================] - 35s 60ms/step - loss: 0.0847 - val_loss: 0.0405\n",
            "Epoch 2/300\n",
            "194/196 [============================>.] - ETA: 0s - loss: 0.0353\n",
            "Epoch 2: val_loss improved from 0.04047 to 0.03353, saving model to twitter_ner_crf.h5\n",
            "196/196 [==============================] - 6s 31ms/step - loss: 0.0353 - val_loss: 0.0335\n",
            "Epoch 3/300\n",
            "196/196 [==============================] - ETA: 0s - loss: 0.0266\n",
            "Epoch 3: val_loss improved from 0.03353 to 0.02444, saving model to twitter_ner_crf.h5\n",
            "196/196 [==============================] - 9s 48ms/step - loss: 0.0266 - val_loss: 0.0244\n",
            "Epoch 4/300\n",
            "194/196 [============================>.] - ETA: 0s - loss: 0.0213\n",
            "Epoch 4: val_loss improved from 0.02444 to 0.01983, saving model to twitter_ner_crf.h5\n",
            "196/196 [==============================] - 7s 36ms/step - loss: 0.0213 - val_loss: 0.0198\n",
            "Epoch 5/300\n",
            "194/196 [============================>.] - ETA: 0s - loss: 0.0172\n",
            "Epoch 5: val_loss improved from 0.01983 to 0.01764, saving model to twitter_ner_crf.h5\n",
            "196/196 [==============================] - 6s 30ms/step - loss: 0.0172 - val_loss: 0.0176\n",
            "Epoch 6/300\n",
            "194/196 [============================>.] - ETA: 0s - loss: 0.0201\n",
            "Epoch 6: val_loss did not improve from 0.01764\n",
            "196/196 [==============================] - 5s 26ms/step - loss: 0.0202 - val_loss: 0.0185\n",
            "Epoch 6: early stopping\n"
          ]
        },
        {
          "output_type": "execute_result",
          "data": {
            "text/plain": [
              "<keras.src.callbacks.History at 0x7b8c72e9a950>"
            ]
          },
          "metadata": {},
          "execution_count": 15
        }
      ],
      "source": [
        "model.fit(train_sentences, train_labels,\n",
        "          validation_data = (test_sentences, test_labels),\n",
        "          epochs = 300,\n",
        "          callbacks  = callbacks,\n",
        "          shuffle=True)"
      ]
    },
    {
      "cell_type": "markdown",
      "metadata": {
        "id": "vJj4X8FmzeFe"
      },
      "source": [
        "# Let's load the best model"
      ]
    },
    {
      "cell_type": "code",
      "execution_count": 16,
      "metadata": {
        "id": "kEWzHmAhzijN"
      },
      "outputs": [],
      "source": [
        "model.load_weights('twitter_ner_crf.h5')"
      ]
    },
    {
      "cell_type": "code",
      "execution_count": 17,
      "metadata": {
        "id": "6pA1Ekybfr96"
      },
      "outputs": [],
      "source": [
        "crf_model = tf.keras.Model(inputs=model.input, outputs=[model.output, model.get_layer('crf').output, model.input])"
      ]
    },
    {
      "cell_type": "markdown",
      "metadata": {
        "id": "per1der_V5yf"
      },
      "source": [
        "### Let's calculate average accuracy of the model on test set"
      ]
    },
    {
      "cell_type": "code",
      "execution_count": 18,
      "metadata": {
        "colab": {
          "base_uri": "https://localhost:8080/"
        },
        "id": "AYxHmRJWvri_",
        "outputId": "1125c1ad-29d5-4fb2-bbdd-f4feedab70b8"
      },
      "outputs": [
        {
          "output_type": "stream",
          "name": "stdout",
          "text": [
            "********************************\n",
            "Average accuracy of model on test set: 0.961\n"
          ]
        }
      ],
      "source": [
        "def calculate_accuracy(y_true, y_pred):\n",
        "  '''Convert categorical one hot encodings to indices and compute accuracy\n",
        "\n",
        "  Args:\n",
        "    `y_true`: true values\n",
        "    `y_pred`: model predictions\n",
        "\n",
        "  Returns:\n",
        "    Integer, accuracy of prediction\n",
        "  '''\n",
        "  acc_metric = tf.keras.metrics.Accuracy()\n",
        "  y_true = tf.argmax(y_true, axis=-1)\n",
        "  return acc_metric(y_true, y_pred).numpy().item()\n",
        "\n",
        "def calculate_mosacy(crf_model, test_sentences, test_labels):\n",
        "  '''Calculates average validation accuracy of model'''\n",
        "\n",
        "  # Batch the dataset\n",
        "  batched_validation_set = tf.data.Dataset.from_tensor_slices((test_sentences, test_labels)).batch(32)\n",
        "\n",
        "  average_acc = 0\n",
        "  # Iterate through batches\n",
        "  for batch_test_sentences, batch_test_labels in batched_validation_set:\n",
        "    predicted_labels, _, _, _ = crf_model(batch_test_sentences)[1]\n",
        "    average_acc += calculate_accuracy(batch_test_labels, predicted_labels)\n",
        "\n",
        "  average_acc/=len(batched_validation_set)\n",
        "  return average_acc\n",
        "\n",
        "average_acc = calculate_mosacy(crf_model, test_sentences, test_labels)\n",
        "\n",
        "print(\"*\"*32)\n",
        "print(f\"Average accuracy of model on test set: {average_acc:.3f}\")"
      ]
    },
    {
      "cell_type": "markdown",
      "metadata": {
        "id": "0SOhIRwLWAB8"
      },
      "source": [
        "# BERT Model"
      ]
    },
    {
      "cell_type": "markdown",
      "metadata": {
        "id": "aSHidMIQk8EK"
      },
      "source": [
        "## Getting the  bert model"
      ]
    },
    {
      "cell_type": "code",
      "execution_count": 19,
      "metadata": {
        "id": "FtG_qfNmlayh"
      },
      "outputs": [],
      "source": [
        "from transformers import AutoConfig, TFAutoModelForTokenClassification\n",
        "\n",
        "MODEL_NAME = 'bert-base-uncased'"
      ]
    },
    {
      "cell_type": "markdown",
      "metadata": {
        "id": "v-cb1G9uoDAa"
      },
      "source": [
        "# Loading the tokenizer"
      ]
    },
    {
      "cell_type": "code",
      "execution_count": 20,
      "metadata": {
        "colab": {
          "base_uri": "https://localhost:8080/",
          "height": 269,
          "referenced_widgets": [
            "d300a2b4b95c4c6f87eabf30ee617ae5",
            "9f84dd17e7dd4025b64bee5c3d4eb4ef",
            "2a8af188a4ef4223900386ff5741906a",
            "4608206362f94947b184416825a20c89",
            "c2f0a862bd904e1a983c80d939f56596",
            "03f20e589d1e4df68258bd43321bbeff",
            "e7afc4e1aa304329a4e8098a0f398b0e",
            "9434c9feb9fa44979024cca3ab7826be",
            "50b12d3d0def4e4980eecd87809f4881",
            "c70ef4f9f69d4098852373361fce3796",
            "0a25fec5a0744500afbd0c9be5bc5ebc",
            "a72521cf13d247a783968d04efa5c553",
            "4140bf208e2d461db42d0aabaa4b3969",
            "65566076ffa84bb281bc74ba67b09fb6",
            "cc6480ec3ead4183ac200a7dd80fdbb3",
            "4ec34609b96243e9a4673d49f4a74bfc",
            "803fc2eb501944388c6063d078273923",
            "e3d10b9306f54136a1c938829f330014",
            "e93a4c59d3124b878ac88aa90146b4e9",
            "3c842ca1cd3f43558ea83cf34f7bde7f",
            "791986e2e5194757a64d67eacb90955a",
            "9712bc2eb5a74ae5827eb87044eb2876",
            "5e78153680684d1c9d022d5eca16d0cd",
            "8e7105980fea4fd8a1c836a61e4d9b3c",
            "8d15d855f4ea4592b2a1e584c58d6e54",
            "d69a1b40aad245ef9d05b9658016a427",
            "7528a9c2f934402d886f81f7e62f97a5",
            "d738cb58feb04bccb7b6ce7e634addd1",
            "3c5ac358f0cd4b36aa895afdb87e41a2",
            "67e5e2b58f7d4355b01231c548a7e336",
            "8df9894044f74cdbbacd230f9a23be60",
            "7de27114aa2a42a0b9b3b77b2fdc7d5c",
            "60a10dc8865246a7bb43e76bbece4152",
            "78e718e11f4d4fe6a8799d2dd705663e",
            "ca229c27634946d49d98acbcf61e6cbb",
            "a309974258ad4356946c1256f0649f7d",
            "c59be3a0abd3418195ea39fa4dbe2d56",
            "100376b9c5014cc8bdd7653ed3e7e893",
            "d30f42c53a4d4dea908aedcf51461cd9",
            "cfcaa2672c52484c9a05630688b1a60d",
            "90b6e1266ec446df8f092811a2dc7406",
            "dd3b6be963a745bbb3457a2b2b30f1f3",
            "d070d227a2b746fca07015cae78d123f",
            "ee2e86a885534997b0f716f7a427201a"
          ]
        },
        "id": "dAxau3xskB9S",
        "outputId": "0a3d59aa-b44c-450d-fe68-69d1c1f804f1"
      },
      "outputs": [
        {
          "output_type": "stream",
          "name": "stderr",
          "text": [
            "/usr/local/lib/python3.10/dist-packages/huggingface_hub/utils/_token.py:88: UserWarning: \n",
            "The secret `HF_TOKEN` does not exist in your Colab secrets.\n",
            "To authenticate with the Hugging Face Hub, create a token in your settings tab (https://huggingface.co/settings/tokens), set it as secret in your Google Colab and restart your session.\n",
            "You will be able to reuse this secret in all of your notebooks.\n",
            "Please note that authentication is recommended but still optional to access public models or datasets.\n",
            "  warnings.warn(\n"
          ]
        },
        {
          "output_type": "display_data",
          "data": {
            "text/plain": [
              "tokenizer_config.json:   0%|          | 0.00/28.0 [00:00<?, ?B/s]"
            ],
            "application/vnd.jupyter.widget-view+json": {
              "version_major": 2,
              "version_minor": 0,
              "model_id": "d300a2b4b95c4c6f87eabf30ee617ae5"
            }
          },
          "metadata": {}
        },
        {
          "output_type": "display_data",
          "data": {
            "text/plain": [
              "config.json:   0%|          | 0.00/570 [00:00<?, ?B/s]"
            ],
            "application/vnd.jupyter.widget-view+json": {
              "version_major": 2,
              "version_minor": 0,
              "model_id": "a72521cf13d247a783968d04efa5c553"
            }
          },
          "metadata": {}
        },
        {
          "output_type": "display_data",
          "data": {
            "text/plain": [
              "vocab.txt:   0%|          | 0.00/232k [00:00<?, ?B/s]"
            ],
            "application/vnd.jupyter.widget-view+json": {
              "version_major": 2,
              "version_minor": 0,
              "model_id": "5e78153680684d1c9d022d5eca16d0cd"
            }
          },
          "metadata": {}
        },
        {
          "output_type": "display_data",
          "data": {
            "text/plain": [
              "tokenizer.json:   0%|          | 0.00/466k [00:00<?, ?B/s]"
            ],
            "application/vnd.jupyter.widget-view+json": {
              "version_major": 2,
              "version_minor": 0,
              "model_id": "78e718e11f4d4fe6a8799d2dd705663e"
            }
          },
          "metadata": {}
        }
      ],
      "source": [
        "from transformers import AutoTokenizer\n",
        "tokenizer = AutoTokenizer.from_pretrained(MODEL_NAME) # Load bert-base-uncased tokenizer"
      ]
    },
    {
      "cell_type": "markdown",
      "metadata": {
        "id": "zJg1l3oYlORW"
      },
      "source": [
        "- tokenizer adds 101 and 102 token id at the start and end of the tokens\n",
        "- using[1:-1] to eliminate the extra 101, 102 that tokenizer adds\n",
        "- Let us have a peak at tokenization of a training sample"
      ]
    },
    {
      "cell_type": "code",
      "execution_count": 21,
      "metadata": {
        "colab": {
          "base_uri": "https://localhost:8080/"
        },
        "id": "aLSyAPd4kB0R",
        "outputId": "c907caff-a52f-482e-ad27-f28781b2c2b1"
      },
      "outputs": [
        {
          "output_type": "stream",
          "name": "stdout",
          "text": [
            "RT 19387\n",
            "@Hatshepsutely 1030\n",
            "@Hatshepsutely 16717\n",
            "@Hatshepsutely 5369\n",
            "@Hatshepsutely 4523\n",
            "@Hatshepsutely 10421\n",
            "@Hatshepsutely 2135\n",
            ": 1024\n",
            "@adamlambert 1030\n",
            "@adamlambert 4205\n",
            "@adamlambert 10278\n",
            "@adamlambert 8296\n",
            "please 3531\n",
            ", 1010\n",
            "oh 2821\n",
            "please 3531\n",
            "wear 4929\n",
            "the 1996\n",
            "infamous 14429\n",
            "beach 3509\n",
            "hat 6045\n",
            "tonight 3892\n",
            "during 2076\n",
            "your 2115\n",
            "encore 19493\n",
            "( 1006\n",
            "in 1999\n",
            "lieu 22470\n",
            "of 1997\n",
            "a 1037\n",
            "rasta 20710\n",
            "rasta 2696\n",
            "wig) 24405\n",
            "wig) 1007\n",
            ". 1012\n",
            "&lt; 1004\n",
            "&lt; 8318\n",
            "&lt; 1025\n",
            "3333 21211\n",
            "3333 2509\n"
          ]
        }
      ],
      "source": [
        "sample=train_samples[10] # Random tokenized sample\n",
        "for token, tag in sample:\n",
        "  for subtoken in tokenizer(token)['input_ids'][1:-1]:\n",
        "    print(token,subtoken)"
      ]
    },
    {
      "cell_type": "markdown",
      "metadata": {
        "id": "b_5S0esQNRQQ"
      },
      "source": [
        "### Get Datasets"
      ]
    },
    {
      "cell_type": "code",
      "execution_count": 22,
      "metadata": {
        "id": "NBwtuVKZ9UaR"
      },
      "outputs": [],
      "source": [
        "import numpy as np\n",
        "import tqdm\n",
        "\n",
        "def tokenize_sample(sample):\n",
        "  # Expand label to all subtokens and add 'O' label to start and end tokens\n",
        "  seq = [\n",
        "    (subtoken, tag)\n",
        "    for token, tag in sample\n",
        "    for subtoken in tokenizer(token.lower())['input_ids'][1:-1]\n",
        "  ]\n",
        "  return [(3, 'O')] + seq + [(4, 'O')]\n",
        "\n",
        "def preprocess(samples, tag2id):\n",
        "  tokenized_samples = list((map(tokenize_sample, samples)))\n",
        "  max_len = max(map(len, tokenized_samples))\n",
        "\n",
        "  # Subtokens\n",
        "  X_input_ids = np.zeros((len(samples), max_len), dtype=np.int32)\n",
        "\n",
        "  # Masks\n",
        "  X_input_masks = np.zeros((len(samples), max_len), dtype=np.int32)\n",
        "\n",
        "  # labels\n",
        "  y = np.zeros((len(samples), max_len), dtype=np.int32)\n",
        "\n",
        "  for i, sentence in enumerate(tokenized_samples):\n",
        "    for j in range(len(sentence)):\n",
        "      X_input_masks[i, j] = 1\n",
        "    for j, (subtoken_id, tag) in enumerate(sentence):\n",
        "      X_input_ids[i, j] = subtoken_id\n",
        "      y[i, j] = tag2id[tag]\n",
        "  return (X_input_ids, X_input_masks), y\n",
        "\n",
        "X_train, y_train = preprocess(train_samples, tag2id)\n",
        "X_test, y_test = preprocess(test_samples, tag2id)"
      ]
    },
    {
      "cell_type": "markdown",
      "metadata": {
        "id": "u1dTKQSJ7476"
      },
      "source": [
        "## Loading model"
      ]
    },
    {
      "cell_type": "code",
      "execution_count": 23,
      "metadata": {
        "colab": {
          "base_uri": "https://localhost:8080/",
          "height": 399,
          "referenced_widgets": [
            "fb98982665ad4e70af41247951babd87",
            "88ae1b3751394983afb7ab2ab2aa8469",
            "9edf257c761d42c7919c2f250af7c3be",
            "3f46387f4f3a4652af1efff1602d8ead",
            "44b4d73abdfe46b7a2700bbcc82ad13a",
            "d3719a9333894ca9bf1480a1b2304c91",
            "fea85daef3a2475c84144ea246440e03",
            "aa1a36dd48184c9a90186ab9a1324dca",
            "55c8233a21db4e8d941e1ffc63591e12",
            "370c70b2804e46d19602afa6ce74fc56",
            "57f5a2fab809470eadc5949c8ecf9ea1"
          ]
        },
        "id": "BKY4i7ie3B-f",
        "outputId": "031b71c8-fe73-4b3a-f369-37ca66d8d8c9"
      },
      "outputs": [
        {
          "output_type": "display_data",
          "data": {
            "text/plain": [
              "model.safetensors:   0%|          | 0.00/440M [00:00<?, ?B/s]"
            ],
            "application/vnd.jupyter.widget-view+json": {
              "version_major": 2,
              "version_minor": 0,
              "model_id": "fb98982665ad4e70af41247951babd87"
            }
          },
          "metadata": {}
        },
        {
          "output_type": "stream",
          "name": "stderr",
          "text": [
            "All PyTorch model weights were used when initializing TFBertForTokenClassification.\n",
            "\n",
            "Some weights or buffers of the TF 2.0 model TFBertForTokenClassification were not initialized from the PyTorch model and are newly initialized: ['classifier.weight', 'classifier.bias']\n",
            "You should probably TRAIN this model on a down-stream task to be able to use it for predictions and inference.\n"
          ]
        },
        {
          "output_type": "stream",
          "name": "stdout",
          "text": [
            "Model: \"tf_bert_for_token_classification\"\n",
            "_________________________________________________________________\n",
            " Layer (type)                Output Shape              Param #   \n",
            "=================================================================\n",
            " bert (TFBertMainLayer)      multiple                  108891648 \n",
            "                                                                 \n",
            " dropout_37 (Dropout)        multiple                  0         \n",
            "                                                                 \n",
            " classifier (Dense)          multiple                  16918     \n",
            "                                                                 \n",
            "=================================================================\n",
            "Total params: 108908566 (415.45 MB)\n",
            "Trainable params: 108908566 (415.45 MB)\n",
            "Non-trainable params: 0 (0.00 Byte)\n",
            "_________________________________________________________________\n"
          ]
        }
      ],
      "source": [
        "config = AutoConfig.from_pretrained(MODEL_NAME, num_labels=len(schema),\n",
        "                                    id2tag=id2tag, tag2id=tag2id) # Bert config\n",
        "\n",
        "model = TFAutoModelForTokenClassification.from_pretrained(MODEL_NAME,\n",
        "                                                          config=config) # Loading Bert model\n",
        "model.summary()"
      ]
    },
    {
      "cell_type": "markdown",
      "metadata": {
        "id": "IKuaEduTC2Aw"
      },
      "source": [
        "### Fit model on training data"
      ]
    },
    {
      "cell_type": "code",
      "execution_count": 24,
      "metadata": {
        "colab": {
          "base_uri": "https://localhost:8080/"
        },
        "id": "keBv0b8xkBxL",
        "outputId": "8a52cc59-efbf-4a48-e51e-0cca393141b5"
      },
      "outputs": [
        {
          "output_type": "stream",
          "name": "stdout",
          "text": [
            "Epoch 1/10\n",
            "157/157 [==============================] - 221s 1s/step - loss: 0.2322 - accuracy: 0.9436 - val_loss: 0.0961 - val_accuracy: 0.9845\n",
            "Epoch 2/10\n",
            "157/157 [==============================] - 172s 1s/step - loss: 0.0576 - accuracy: 0.9882 - val_loss: 0.0557 - val_accuracy: 0.9862\n",
            "Epoch 3/10\n",
            "157/157 [==============================] - 173s 1s/step - loss: 0.0372 - accuracy: 0.9906 - val_loss: 0.0482 - val_accuracy: 0.9871\n",
            "Epoch 4/10\n",
            "157/157 [==============================] - 173s 1s/step - loss: 0.0239 - accuracy: 0.9936 - val_loss: 0.0433 - val_accuracy: 0.9892\n",
            "Epoch 5/10\n",
            "157/157 [==============================] - 174s 1s/step - loss: 0.0157 - accuracy: 0.9959 - val_loss: 0.0395 - val_accuracy: 0.9901\n",
            "Epoch 6/10\n",
            "157/157 [==============================] - 174s 1s/step - loss: 0.0103 - accuracy: 0.9975 - val_loss: 0.0462 - val_accuracy: 0.9902\n",
            "Epoch 7/10\n",
            "157/157 [==============================] - 175s 1s/step - loss: 0.0076 - accuracy: 0.9981 - val_loss: 0.0454 - val_accuracy: 0.9909\n",
            "Epoch 8/10\n",
            "157/157 [==============================] - 175s 1s/step - loss: 0.0076 - accuracy: 0.9981 - val_loss: 0.0490 - val_accuracy: 0.9915\n",
            "Epoch 9/10\n",
            "157/157 [==============================] - 175s 1s/step - loss: 0.0047 - accuracy: 0.9988 - val_loss: 0.0497 - val_accuracy: 0.9908\n",
            "Epoch 10/10\n",
            "157/157 [==============================] - 175s 1s/step - loss: 0.0049 - accuracy: 0.9988 - val_loss: 0.0506 - val_accuracy: 0.9914\n"
          ]
        }
      ],
      "source": [
        "BATCH_SIZE=32\n",
        "\n",
        "optimizer = tf.keras.optimizers.Adam(learning_rate=0.0001) # Creating optimizer\n",
        "\n",
        "loss = tf.keras.losses.SparseCategoricalCrossentropy(from_logits=True)\n",
        "metric = tf.keras.metrics.SparseCategoricalAccuracy('accuracy')\n",
        "\n",
        "model.compile(optimizer=optimizer, loss=loss, metrics=metric)\n",
        "\n",
        "history = model.fit(X_train, y_train,\n",
        "                  validation_split=0.2, epochs=10,\n",
        "                  batch_size=BATCH_SIZE)"
      ]
    },
    {
      "cell_type": "markdown",
      "metadata": {
        "id": "V-klF3SGnIJ7"
      },
      "source": [
        "- Lets have a side by side view of true labels and model predictions\n",
        "- Arranged as an array of Tuple(token, true label, model prediction)"
      ]
    },
    {
      "cell_type": "code",
      "execution_count": 25,
      "metadata": {
        "colab": {
          "base_uri": "https://localhost:8080/"
        },
        "id": "up3p91b8kBu-",
        "outputId": "c09edb6f-0e8c-4957-9d3f-12d198b3bdea"
      },
      "outputs": [
        {
          "output_type": "stream",
          "name": "stdout",
          "text": [
            "121/121 [==============================] - 43s 333ms/step\n"
          ]
        }
      ],
      "source": [
        "def aggregate(sample, predictions):\n",
        "  results = []\n",
        "  i = 1\n",
        "  for token, y_true in sample:\n",
        "      nr_subtoken = len(tokenizer(token.lower())['input_ids']) - 2 # Extracting word tokens\n",
        "      pred = predictions[i:i+nr_subtoken] # Extracting predictions\n",
        "      i += nr_subtoken\n",
        "      y_pred = schema[np.argmax(np.sum(pred, axis=0))] # Get label of prediction\n",
        "      results.append((token, y_true, y_pred))\n",
        "  return results\n",
        "\n",
        "y_probs = model.predict(X_test)[0]\n",
        "predictions = [aggregate(sample, predictions)\n",
        "               for sample, predictions in zip(test_samples, y_probs)]"
      ]
    },
    {
      "cell_type": "code",
      "execution_count": 26,
      "metadata": {
        "colab": {
          "base_uri": "https://localhost:8080/"
        },
        "id": "F3s_LcZLkBrX",
        "outputId": "666814df-59f8-4318-e09a-a9406518c04e"
      },
      "outputs": [
        {
          "output_type": "stream",
          "name": "stdout",
          "text": [
            "[('I', 'O', 'O'), ('drive', 'O', 'O'), ('by', 'O', 'O'), ('that', 'O', 'O'), ('motel', 'O', 'O'), ('almost', 'O', 'O'), ('every', 'O', 'O'), ('night', 'O', 'O'), ('.', 'O', 'O'), ('#MesaShooting', 'O', 'O')]\n",
            "[('Apple', 'B-product', 'B-product'), ('MacBook', 'I-product', 'I-product'), ('Pro', 'I-product', 'I-product'), ('A1278', 'I-product', 'I-product'), ('13.3', 'I-product', 'I-product'), ('\"', 'I-product', 'I-product'), ('Laptop', 'I-product', 'I-product'), ('-', 'I-product', 'I-product'), ('MD101LL/A', 'I-product', 'I-product'), ('(', 'O', 'O'), ('June', 'O', 'O'), (',', 'O', 'O'), ('2012', 'O', 'O'), (')', 'O', 'O'), ('-', 'O', 'O'), ('Full', 'O', 'O'), ('read', 'O', 'O'), ('by', 'O', 'O'), ('eBay', 'B-company', 'B-company'), ('http://t.co/2zgQ99nmuf', 'O', 'O'), ('http://t.co/eQmogqqABK', 'O', 'O')]\n",
            "[('Tuff', 'B-musicartist', 'B-musicartist'), ('Culture', 'I-musicartist', 'I-musicartist'), ('-', 'O', 'O'), ('Destiny', 'B-product', 'B-product'), ('EP', 'O', 'O'), ('(', 'O', 'O'), ('PAR', 'O', 'O'), ('042', 'O', 'O'), ('FORTHCOMING', 'O', 'O'), ('27th', 'O', 'O'), ('JULY', 'O', 'O'), ('VIA', 'O', 'O'), ('JUNO', 'B-product', 'B-product'), (')', 'O', 'O'), ('Tracklist', 'O', 'O'), (':', 'O', 'O'), ('Destiny', 'B-product', 'B-product'), ('Questions', 'B-product', 'B-product'), ('Theres', 'B-product', 'B-product'), ('No', 'I-product', 'B-product'), ('...', 'O', 'O'), ('http://t.co/X7nL8DiREK', 'O', 'O')]\n",
            "[('December', 'O', 'O'), ('23', 'O', 'O'), (',', 'O', 'O'), ('2015', 'O', 'O'), ('at', 'O', 'O'), ('03:44', 'O', 'O'), ('PM', 'O', 'O'), ('#if24', 'O', 'O'), ('#s8', 'O', 'O')]\n",
            "[('RT', 'O', 'O'), ('@YahooDrSaturday', 'O', 'O'), (':', 'O', 'O'), ('This', 'O', 'O'), ('is', 'O', 'O'), ('how', 'O', 'O'), ('Arkansas', 'B-sportsteam', 'B-sportsteam'), ('crazily', 'O', 'O'), ('converted', 'O', 'O'), ('4th', 'O', 'O'), ('and', 'O', 'O'), ('25', 'O', 'O'), ('in', 'O', 'O'), ('OT', 'O', 'O'), ('.', 'O', 'O'), ('What', 'O', 'O'), ('a', 'O', 'O'), ('lateral', 'O', 'O'), ('!', 'O', 'O'), ('https://t.co/ylALEACWe8', 'O', 'O')]\n"
          ]
        }
      ],
      "source": [
        "for i in range(10,15):\n",
        "  print(predictions[i])"
      ]
    },
    {
      "cell_type": "code",
      "execution_count": 27,
      "metadata": {
        "id": "zVs4QN9lxvWX"
      },
      "outputs": [],
      "source": [
        "model.save_pretrained(\"output/NER_pretrained\")"
      ]
    },
    {
      "cell_type": "markdown",
      "metadata": {
        "id": "uH1AqoFRnmav"
      },
      "source": [
        "# Comparision"
      ]
    },
    {
      "cell_type": "code",
      "execution_count": 28,
      "metadata": {
        "id": "iFq-TAnGKR2d"
      },
      "outputs": [],
      "source": [
        "def tokenize_bert(sentence):\n",
        "  sentence_tokens = tokenizer(sentence.split(' '))['input_ids'] # Splitting sentence into word tokens\n",
        "  ner_tokens = [3] # Start token\n",
        "  for word_token in sentence_tokens:\n",
        "    ner_tokens.extend(word_token[1:-1]) # Adding tokenized word token indicies\n",
        "  ner_tokens += [4] # End token\n",
        "  return ner_tokens"
      ]
    },
    {
      "cell_type": "code",
      "execution_count": 29,
      "metadata": {
        "id": "THODX33pFcuG"
      },
      "outputs": [],
      "source": [
        "sentence =\"apple macbook pro is the best laptop in the world\"\n",
        "\n",
        "# Bert tokenization\n",
        "bert_tokens = tokenize_bert(sentence)\n",
        "\n",
        "# CRF tokenization\n",
        "crf_tokens = crf_tokenizer.texts_to_sequences([sentence])"
      ]
    },
    {
      "cell_type": "markdown",
      "metadata": {
        "id": "muDThgUqoniN"
      },
      "source": [
        "#### Bert Output"
      ]
    },
    {
      "cell_type": "code",
      "execution_count": 30,
      "metadata": {
        "colab": {
          "base_uri": "https://localhost:8080/"
        },
        "id": "wNzFXO3STMJl",
        "outputId": "a6da88e6-cb38-4240-ea25-7eea5a40d900"
      },
      "outputs": [
        {
          "output_type": "execute_result",
          "data": {
            "text/plain": [
              "[('apple', 'B-product'),\n",
              " ('macbook', 'I-product'),\n",
              " ('pro', 'I-product'),\n",
              " ('is', 'O'),\n",
              " ('the', 'O'),\n",
              " ('best', 'O'),\n",
              " ('laptop', 'O'),\n",
              " ('in', 'O'),\n",
              " ('the', 'O'),\n",
              " ('world', 'O')]"
            ]
          },
          "metadata": {},
          "execution_count": 30
        }
      ],
      "source": [
        "def align_labels_to_input(sentence, predictions):\n",
        "  sentence_tokens = sentence.lower().split(\" \")\n",
        "  results = []\n",
        "\n",
        "  i = 1\n",
        "  # Extracting labels corresponding to tokens\n",
        "  for token in sentence_tokens:\n",
        "      nr_subtoken = len(tokenizer(token)['input_ids']) - 2\n",
        "      pred = predictions[i:i+nr_subtoken]\n",
        "      i += nr_subtoken\n",
        "      y_pred = id2tag[np.argmax(np.sum(pred, axis=0))]\n",
        "      results.append((token, y_pred))\n",
        "  return results\n",
        "\n",
        "\n",
        "bert_logits = model.predict([bert_tokens], verbose=0).logits\n",
        "\n",
        "align_labels_to_input(sentence, bert_logits[0])"
      ]
    },
    {
      "cell_type": "markdown",
      "metadata": {
        "id": "raN5HiHIpNgd"
      },
      "source": [
        "#### CRF Output"
      ]
    },
    {
      "cell_type": "code",
      "execution_count": 31,
      "metadata": {
        "colab": {
          "base_uri": "https://localhost:8080/"
        },
        "id": "uitdDLK9UUoj",
        "outputId": "e377f1ed-3b58-43e2-efbd-52c0792cc83c"
      },
      "outputs": [
        {
          "output_type": "stream",
          "name": "stdout",
          "text": [
            "[('apple', 'B-other'),\n",
            " ('macbook', 'I-tvshow'),\n",
            " ('pro', 'O'),\n",
            " ('is', 'O'),\n",
            " ('the', 'O'),\n",
            " ('best', 'O'),\n",
            " ('laptop', 'O'),\n",
            " ('in', 'O'),\n",
            " ('the', 'O'),\n",
            " ('world', 'O')]\n"
          ]
        }
      ],
      "source": [
        "from pprint import pprint # Pretty print package\n",
        "\n",
        "crf_padded_tokens = [[crf_tokens[0][x] if x < len(crf_tokens[0]) else 0 for x in range(39)]]\n",
        "crf_preds, _, _, _ = crf_model.predict(crf_padded_tokens, verbose=0)[1]\n",
        "\n",
        "crf_preds = [id2tag[x] for x in crf_preds[0]] # Convert indicies into predictions\n",
        "\n",
        "\n",
        "# Get aligned inputs with labels\n",
        "input_word_tokens = [crf_tokenizer.sequences_to_texts([[x]])[0] for x in crf_padded_tokens[0]]\n",
        "\n",
        "# Only printing non-padded tokens with their labels\n",
        "pprint(list(zip(input_word_tokens[:len(crf_tokens[0])], crf_preds[:len(crf_tokens[0])])))"
      ]
    },
    {
      "cell_type": "code",
      "source": [],
      "metadata": {
        "id": "yLNb7e8qgI04"
      },
      "execution_count": 31,
      "outputs": []
    }
  ],
  "metadata": {
    "accelerator": "GPU",
    "colab": {
      "provenance": []
    },
    "gpuClass": "standard",
    "kernelspec": {
      "display_name": "Python 3",
      "name": "python3"
    },
    "language_info": {
      "name": "python"
    },
    "widgets": {
      "application/vnd.jupyter.widget-state+json": {
        "d300a2b4b95c4c6f87eabf30ee617ae5": {
          "model_module": "@jupyter-widgets/controls",
          "model_name": "HBoxModel",
          "model_module_version": "1.5.0",
          "state": {
            "_dom_classes": [],
            "_model_module": "@jupyter-widgets/controls",
            "_model_module_version": "1.5.0",
            "_model_name": "HBoxModel",
            "_view_count": null,
            "_view_module": "@jupyter-widgets/controls",
            "_view_module_version": "1.5.0",
            "_view_name": "HBoxView",
            "box_style": "",
            "children": [
              "IPY_MODEL_9f84dd17e7dd4025b64bee5c3d4eb4ef",
              "IPY_MODEL_2a8af188a4ef4223900386ff5741906a",
              "IPY_MODEL_4608206362f94947b184416825a20c89"
            ],
            "layout": "IPY_MODEL_c2f0a862bd904e1a983c80d939f56596"
          }
        },
        "9f84dd17e7dd4025b64bee5c3d4eb4ef": {
          "model_module": "@jupyter-widgets/controls",
          "model_name": "HTMLModel",
          "model_module_version": "1.5.0",
          "state": {
            "_dom_classes": [],
            "_model_module": "@jupyter-widgets/controls",
            "_model_module_version": "1.5.0",
            "_model_name": "HTMLModel",
            "_view_count": null,
            "_view_module": "@jupyter-widgets/controls",
            "_view_module_version": "1.5.0",
            "_view_name": "HTMLView",
            "description": "",
            "description_tooltip": null,
            "layout": "IPY_MODEL_03f20e589d1e4df68258bd43321bbeff",
            "placeholder": "​",
            "style": "IPY_MODEL_e7afc4e1aa304329a4e8098a0f398b0e",
            "value": "tokenizer_config.json: 100%"
          }
        },
        "2a8af188a4ef4223900386ff5741906a": {
          "model_module": "@jupyter-widgets/controls",
          "model_name": "FloatProgressModel",
          "model_module_version": "1.5.0",
          "state": {
            "_dom_classes": [],
            "_model_module": "@jupyter-widgets/controls",
            "_model_module_version": "1.5.0",
            "_model_name": "FloatProgressModel",
            "_view_count": null,
            "_view_module": "@jupyter-widgets/controls",
            "_view_module_version": "1.5.0",
            "_view_name": "ProgressView",
            "bar_style": "success",
            "description": "",
            "description_tooltip": null,
            "layout": "IPY_MODEL_9434c9feb9fa44979024cca3ab7826be",
            "max": 28,
            "min": 0,
            "orientation": "horizontal",
            "style": "IPY_MODEL_50b12d3d0def4e4980eecd87809f4881",
            "value": 28
          }
        },
        "4608206362f94947b184416825a20c89": {
          "model_module": "@jupyter-widgets/controls",
          "model_name": "HTMLModel",
          "model_module_version": "1.5.0",
          "state": {
            "_dom_classes": [],
            "_model_module": "@jupyter-widgets/controls",
            "_model_module_version": "1.5.0",
            "_model_name": "HTMLModel",
            "_view_count": null,
            "_view_module": "@jupyter-widgets/controls",
            "_view_module_version": "1.5.0",
            "_view_name": "HTMLView",
            "description": "",
            "description_tooltip": null,
            "layout": "IPY_MODEL_c70ef4f9f69d4098852373361fce3796",
            "placeholder": "​",
            "style": "IPY_MODEL_0a25fec5a0744500afbd0c9be5bc5ebc",
            "value": " 28.0/28.0 [00:00&lt;00:00, 1.90kB/s]"
          }
        },
        "c2f0a862bd904e1a983c80d939f56596": {
          "model_module": "@jupyter-widgets/base",
          "model_name": "LayoutModel",
          "model_module_version": "1.2.0",
          "state": {
            "_model_module": "@jupyter-widgets/base",
            "_model_module_version": "1.2.0",
            "_model_name": "LayoutModel",
            "_view_count": null,
            "_view_module": "@jupyter-widgets/base",
            "_view_module_version": "1.2.0",
            "_view_name": "LayoutView",
            "align_content": null,
            "align_items": null,
            "align_self": null,
            "border": null,
            "bottom": null,
            "display": null,
            "flex": null,
            "flex_flow": null,
            "grid_area": null,
            "grid_auto_columns": null,
            "grid_auto_flow": null,
            "grid_auto_rows": null,
            "grid_column": null,
            "grid_gap": null,
            "grid_row": null,
            "grid_template_areas": null,
            "grid_template_columns": null,
            "grid_template_rows": null,
            "height": null,
            "justify_content": null,
            "justify_items": null,
            "left": null,
            "margin": null,
            "max_height": null,
            "max_width": null,
            "min_height": null,
            "min_width": null,
            "object_fit": null,
            "object_position": null,
            "order": null,
            "overflow": null,
            "overflow_x": null,
            "overflow_y": null,
            "padding": null,
            "right": null,
            "top": null,
            "visibility": null,
            "width": null
          }
        },
        "03f20e589d1e4df68258bd43321bbeff": {
          "model_module": "@jupyter-widgets/base",
          "model_name": "LayoutModel",
          "model_module_version": "1.2.0",
          "state": {
            "_model_module": "@jupyter-widgets/base",
            "_model_module_version": "1.2.0",
            "_model_name": "LayoutModel",
            "_view_count": null,
            "_view_module": "@jupyter-widgets/base",
            "_view_module_version": "1.2.0",
            "_view_name": "LayoutView",
            "align_content": null,
            "align_items": null,
            "align_self": null,
            "border": null,
            "bottom": null,
            "display": null,
            "flex": null,
            "flex_flow": null,
            "grid_area": null,
            "grid_auto_columns": null,
            "grid_auto_flow": null,
            "grid_auto_rows": null,
            "grid_column": null,
            "grid_gap": null,
            "grid_row": null,
            "grid_template_areas": null,
            "grid_template_columns": null,
            "grid_template_rows": null,
            "height": null,
            "justify_content": null,
            "justify_items": null,
            "left": null,
            "margin": null,
            "max_height": null,
            "max_width": null,
            "min_height": null,
            "min_width": null,
            "object_fit": null,
            "object_position": null,
            "order": null,
            "overflow": null,
            "overflow_x": null,
            "overflow_y": null,
            "padding": null,
            "right": null,
            "top": null,
            "visibility": null,
            "width": null
          }
        },
        "e7afc4e1aa304329a4e8098a0f398b0e": {
          "model_module": "@jupyter-widgets/controls",
          "model_name": "DescriptionStyleModel",
          "model_module_version": "1.5.0",
          "state": {
            "_model_module": "@jupyter-widgets/controls",
            "_model_module_version": "1.5.0",
            "_model_name": "DescriptionStyleModel",
            "_view_count": null,
            "_view_module": "@jupyter-widgets/base",
            "_view_module_version": "1.2.0",
            "_view_name": "StyleView",
            "description_width": ""
          }
        },
        "9434c9feb9fa44979024cca3ab7826be": {
          "model_module": "@jupyter-widgets/base",
          "model_name": "LayoutModel",
          "model_module_version": "1.2.0",
          "state": {
            "_model_module": "@jupyter-widgets/base",
            "_model_module_version": "1.2.0",
            "_model_name": "LayoutModel",
            "_view_count": null,
            "_view_module": "@jupyter-widgets/base",
            "_view_module_version": "1.2.0",
            "_view_name": "LayoutView",
            "align_content": null,
            "align_items": null,
            "align_self": null,
            "border": null,
            "bottom": null,
            "display": null,
            "flex": null,
            "flex_flow": null,
            "grid_area": null,
            "grid_auto_columns": null,
            "grid_auto_flow": null,
            "grid_auto_rows": null,
            "grid_column": null,
            "grid_gap": null,
            "grid_row": null,
            "grid_template_areas": null,
            "grid_template_columns": null,
            "grid_template_rows": null,
            "height": null,
            "justify_content": null,
            "justify_items": null,
            "left": null,
            "margin": null,
            "max_height": null,
            "max_width": null,
            "min_height": null,
            "min_width": null,
            "object_fit": null,
            "object_position": null,
            "order": null,
            "overflow": null,
            "overflow_x": null,
            "overflow_y": null,
            "padding": null,
            "right": null,
            "top": null,
            "visibility": null,
            "width": null
          }
        },
        "50b12d3d0def4e4980eecd87809f4881": {
          "model_module": "@jupyter-widgets/controls",
          "model_name": "ProgressStyleModel",
          "model_module_version": "1.5.0",
          "state": {
            "_model_module": "@jupyter-widgets/controls",
            "_model_module_version": "1.5.0",
            "_model_name": "ProgressStyleModel",
            "_view_count": null,
            "_view_module": "@jupyter-widgets/base",
            "_view_module_version": "1.2.0",
            "_view_name": "StyleView",
            "bar_color": null,
            "description_width": ""
          }
        },
        "c70ef4f9f69d4098852373361fce3796": {
          "model_module": "@jupyter-widgets/base",
          "model_name": "LayoutModel",
          "model_module_version": "1.2.0",
          "state": {
            "_model_module": "@jupyter-widgets/base",
            "_model_module_version": "1.2.0",
            "_model_name": "LayoutModel",
            "_view_count": null,
            "_view_module": "@jupyter-widgets/base",
            "_view_module_version": "1.2.0",
            "_view_name": "LayoutView",
            "align_content": null,
            "align_items": null,
            "align_self": null,
            "border": null,
            "bottom": null,
            "display": null,
            "flex": null,
            "flex_flow": null,
            "grid_area": null,
            "grid_auto_columns": null,
            "grid_auto_flow": null,
            "grid_auto_rows": null,
            "grid_column": null,
            "grid_gap": null,
            "grid_row": null,
            "grid_template_areas": null,
            "grid_template_columns": null,
            "grid_template_rows": null,
            "height": null,
            "justify_content": null,
            "justify_items": null,
            "left": null,
            "margin": null,
            "max_height": null,
            "max_width": null,
            "min_height": null,
            "min_width": null,
            "object_fit": null,
            "object_position": null,
            "order": null,
            "overflow": null,
            "overflow_x": null,
            "overflow_y": null,
            "padding": null,
            "right": null,
            "top": null,
            "visibility": null,
            "width": null
          }
        },
        "0a25fec5a0744500afbd0c9be5bc5ebc": {
          "model_module": "@jupyter-widgets/controls",
          "model_name": "DescriptionStyleModel",
          "model_module_version": "1.5.0",
          "state": {
            "_model_module": "@jupyter-widgets/controls",
            "_model_module_version": "1.5.0",
            "_model_name": "DescriptionStyleModel",
            "_view_count": null,
            "_view_module": "@jupyter-widgets/base",
            "_view_module_version": "1.2.0",
            "_view_name": "StyleView",
            "description_width": ""
          }
        },
        "a72521cf13d247a783968d04efa5c553": {
          "model_module": "@jupyter-widgets/controls",
          "model_name": "HBoxModel",
          "model_module_version": "1.5.0",
          "state": {
            "_dom_classes": [],
            "_model_module": "@jupyter-widgets/controls",
            "_model_module_version": "1.5.0",
            "_model_name": "HBoxModel",
            "_view_count": null,
            "_view_module": "@jupyter-widgets/controls",
            "_view_module_version": "1.5.0",
            "_view_name": "HBoxView",
            "box_style": "",
            "children": [
              "IPY_MODEL_4140bf208e2d461db42d0aabaa4b3969",
              "IPY_MODEL_65566076ffa84bb281bc74ba67b09fb6",
              "IPY_MODEL_cc6480ec3ead4183ac200a7dd80fdbb3"
            ],
            "layout": "IPY_MODEL_4ec34609b96243e9a4673d49f4a74bfc"
          }
        },
        "4140bf208e2d461db42d0aabaa4b3969": {
          "model_module": "@jupyter-widgets/controls",
          "model_name": "HTMLModel",
          "model_module_version": "1.5.0",
          "state": {
            "_dom_classes": [],
            "_model_module": "@jupyter-widgets/controls",
            "_model_module_version": "1.5.0",
            "_model_name": "HTMLModel",
            "_view_count": null,
            "_view_module": "@jupyter-widgets/controls",
            "_view_module_version": "1.5.0",
            "_view_name": "HTMLView",
            "description": "",
            "description_tooltip": null,
            "layout": "IPY_MODEL_803fc2eb501944388c6063d078273923",
            "placeholder": "​",
            "style": "IPY_MODEL_e3d10b9306f54136a1c938829f330014",
            "value": "config.json: 100%"
          }
        },
        "65566076ffa84bb281bc74ba67b09fb6": {
          "model_module": "@jupyter-widgets/controls",
          "model_name": "FloatProgressModel",
          "model_module_version": "1.5.0",
          "state": {
            "_dom_classes": [],
            "_model_module": "@jupyter-widgets/controls",
            "_model_module_version": "1.5.0",
            "_model_name": "FloatProgressModel",
            "_view_count": null,
            "_view_module": "@jupyter-widgets/controls",
            "_view_module_version": "1.5.0",
            "_view_name": "ProgressView",
            "bar_style": "success",
            "description": "",
            "description_tooltip": null,
            "layout": "IPY_MODEL_e93a4c59d3124b878ac88aa90146b4e9",
            "max": 570,
            "min": 0,
            "orientation": "horizontal",
            "style": "IPY_MODEL_3c842ca1cd3f43558ea83cf34f7bde7f",
            "value": 570
          }
        },
        "cc6480ec3ead4183ac200a7dd80fdbb3": {
          "model_module": "@jupyter-widgets/controls",
          "model_name": "HTMLModel",
          "model_module_version": "1.5.0",
          "state": {
            "_dom_classes": [],
            "_model_module": "@jupyter-widgets/controls",
            "_model_module_version": "1.5.0",
            "_model_name": "HTMLModel",
            "_view_count": null,
            "_view_module": "@jupyter-widgets/controls",
            "_view_module_version": "1.5.0",
            "_view_name": "HTMLView",
            "description": "",
            "description_tooltip": null,
            "layout": "IPY_MODEL_791986e2e5194757a64d67eacb90955a",
            "placeholder": "​",
            "style": "IPY_MODEL_9712bc2eb5a74ae5827eb87044eb2876",
            "value": " 570/570 [00:00&lt;00:00, 44.4kB/s]"
          }
        },
        "4ec34609b96243e9a4673d49f4a74bfc": {
          "model_module": "@jupyter-widgets/base",
          "model_name": "LayoutModel",
          "model_module_version": "1.2.0",
          "state": {
            "_model_module": "@jupyter-widgets/base",
            "_model_module_version": "1.2.0",
            "_model_name": "LayoutModel",
            "_view_count": null,
            "_view_module": "@jupyter-widgets/base",
            "_view_module_version": "1.2.0",
            "_view_name": "LayoutView",
            "align_content": null,
            "align_items": null,
            "align_self": null,
            "border": null,
            "bottom": null,
            "display": null,
            "flex": null,
            "flex_flow": null,
            "grid_area": null,
            "grid_auto_columns": null,
            "grid_auto_flow": null,
            "grid_auto_rows": null,
            "grid_column": null,
            "grid_gap": null,
            "grid_row": null,
            "grid_template_areas": null,
            "grid_template_columns": null,
            "grid_template_rows": null,
            "height": null,
            "justify_content": null,
            "justify_items": null,
            "left": null,
            "margin": null,
            "max_height": null,
            "max_width": null,
            "min_height": null,
            "min_width": null,
            "object_fit": null,
            "object_position": null,
            "order": null,
            "overflow": null,
            "overflow_x": null,
            "overflow_y": null,
            "padding": null,
            "right": null,
            "top": null,
            "visibility": null,
            "width": null
          }
        },
        "803fc2eb501944388c6063d078273923": {
          "model_module": "@jupyter-widgets/base",
          "model_name": "LayoutModel",
          "model_module_version": "1.2.0",
          "state": {
            "_model_module": "@jupyter-widgets/base",
            "_model_module_version": "1.2.0",
            "_model_name": "LayoutModel",
            "_view_count": null,
            "_view_module": "@jupyter-widgets/base",
            "_view_module_version": "1.2.0",
            "_view_name": "LayoutView",
            "align_content": null,
            "align_items": null,
            "align_self": null,
            "border": null,
            "bottom": null,
            "display": null,
            "flex": null,
            "flex_flow": null,
            "grid_area": null,
            "grid_auto_columns": null,
            "grid_auto_flow": null,
            "grid_auto_rows": null,
            "grid_column": null,
            "grid_gap": null,
            "grid_row": null,
            "grid_template_areas": null,
            "grid_template_columns": null,
            "grid_template_rows": null,
            "height": null,
            "justify_content": null,
            "justify_items": null,
            "left": null,
            "margin": null,
            "max_height": null,
            "max_width": null,
            "min_height": null,
            "min_width": null,
            "object_fit": null,
            "object_position": null,
            "order": null,
            "overflow": null,
            "overflow_x": null,
            "overflow_y": null,
            "padding": null,
            "right": null,
            "top": null,
            "visibility": null,
            "width": null
          }
        },
        "e3d10b9306f54136a1c938829f330014": {
          "model_module": "@jupyter-widgets/controls",
          "model_name": "DescriptionStyleModel",
          "model_module_version": "1.5.0",
          "state": {
            "_model_module": "@jupyter-widgets/controls",
            "_model_module_version": "1.5.0",
            "_model_name": "DescriptionStyleModel",
            "_view_count": null,
            "_view_module": "@jupyter-widgets/base",
            "_view_module_version": "1.2.0",
            "_view_name": "StyleView",
            "description_width": ""
          }
        },
        "e93a4c59d3124b878ac88aa90146b4e9": {
          "model_module": "@jupyter-widgets/base",
          "model_name": "LayoutModel",
          "model_module_version": "1.2.0",
          "state": {
            "_model_module": "@jupyter-widgets/base",
            "_model_module_version": "1.2.0",
            "_model_name": "LayoutModel",
            "_view_count": null,
            "_view_module": "@jupyter-widgets/base",
            "_view_module_version": "1.2.0",
            "_view_name": "LayoutView",
            "align_content": null,
            "align_items": null,
            "align_self": null,
            "border": null,
            "bottom": null,
            "display": null,
            "flex": null,
            "flex_flow": null,
            "grid_area": null,
            "grid_auto_columns": null,
            "grid_auto_flow": null,
            "grid_auto_rows": null,
            "grid_column": null,
            "grid_gap": null,
            "grid_row": null,
            "grid_template_areas": null,
            "grid_template_columns": null,
            "grid_template_rows": null,
            "height": null,
            "justify_content": null,
            "justify_items": null,
            "left": null,
            "margin": null,
            "max_height": null,
            "max_width": null,
            "min_height": null,
            "min_width": null,
            "object_fit": null,
            "object_position": null,
            "order": null,
            "overflow": null,
            "overflow_x": null,
            "overflow_y": null,
            "padding": null,
            "right": null,
            "top": null,
            "visibility": null,
            "width": null
          }
        },
        "3c842ca1cd3f43558ea83cf34f7bde7f": {
          "model_module": "@jupyter-widgets/controls",
          "model_name": "ProgressStyleModel",
          "model_module_version": "1.5.0",
          "state": {
            "_model_module": "@jupyter-widgets/controls",
            "_model_module_version": "1.5.0",
            "_model_name": "ProgressStyleModel",
            "_view_count": null,
            "_view_module": "@jupyter-widgets/base",
            "_view_module_version": "1.2.0",
            "_view_name": "StyleView",
            "bar_color": null,
            "description_width": ""
          }
        },
        "791986e2e5194757a64d67eacb90955a": {
          "model_module": "@jupyter-widgets/base",
          "model_name": "LayoutModel",
          "model_module_version": "1.2.0",
          "state": {
            "_model_module": "@jupyter-widgets/base",
            "_model_module_version": "1.2.0",
            "_model_name": "LayoutModel",
            "_view_count": null,
            "_view_module": "@jupyter-widgets/base",
            "_view_module_version": "1.2.0",
            "_view_name": "LayoutView",
            "align_content": null,
            "align_items": null,
            "align_self": null,
            "border": null,
            "bottom": null,
            "display": null,
            "flex": null,
            "flex_flow": null,
            "grid_area": null,
            "grid_auto_columns": null,
            "grid_auto_flow": null,
            "grid_auto_rows": null,
            "grid_column": null,
            "grid_gap": null,
            "grid_row": null,
            "grid_template_areas": null,
            "grid_template_columns": null,
            "grid_template_rows": null,
            "height": null,
            "justify_content": null,
            "justify_items": null,
            "left": null,
            "margin": null,
            "max_height": null,
            "max_width": null,
            "min_height": null,
            "min_width": null,
            "object_fit": null,
            "object_position": null,
            "order": null,
            "overflow": null,
            "overflow_x": null,
            "overflow_y": null,
            "padding": null,
            "right": null,
            "top": null,
            "visibility": null,
            "width": null
          }
        },
        "9712bc2eb5a74ae5827eb87044eb2876": {
          "model_module": "@jupyter-widgets/controls",
          "model_name": "DescriptionStyleModel",
          "model_module_version": "1.5.0",
          "state": {
            "_model_module": "@jupyter-widgets/controls",
            "_model_module_version": "1.5.0",
            "_model_name": "DescriptionStyleModel",
            "_view_count": null,
            "_view_module": "@jupyter-widgets/base",
            "_view_module_version": "1.2.0",
            "_view_name": "StyleView",
            "description_width": ""
          }
        },
        "5e78153680684d1c9d022d5eca16d0cd": {
          "model_module": "@jupyter-widgets/controls",
          "model_name": "HBoxModel",
          "model_module_version": "1.5.0",
          "state": {
            "_dom_classes": [],
            "_model_module": "@jupyter-widgets/controls",
            "_model_module_version": "1.5.0",
            "_model_name": "HBoxModel",
            "_view_count": null,
            "_view_module": "@jupyter-widgets/controls",
            "_view_module_version": "1.5.0",
            "_view_name": "HBoxView",
            "box_style": "",
            "children": [
              "IPY_MODEL_8e7105980fea4fd8a1c836a61e4d9b3c",
              "IPY_MODEL_8d15d855f4ea4592b2a1e584c58d6e54",
              "IPY_MODEL_d69a1b40aad245ef9d05b9658016a427"
            ],
            "layout": "IPY_MODEL_7528a9c2f934402d886f81f7e62f97a5"
          }
        },
        "8e7105980fea4fd8a1c836a61e4d9b3c": {
          "model_module": "@jupyter-widgets/controls",
          "model_name": "HTMLModel",
          "model_module_version": "1.5.0",
          "state": {
            "_dom_classes": [],
            "_model_module": "@jupyter-widgets/controls",
            "_model_module_version": "1.5.0",
            "_model_name": "HTMLModel",
            "_view_count": null,
            "_view_module": "@jupyter-widgets/controls",
            "_view_module_version": "1.5.0",
            "_view_name": "HTMLView",
            "description": "",
            "description_tooltip": null,
            "layout": "IPY_MODEL_d738cb58feb04bccb7b6ce7e634addd1",
            "placeholder": "​",
            "style": "IPY_MODEL_3c5ac358f0cd4b36aa895afdb87e41a2",
            "value": "vocab.txt: 100%"
          }
        },
        "8d15d855f4ea4592b2a1e584c58d6e54": {
          "model_module": "@jupyter-widgets/controls",
          "model_name": "FloatProgressModel",
          "model_module_version": "1.5.0",
          "state": {
            "_dom_classes": [],
            "_model_module": "@jupyter-widgets/controls",
            "_model_module_version": "1.5.0",
            "_model_name": "FloatProgressModel",
            "_view_count": null,
            "_view_module": "@jupyter-widgets/controls",
            "_view_module_version": "1.5.0",
            "_view_name": "ProgressView",
            "bar_style": "success",
            "description": "",
            "description_tooltip": null,
            "layout": "IPY_MODEL_67e5e2b58f7d4355b01231c548a7e336",
            "max": 231508,
            "min": 0,
            "orientation": "horizontal",
            "style": "IPY_MODEL_8df9894044f74cdbbacd230f9a23be60",
            "value": 231508
          }
        },
        "d69a1b40aad245ef9d05b9658016a427": {
          "model_module": "@jupyter-widgets/controls",
          "model_name": "HTMLModel",
          "model_module_version": "1.5.0",
          "state": {
            "_dom_classes": [],
            "_model_module": "@jupyter-widgets/controls",
            "_model_module_version": "1.5.0",
            "_model_name": "HTMLModel",
            "_view_count": null,
            "_view_module": "@jupyter-widgets/controls",
            "_view_module_version": "1.5.0",
            "_view_name": "HTMLView",
            "description": "",
            "description_tooltip": null,
            "layout": "IPY_MODEL_7de27114aa2a42a0b9b3b77b2fdc7d5c",
            "placeholder": "​",
            "style": "IPY_MODEL_60a10dc8865246a7bb43e76bbece4152",
            "value": " 232k/232k [00:00&lt;00:00, 1.70MB/s]"
          }
        },
        "7528a9c2f934402d886f81f7e62f97a5": {
          "model_module": "@jupyter-widgets/base",
          "model_name": "LayoutModel",
          "model_module_version": "1.2.0",
          "state": {
            "_model_module": "@jupyter-widgets/base",
            "_model_module_version": "1.2.0",
            "_model_name": "LayoutModel",
            "_view_count": null,
            "_view_module": "@jupyter-widgets/base",
            "_view_module_version": "1.2.0",
            "_view_name": "LayoutView",
            "align_content": null,
            "align_items": null,
            "align_self": null,
            "border": null,
            "bottom": null,
            "display": null,
            "flex": null,
            "flex_flow": null,
            "grid_area": null,
            "grid_auto_columns": null,
            "grid_auto_flow": null,
            "grid_auto_rows": null,
            "grid_column": null,
            "grid_gap": null,
            "grid_row": null,
            "grid_template_areas": null,
            "grid_template_columns": null,
            "grid_template_rows": null,
            "height": null,
            "justify_content": null,
            "justify_items": null,
            "left": null,
            "margin": null,
            "max_height": null,
            "max_width": null,
            "min_height": null,
            "min_width": null,
            "object_fit": null,
            "object_position": null,
            "order": null,
            "overflow": null,
            "overflow_x": null,
            "overflow_y": null,
            "padding": null,
            "right": null,
            "top": null,
            "visibility": null,
            "width": null
          }
        },
        "d738cb58feb04bccb7b6ce7e634addd1": {
          "model_module": "@jupyter-widgets/base",
          "model_name": "LayoutModel",
          "model_module_version": "1.2.0",
          "state": {
            "_model_module": "@jupyter-widgets/base",
            "_model_module_version": "1.2.0",
            "_model_name": "LayoutModel",
            "_view_count": null,
            "_view_module": "@jupyter-widgets/base",
            "_view_module_version": "1.2.0",
            "_view_name": "LayoutView",
            "align_content": null,
            "align_items": null,
            "align_self": null,
            "border": null,
            "bottom": null,
            "display": null,
            "flex": null,
            "flex_flow": null,
            "grid_area": null,
            "grid_auto_columns": null,
            "grid_auto_flow": null,
            "grid_auto_rows": null,
            "grid_column": null,
            "grid_gap": null,
            "grid_row": null,
            "grid_template_areas": null,
            "grid_template_columns": null,
            "grid_template_rows": null,
            "height": null,
            "justify_content": null,
            "justify_items": null,
            "left": null,
            "margin": null,
            "max_height": null,
            "max_width": null,
            "min_height": null,
            "min_width": null,
            "object_fit": null,
            "object_position": null,
            "order": null,
            "overflow": null,
            "overflow_x": null,
            "overflow_y": null,
            "padding": null,
            "right": null,
            "top": null,
            "visibility": null,
            "width": null
          }
        },
        "3c5ac358f0cd4b36aa895afdb87e41a2": {
          "model_module": "@jupyter-widgets/controls",
          "model_name": "DescriptionStyleModel",
          "model_module_version": "1.5.0",
          "state": {
            "_model_module": "@jupyter-widgets/controls",
            "_model_module_version": "1.5.0",
            "_model_name": "DescriptionStyleModel",
            "_view_count": null,
            "_view_module": "@jupyter-widgets/base",
            "_view_module_version": "1.2.0",
            "_view_name": "StyleView",
            "description_width": ""
          }
        },
        "67e5e2b58f7d4355b01231c548a7e336": {
          "model_module": "@jupyter-widgets/base",
          "model_name": "LayoutModel",
          "model_module_version": "1.2.0",
          "state": {
            "_model_module": "@jupyter-widgets/base",
            "_model_module_version": "1.2.0",
            "_model_name": "LayoutModel",
            "_view_count": null,
            "_view_module": "@jupyter-widgets/base",
            "_view_module_version": "1.2.0",
            "_view_name": "LayoutView",
            "align_content": null,
            "align_items": null,
            "align_self": null,
            "border": null,
            "bottom": null,
            "display": null,
            "flex": null,
            "flex_flow": null,
            "grid_area": null,
            "grid_auto_columns": null,
            "grid_auto_flow": null,
            "grid_auto_rows": null,
            "grid_column": null,
            "grid_gap": null,
            "grid_row": null,
            "grid_template_areas": null,
            "grid_template_columns": null,
            "grid_template_rows": null,
            "height": null,
            "justify_content": null,
            "justify_items": null,
            "left": null,
            "margin": null,
            "max_height": null,
            "max_width": null,
            "min_height": null,
            "min_width": null,
            "object_fit": null,
            "object_position": null,
            "order": null,
            "overflow": null,
            "overflow_x": null,
            "overflow_y": null,
            "padding": null,
            "right": null,
            "top": null,
            "visibility": null,
            "width": null
          }
        },
        "8df9894044f74cdbbacd230f9a23be60": {
          "model_module": "@jupyter-widgets/controls",
          "model_name": "ProgressStyleModel",
          "model_module_version": "1.5.0",
          "state": {
            "_model_module": "@jupyter-widgets/controls",
            "_model_module_version": "1.5.0",
            "_model_name": "ProgressStyleModel",
            "_view_count": null,
            "_view_module": "@jupyter-widgets/base",
            "_view_module_version": "1.2.0",
            "_view_name": "StyleView",
            "bar_color": null,
            "description_width": ""
          }
        },
        "7de27114aa2a42a0b9b3b77b2fdc7d5c": {
          "model_module": "@jupyter-widgets/base",
          "model_name": "LayoutModel",
          "model_module_version": "1.2.0",
          "state": {
            "_model_module": "@jupyter-widgets/base",
            "_model_module_version": "1.2.0",
            "_model_name": "LayoutModel",
            "_view_count": null,
            "_view_module": "@jupyter-widgets/base",
            "_view_module_version": "1.2.0",
            "_view_name": "LayoutView",
            "align_content": null,
            "align_items": null,
            "align_self": null,
            "border": null,
            "bottom": null,
            "display": null,
            "flex": null,
            "flex_flow": null,
            "grid_area": null,
            "grid_auto_columns": null,
            "grid_auto_flow": null,
            "grid_auto_rows": null,
            "grid_column": null,
            "grid_gap": null,
            "grid_row": null,
            "grid_template_areas": null,
            "grid_template_columns": null,
            "grid_template_rows": null,
            "height": null,
            "justify_content": null,
            "justify_items": null,
            "left": null,
            "margin": null,
            "max_height": null,
            "max_width": null,
            "min_height": null,
            "min_width": null,
            "object_fit": null,
            "object_position": null,
            "order": null,
            "overflow": null,
            "overflow_x": null,
            "overflow_y": null,
            "padding": null,
            "right": null,
            "top": null,
            "visibility": null,
            "width": null
          }
        },
        "60a10dc8865246a7bb43e76bbece4152": {
          "model_module": "@jupyter-widgets/controls",
          "model_name": "DescriptionStyleModel",
          "model_module_version": "1.5.0",
          "state": {
            "_model_module": "@jupyter-widgets/controls",
            "_model_module_version": "1.5.0",
            "_model_name": "DescriptionStyleModel",
            "_view_count": null,
            "_view_module": "@jupyter-widgets/base",
            "_view_module_version": "1.2.0",
            "_view_name": "StyleView",
            "description_width": ""
          }
        },
        "78e718e11f4d4fe6a8799d2dd705663e": {
          "model_module": "@jupyter-widgets/controls",
          "model_name": "HBoxModel",
          "model_module_version": "1.5.0",
          "state": {
            "_dom_classes": [],
            "_model_module": "@jupyter-widgets/controls",
            "_model_module_version": "1.5.0",
            "_model_name": "HBoxModel",
            "_view_count": null,
            "_view_module": "@jupyter-widgets/controls",
            "_view_module_version": "1.5.0",
            "_view_name": "HBoxView",
            "box_style": "",
            "children": [
              "IPY_MODEL_ca229c27634946d49d98acbcf61e6cbb",
              "IPY_MODEL_a309974258ad4356946c1256f0649f7d",
              "IPY_MODEL_c59be3a0abd3418195ea39fa4dbe2d56"
            ],
            "layout": "IPY_MODEL_100376b9c5014cc8bdd7653ed3e7e893"
          }
        },
        "ca229c27634946d49d98acbcf61e6cbb": {
          "model_module": "@jupyter-widgets/controls",
          "model_name": "HTMLModel",
          "model_module_version": "1.5.0",
          "state": {
            "_dom_classes": [],
            "_model_module": "@jupyter-widgets/controls",
            "_model_module_version": "1.5.0",
            "_model_name": "HTMLModel",
            "_view_count": null,
            "_view_module": "@jupyter-widgets/controls",
            "_view_module_version": "1.5.0",
            "_view_name": "HTMLView",
            "description": "",
            "description_tooltip": null,
            "layout": "IPY_MODEL_d30f42c53a4d4dea908aedcf51461cd9",
            "placeholder": "​",
            "style": "IPY_MODEL_cfcaa2672c52484c9a05630688b1a60d",
            "value": "tokenizer.json: 100%"
          }
        },
        "a309974258ad4356946c1256f0649f7d": {
          "model_module": "@jupyter-widgets/controls",
          "model_name": "FloatProgressModel",
          "model_module_version": "1.5.0",
          "state": {
            "_dom_classes": [],
            "_model_module": "@jupyter-widgets/controls",
            "_model_module_version": "1.5.0",
            "_model_name": "FloatProgressModel",
            "_view_count": null,
            "_view_module": "@jupyter-widgets/controls",
            "_view_module_version": "1.5.0",
            "_view_name": "ProgressView",
            "bar_style": "success",
            "description": "",
            "description_tooltip": null,
            "layout": "IPY_MODEL_90b6e1266ec446df8f092811a2dc7406",
            "max": 466062,
            "min": 0,
            "orientation": "horizontal",
            "style": "IPY_MODEL_dd3b6be963a745bbb3457a2b2b30f1f3",
            "value": 466062
          }
        },
        "c59be3a0abd3418195ea39fa4dbe2d56": {
          "model_module": "@jupyter-widgets/controls",
          "model_name": "HTMLModel",
          "model_module_version": "1.5.0",
          "state": {
            "_dom_classes": [],
            "_model_module": "@jupyter-widgets/controls",
            "_model_module_version": "1.5.0",
            "_model_name": "HTMLModel",
            "_view_count": null,
            "_view_module": "@jupyter-widgets/controls",
            "_view_module_version": "1.5.0",
            "_view_name": "HTMLView",
            "description": "",
            "description_tooltip": null,
            "layout": "IPY_MODEL_d070d227a2b746fca07015cae78d123f",
            "placeholder": "​",
            "style": "IPY_MODEL_ee2e86a885534997b0f716f7a427201a",
            "value": " 466k/466k [00:00&lt;00:00, 2.12MB/s]"
          }
        },
        "100376b9c5014cc8bdd7653ed3e7e893": {
          "model_module": "@jupyter-widgets/base",
          "model_name": "LayoutModel",
          "model_module_version": "1.2.0",
          "state": {
            "_model_module": "@jupyter-widgets/base",
            "_model_module_version": "1.2.0",
            "_model_name": "LayoutModel",
            "_view_count": null,
            "_view_module": "@jupyter-widgets/base",
            "_view_module_version": "1.2.0",
            "_view_name": "LayoutView",
            "align_content": null,
            "align_items": null,
            "align_self": null,
            "border": null,
            "bottom": null,
            "display": null,
            "flex": null,
            "flex_flow": null,
            "grid_area": null,
            "grid_auto_columns": null,
            "grid_auto_flow": null,
            "grid_auto_rows": null,
            "grid_column": null,
            "grid_gap": null,
            "grid_row": null,
            "grid_template_areas": null,
            "grid_template_columns": null,
            "grid_template_rows": null,
            "height": null,
            "justify_content": null,
            "justify_items": null,
            "left": null,
            "margin": null,
            "max_height": null,
            "max_width": null,
            "min_height": null,
            "min_width": null,
            "object_fit": null,
            "object_position": null,
            "order": null,
            "overflow": null,
            "overflow_x": null,
            "overflow_y": null,
            "padding": null,
            "right": null,
            "top": null,
            "visibility": null,
            "width": null
          }
        },
        "d30f42c53a4d4dea908aedcf51461cd9": {
          "model_module": "@jupyter-widgets/base",
          "model_name": "LayoutModel",
          "model_module_version": "1.2.0",
          "state": {
            "_model_module": "@jupyter-widgets/base",
            "_model_module_version": "1.2.0",
            "_model_name": "LayoutModel",
            "_view_count": null,
            "_view_module": "@jupyter-widgets/base",
            "_view_module_version": "1.2.0",
            "_view_name": "LayoutView",
            "align_content": null,
            "align_items": null,
            "align_self": null,
            "border": null,
            "bottom": null,
            "display": null,
            "flex": null,
            "flex_flow": null,
            "grid_area": null,
            "grid_auto_columns": null,
            "grid_auto_flow": null,
            "grid_auto_rows": null,
            "grid_column": null,
            "grid_gap": null,
            "grid_row": null,
            "grid_template_areas": null,
            "grid_template_columns": null,
            "grid_template_rows": null,
            "height": null,
            "justify_content": null,
            "justify_items": null,
            "left": null,
            "margin": null,
            "max_height": null,
            "max_width": null,
            "min_height": null,
            "min_width": null,
            "object_fit": null,
            "object_position": null,
            "order": null,
            "overflow": null,
            "overflow_x": null,
            "overflow_y": null,
            "padding": null,
            "right": null,
            "top": null,
            "visibility": null,
            "width": null
          }
        },
        "cfcaa2672c52484c9a05630688b1a60d": {
          "model_module": "@jupyter-widgets/controls",
          "model_name": "DescriptionStyleModel",
          "model_module_version": "1.5.0",
          "state": {
            "_model_module": "@jupyter-widgets/controls",
            "_model_module_version": "1.5.0",
            "_model_name": "DescriptionStyleModel",
            "_view_count": null,
            "_view_module": "@jupyter-widgets/base",
            "_view_module_version": "1.2.0",
            "_view_name": "StyleView",
            "description_width": ""
          }
        },
        "90b6e1266ec446df8f092811a2dc7406": {
          "model_module": "@jupyter-widgets/base",
          "model_name": "LayoutModel",
          "model_module_version": "1.2.0",
          "state": {
            "_model_module": "@jupyter-widgets/base",
            "_model_module_version": "1.2.0",
            "_model_name": "LayoutModel",
            "_view_count": null,
            "_view_module": "@jupyter-widgets/base",
            "_view_module_version": "1.2.0",
            "_view_name": "LayoutView",
            "align_content": null,
            "align_items": null,
            "align_self": null,
            "border": null,
            "bottom": null,
            "display": null,
            "flex": null,
            "flex_flow": null,
            "grid_area": null,
            "grid_auto_columns": null,
            "grid_auto_flow": null,
            "grid_auto_rows": null,
            "grid_column": null,
            "grid_gap": null,
            "grid_row": null,
            "grid_template_areas": null,
            "grid_template_columns": null,
            "grid_template_rows": null,
            "height": null,
            "justify_content": null,
            "justify_items": null,
            "left": null,
            "margin": null,
            "max_height": null,
            "max_width": null,
            "min_height": null,
            "min_width": null,
            "object_fit": null,
            "object_position": null,
            "order": null,
            "overflow": null,
            "overflow_x": null,
            "overflow_y": null,
            "padding": null,
            "right": null,
            "top": null,
            "visibility": null,
            "width": null
          }
        },
        "dd3b6be963a745bbb3457a2b2b30f1f3": {
          "model_module": "@jupyter-widgets/controls",
          "model_name": "ProgressStyleModel",
          "model_module_version": "1.5.0",
          "state": {
            "_model_module": "@jupyter-widgets/controls",
            "_model_module_version": "1.5.0",
            "_model_name": "ProgressStyleModel",
            "_view_count": null,
            "_view_module": "@jupyter-widgets/base",
            "_view_module_version": "1.2.0",
            "_view_name": "StyleView",
            "bar_color": null,
            "description_width": ""
          }
        },
        "d070d227a2b746fca07015cae78d123f": {
          "model_module": "@jupyter-widgets/base",
          "model_name": "LayoutModel",
          "model_module_version": "1.2.0",
          "state": {
            "_model_module": "@jupyter-widgets/base",
            "_model_module_version": "1.2.0",
            "_model_name": "LayoutModel",
            "_view_count": null,
            "_view_module": "@jupyter-widgets/base",
            "_view_module_version": "1.2.0",
            "_view_name": "LayoutView",
            "align_content": null,
            "align_items": null,
            "align_self": null,
            "border": null,
            "bottom": null,
            "display": null,
            "flex": null,
            "flex_flow": null,
            "grid_area": null,
            "grid_auto_columns": null,
            "grid_auto_flow": null,
            "grid_auto_rows": null,
            "grid_column": null,
            "grid_gap": null,
            "grid_row": null,
            "grid_template_areas": null,
            "grid_template_columns": null,
            "grid_template_rows": null,
            "height": null,
            "justify_content": null,
            "justify_items": null,
            "left": null,
            "margin": null,
            "max_height": null,
            "max_width": null,
            "min_height": null,
            "min_width": null,
            "object_fit": null,
            "object_position": null,
            "order": null,
            "overflow": null,
            "overflow_x": null,
            "overflow_y": null,
            "padding": null,
            "right": null,
            "top": null,
            "visibility": null,
            "width": null
          }
        },
        "ee2e86a885534997b0f716f7a427201a": {
          "model_module": "@jupyter-widgets/controls",
          "model_name": "DescriptionStyleModel",
          "model_module_version": "1.5.0",
          "state": {
            "_model_module": "@jupyter-widgets/controls",
            "_model_module_version": "1.5.0",
            "_model_name": "DescriptionStyleModel",
            "_view_count": null,
            "_view_module": "@jupyter-widgets/base",
            "_view_module_version": "1.2.0",
            "_view_name": "StyleView",
            "description_width": ""
          }
        },
        "fb98982665ad4e70af41247951babd87": {
          "model_module": "@jupyter-widgets/controls",
          "model_name": "HBoxModel",
          "model_module_version": "1.5.0",
          "state": {
            "_dom_classes": [],
            "_model_module": "@jupyter-widgets/controls",
            "_model_module_version": "1.5.0",
            "_model_name": "HBoxModel",
            "_view_count": null,
            "_view_module": "@jupyter-widgets/controls",
            "_view_module_version": "1.5.0",
            "_view_name": "HBoxView",
            "box_style": "",
            "children": [
              "IPY_MODEL_88ae1b3751394983afb7ab2ab2aa8469",
              "IPY_MODEL_9edf257c761d42c7919c2f250af7c3be",
              "IPY_MODEL_3f46387f4f3a4652af1efff1602d8ead"
            ],
            "layout": "IPY_MODEL_44b4d73abdfe46b7a2700bbcc82ad13a"
          }
        },
        "88ae1b3751394983afb7ab2ab2aa8469": {
          "model_module": "@jupyter-widgets/controls",
          "model_name": "HTMLModel",
          "model_module_version": "1.5.0",
          "state": {
            "_dom_classes": [],
            "_model_module": "@jupyter-widgets/controls",
            "_model_module_version": "1.5.0",
            "_model_name": "HTMLModel",
            "_view_count": null,
            "_view_module": "@jupyter-widgets/controls",
            "_view_module_version": "1.5.0",
            "_view_name": "HTMLView",
            "description": "",
            "description_tooltip": null,
            "layout": "IPY_MODEL_d3719a9333894ca9bf1480a1b2304c91",
            "placeholder": "​",
            "style": "IPY_MODEL_fea85daef3a2475c84144ea246440e03",
            "value": "model.safetensors: 100%"
          }
        },
        "9edf257c761d42c7919c2f250af7c3be": {
          "model_module": "@jupyter-widgets/controls",
          "model_name": "FloatProgressModel",
          "model_module_version": "1.5.0",
          "state": {
            "_dom_classes": [],
            "_model_module": "@jupyter-widgets/controls",
            "_model_module_version": "1.5.0",
            "_model_name": "FloatProgressModel",
            "_view_count": null,
            "_view_module": "@jupyter-widgets/controls",
            "_view_module_version": "1.5.0",
            "_view_name": "ProgressView",
            "bar_style": "success",
            "description": "",
            "description_tooltip": null,
            "layout": "IPY_MODEL_aa1a36dd48184c9a90186ab9a1324dca",
            "max": 440449768,
            "min": 0,
            "orientation": "horizontal",
            "style": "IPY_MODEL_55c8233a21db4e8d941e1ffc63591e12",
            "value": 440449768
          }
        },
        "3f46387f4f3a4652af1efff1602d8ead": {
          "model_module": "@jupyter-widgets/controls",
          "model_name": "HTMLModel",
          "model_module_version": "1.5.0",
          "state": {
            "_dom_classes": [],
            "_model_module": "@jupyter-widgets/controls",
            "_model_module_version": "1.5.0",
            "_model_name": "HTMLModel",
            "_view_count": null,
            "_view_module": "@jupyter-widgets/controls",
            "_view_module_version": "1.5.0",
            "_view_name": "HTMLView",
            "description": "",
            "description_tooltip": null,
            "layout": "IPY_MODEL_370c70b2804e46d19602afa6ce74fc56",
            "placeholder": "​",
            "style": "IPY_MODEL_57f5a2fab809470eadc5949c8ecf9ea1",
            "value": " 440M/440M [00:05&lt;00:00, 38.1MB/s]"
          }
        },
        "44b4d73abdfe46b7a2700bbcc82ad13a": {
          "model_module": "@jupyter-widgets/base",
          "model_name": "LayoutModel",
          "model_module_version": "1.2.0",
          "state": {
            "_model_module": "@jupyter-widgets/base",
            "_model_module_version": "1.2.0",
            "_model_name": "LayoutModel",
            "_view_count": null,
            "_view_module": "@jupyter-widgets/base",
            "_view_module_version": "1.2.0",
            "_view_name": "LayoutView",
            "align_content": null,
            "align_items": null,
            "align_self": null,
            "border": null,
            "bottom": null,
            "display": null,
            "flex": null,
            "flex_flow": null,
            "grid_area": null,
            "grid_auto_columns": null,
            "grid_auto_flow": null,
            "grid_auto_rows": null,
            "grid_column": null,
            "grid_gap": null,
            "grid_row": null,
            "grid_template_areas": null,
            "grid_template_columns": null,
            "grid_template_rows": null,
            "height": null,
            "justify_content": null,
            "justify_items": null,
            "left": null,
            "margin": null,
            "max_height": null,
            "max_width": null,
            "min_height": null,
            "min_width": null,
            "object_fit": null,
            "object_position": null,
            "order": null,
            "overflow": null,
            "overflow_x": null,
            "overflow_y": null,
            "padding": null,
            "right": null,
            "top": null,
            "visibility": null,
            "width": null
          }
        },
        "d3719a9333894ca9bf1480a1b2304c91": {
          "model_module": "@jupyter-widgets/base",
          "model_name": "LayoutModel",
          "model_module_version": "1.2.0",
          "state": {
            "_model_module": "@jupyter-widgets/base",
            "_model_module_version": "1.2.0",
            "_model_name": "LayoutModel",
            "_view_count": null,
            "_view_module": "@jupyter-widgets/base",
            "_view_module_version": "1.2.0",
            "_view_name": "LayoutView",
            "align_content": null,
            "align_items": null,
            "align_self": null,
            "border": null,
            "bottom": null,
            "display": null,
            "flex": null,
            "flex_flow": null,
            "grid_area": null,
            "grid_auto_columns": null,
            "grid_auto_flow": null,
            "grid_auto_rows": null,
            "grid_column": null,
            "grid_gap": null,
            "grid_row": null,
            "grid_template_areas": null,
            "grid_template_columns": null,
            "grid_template_rows": null,
            "height": null,
            "justify_content": null,
            "justify_items": null,
            "left": null,
            "margin": null,
            "max_height": null,
            "max_width": null,
            "min_height": null,
            "min_width": null,
            "object_fit": null,
            "object_position": null,
            "order": null,
            "overflow": null,
            "overflow_x": null,
            "overflow_y": null,
            "padding": null,
            "right": null,
            "top": null,
            "visibility": null,
            "width": null
          }
        },
        "fea85daef3a2475c84144ea246440e03": {
          "model_module": "@jupyter-widgets/controls",
          "model_name": "DescriptionStyleModel",
          "model_module_version": "1.5.0",
          "state": {
            "_model_module": "@jupyter-widgets/controls",
            "_model_module_version": "1.5.0",
            "_model_name": "DescriptionStyleModel",
            "_view_count": null,
            "_view_module": "@jupyter-widgets/base",
            "_view_module_version": "1.2.0",
            "_view_name": "StyleView",
            "description_width": ""
          }
        },
        "aa1a36dd48184c9a90186ab9a1324dca": {
          "model_module": "@jupyter-widgets/base",
          "model_name": "LayoutModel",
          "model_module_version": "1.2.0",
          "state": {
            "_model_module": "@jupyter-widgets/base",
            "_model_module_version": "1.2.0",
            "_model_name": "LayoutModel",
            "_view_count": null,
            "_view_module": "@jupyter-widgets/base",
            "_view_module_version": "1.2.0",
            "_view_name": "LayoutView",
            "align_content": null,
            "align_items": null,
            "align_self": null,
            "border": null,
            "bottom": null,
            "display": null,
            "flex": null,
            "flex_flow": null,
            "grid_area": null,
            "grid_auto_columns": null,
            "grid_auto_flow": null,
            "grid_auto_rows": null,
            "grid_column": null,
            "grid_gap": null,
            "grid_row": null,
            "grid_template_areas": null,
            "grid_template_columns": null,
            "grid_template_rows": null,
            "height": null,
            "justify_content": null,
            "justify_items": null,
            "left": null,
            "margin": null,
            "max_height": null,
            "max_width": null,
            "min_height": null,
            "min_width": null,
            "object_fit": null,
            "object_position": null,
            "order": null,
            "overflow": null,
            "overflow_x": null,
            "overflow_y": null,
            "padding": null,
            "right": null,
            "top": null,
            "visibility": null,
            "width": null
          }
        },
        "55c8233a21db4e8d941e1ffc63591e12": {
          "model_module": "@jupyter-widgets/controls",
          "model_name": "ProgressStyleModel",
          "model_module_version": "1.5.0",
          "state": {
            "_model_module": "@jupyter-widgets/controls",
            "_model_module_version": "1.5.0",
            "_model_name": "ProgressStyleModel",
            "_view_count": null,
            "_view_module": "@jupyter-widgets/base",
            "_view_module_version": "1.2.0",
            "_view_name": "StyleView",
            "bar_color": null,
            "description_width": ""
          }
        },
        "370c70b2804e46d19602afa6ce74fc56": {
          "model_module": "@jupyter-widgets/base",
          "model_name": "LayoutModel",
          "model_module_version": "1.2.0",
          "state": {
            "_model_module": "@jupyter-widgets/base",
            "_model_module_version": "1.2.0",
            "_model_name": "LayoutModel",
            "_view_count": null,
            "_view_module": "@jupyter-widgets/base",
            "_view_module_version": "1.2.0",
            "_view_name": "LayoutView",
            "align_content": null,
            "align_items": null,
            "align_self": null,
            "border": null,
            "bottom": null,
            "display": null,
            "flex": null,
            "flex_flow": null,
            "grid_area": null,
            "grid_auto_columns": null,
            "grid_auto_flow": null,
            "grid_auto_rows": null,
            "grid_column": null,
            "grid_gap": null,
            "grid_row": null,
            "grid_template_areas": null,
            "grid_template_columns": null,
            "grid_template_rows": null,
            "height": null,
            "justify_content": null,
            "justify_items": null,
            "left": null,
            "margin": null,
            "max_height": null,
            "max_width": null,
            "min_height": null,
            "min_width": null,
            "object_fit": null,
            "object_position": null,
            "order": null,
            "overflow": null,
            "overflow_x": null,
            "overflow_y": null,
            "padding": null,
            "right": null,
            "top": null,
            "visibility": null,
            "width": null
          }
        },
        "57f5a2fab809470eadc5949c8ecf9ea1": {
          "model_module": "@jupyter-widgets/controls",
          "model_name": "DescriptionStyleModel",
          "model_module_version": "1.5.0",
          "state": {
            "_model_module": "@jupyter-widgets/controls",
            "_model_module_version": "1.5.0",
            "_model_name": "DescriptionStyleModel",
            "_view_count": null,
            "_view_module": "@jupyter-widgets/base",
            "_view_module_version": "1.2.0",
            "_view_name": "StyleView",
            "description_width": ""
          }
        }
      }
    }
  },
  "nbformat": 4,
  "nbformat_minor": 0
}